{
 "cells": [
  {
   "cell_type": "code",
   "execution_count": 1,
   "id": "95ecf0d4-02da-44a3-8515-7322bf48ebfc",
   "metadata": {},
   "outputs": [
    {
     "name": "stderr",
     "output_type": "stream",
     "text": [
      "24/12/05 10:49:23 WARN NativeCodeLoader: Unable to load native-hadoop library for your platform... using builtin-java classes where applicable\n",
      "Using Spark's default log4j profile: org/apache/spark/log4j-defaults.properties\n",
      "Setting default log level to \"WARN\".\n",
      "To adjust logging level use sc.setLogLevel(newLevel). For SparkR, use setLogLevel(newLevel).\n"
     ]
    }
   ],
   "source": [
    "from pyspark import SparkConf, SparkContext\n",
    "\n",
    "conf = SparkConf().setMaster(\"local\").setAppName(\"241205_03_reduce\")\n",
    "spark = SparkContext(conf=conf).getOrCreate()"
   ]
  },
  {
   "cell_type": "markdown",
   "id": "be323064-e055-4e4c-96c3-fba3c25464df",
   "metadata": {},
   "source": [
    "## Reduce : 여러개의 값을 하나로 축약"
   ]
  },
  {
   "cell_type": "code",
   "execution_count": 2,
   "id": "1926ee6b-daab-468c-9000-482cdc901791",
   "metadata": {},
   "outputs": [
    {
     "data": {
      "text/plain": [
       "ParallelCollectionRDD[0] at readRDDFromFile at PythonRDD.scala:274"
      ]
     },
     "execution_count": 2,
     "metadata": {},
     "output_type": "execute_result"
    }
   ],
   "source": [
    "sample_rdd = spark.parallelize([1,2,3,4,5])\n",
    "sample_rdd"
   ]
  },
  {
   "cell_type": "code",
   "execution_count": 3,
   "id": "b736466a-9c72-4116-a35d-2e7e4b928c5a",
   "metadata": {},
   "outputs": [
    {
     "name": "stderr",
     "output_type": "stream",
     "text": [
      "                                                                                \r"
     ]
    },
    {
     "data": {
      "text/plain": [
       "15"
      ]
     },
     "execution_count": 3,
     "metadata": {},
     "output_type": "execute_result"
    }
   ],
   "source": [
    "from operator import add\n",
    "\n",
    "sample_rdd.reduce(add)"
   ]
  },
  {
   "cell_type": "code",
   "execution_count": 4,
   "id": "5bac9e65-bdab-4365-9463-b67018535d33",
   "metadata": {},
   "outputs": [
    {
     "data": {
      "text/plain": [
       "'\\nlambda x,y : (x*2) + y\\n1: x=1, y=2 >> 1*2 + 2 = 4\\n\\n\\n'"
      ]
     },
     "execution_count": 4,
     "metadata": {},
     "output_type": "execute_result"
    }
   ],
   "source": [
    "## 만약 파티션이 나뉘어져 있다면\n",
    "'''\n",
    "lambda x,y : (x*2) + y\n",
    "1: x=1, y=2 >> 1*2 + 2 = 4\n",
    "\n",
    "\n",
    "'''"
   ]
  },
  {
   "cell_type": "code",
   "execution_count": 22,
   "id": "53634510-f990-4a03-b474-05414807b9dd",
   "metadata": {},
   "outputs": [
    {
     "data": {
      "text/plain": [
       "26"
      ]
     },
     "execution_count": 22,
     "metadata": {},
     "output_type": "execute_result"
    }
   ],
   "source": [
    "sample_rdd1 = spark.parallelize([1,2,3,4])\n",
    "sample_rdd1.reduce(lambda x,y : (x*2)+y)"
   ]
  },
  {
   "cell_type": "code",
   "execution_count": 24,
   "id": "bef32913-0559-483b-8498-46ca6484bf55",
   "metadata": {},
   "outputs": [
    {
     "data": {
      "text/plain": [
       "[[1, 2, 3, 4]]"
      ]
     },
     "execution_count": 24,
     "metadata": {},
     "output_type": "execute_result"
    }
   ],
   "source": [
    "sample_rdd1.glom().collect()"
   ]
  },
  {
   "cell_type": "code",
   "execution_count": 27,
   "id": "c3a2d23e-c0bb-42a4-a0b7-83e4bb2ab456",
   "metadata": {},
   "outputs": [
    {
     "data": {
      "text/plain": [
       "[[1, 2], [3, 4]]"
      ]
     },
     "execution_count": 27,
     "metadata": {},
     "output_type": "execute_result"
    }
   ],
   "source": [
    "# 파티션을 쪼개보기(2개)\n",
    "sample_rdd2 = spark.parallelize([1,2,3,4],2) #파티션을 두개로 직접 쪼개기\n",
    "sample_rdd2.glom().collect()"
   ]
  },
  {
   "cell_type": "code",
   "execution_count": 28,
   "id": "97135dff-11d7-42f8-b80e-4f733c08577e",
   "metadata": {},
   "outputs": [
    {
     "data": {
      "text/plain": [
       "18"
      ]
     },
     "execution_count": 28,
     "metadata": {},
     "output_type": "execute_result"
    }
   ],
   "source": [
    "sample_rdd2.reduce(lambda x,y : (x*2)+y)"
   ]
  },
  {
   "cell_type": "code",
   "execution_count": 35,
   "id": "a18a2e93-f09f-4bf0-88de-228652cf6525",
   "metadata": {},
   "outputs": [
    {
     "data": {
      "text/plain": [
       "18"
      ]
     },
     "execution_count": 35,
     "metadata": {},
     "output_type": "execute_result"
    }
   ],
   "source": [
    "# 파티션을 쪼개보기(3개)\n",
    "sample_rdd3 = spark.parallelize([1,2,3,4],3) #파티션을 세개로 직접 쪼개기\n",
    "sample_rdd3.reduce(lambda x,y : (x*2)+y)"
   ]
  },
  {
   "cell_type": "code",
   "execution_count": 38,
   "id": "dacf490f-ef47-47f7-9d8a-cd4b1f9f4dbd",
   "metadata": {},
   "outputs": [
    {
     "data": {
      "text/plain": [
       "24"
      ]
     },
     "execution_count": 38,
     "metadata": {},
     "output_type": "execute_result"
    }
   ],
   "source": [
    "## fold연산\n",
    "\n",
    "rdd4 = spark.parallelize([2,3,4],4)\n",
    "rdd4.reduce(lambda x,y : x*y)\n"
   ]
  },
  {
   "cell_type": "code",
   "execution_count": 39,
   "id": "90971a1e-0c77-4276-93f5-52231c522715",
   "metadata": {},
   "outputs": [
    {
     "data": {
      "text/plain": [
       "24"
      ]
     },
     "execution_count": 39,
     "metadata": {},
     "output_type": "execute_result"
    }
   ],
   "source": [
    "rdd4.fold(1, lambda x,y:x*y)"
   ]
  },
  {
   "cell_type": "code",
   "execution_count": 43,
   "id": "c1485d73-6fad-472a-805c-77f0ad384188",
   "metadata": {},
   "outputs": [
    {
     "name": "stdout",
     "output_type": "stream",
     "text": [
      "Reduce Error : Can not reduce() empty RDD\n"
     ]
    }
   ],
   "source": [
    "# 빈 RDD\n",
    "rdd5 = spark.parallelize([])\n",
    "\n",
    "try : rdd5.reduce(lambda a,b : a+b) #RDD가 비어있어 reduce할 수 없음, 이를 해결하기 위해 예외처리\n",
    "except ValueError as e : print(f\"Reduce Error : {e}\")"
   ]
  },
  {
   "cell_type": "code",
   "execution_count": 45,
   "id": "0b691f42-dc76-4532-8444-b9d37cec305e",
   "metadata": {},
   "outputs": [
    {
     "data": {
      "text/plain": [
       "0"
      ]
     },
     "execution_count": 45,
     "metadata": {},
     "output_type": "execute_result"
    }
   ],
   "source": [
    "rdd5.fold(0, lambda a,b : a+b)"
   ]
  },
  {
   "cell_type": "markdown",
   "id": "1578bd52-11cd-41a8-9768-f7d341e4e813",
   "metadata": {},
   "source": [
    "## reduce와 fold는 비슷한 기능을 하지만 \n",
    "1. reduce()는 단순한 RDD 축약연산, 비어있지 않은 RDD의 경우\n",
    "2. fold()는 일반적이고 오류가 없는 연산, 초기값을 적용해서 비어있는 RDD, 파티션의 경우에도 적용할 수 있음."
   ]
  },
  {
   "cell_type": "code",
   "execution_count": 46,
   "id": "18f6ce3c-c5ee-49b9-a24e-990aef166399",
   "metadata": {},
   "outputs": [
    {
     "data": {
      "text/plain": [
       "[1, 'a', 2]"
      ]
     },
     "execution_count": 46,
     "metadata": {},
     "output_type": "execute_result"
    }
   ],
   "source": [
    "rdd6 = spark.parallelize([1,\"a\",2]) #다른 타입의 데이터를 합쳐놓음\n",
    "rdd6.collect()"
   ]
  },
  {
   "cell_type": "code",
   "execution_count": 53,
   "id": "791f92dd-1242-4f42-8e8f-0232632577ad",
   "metadata": {},
   "outputs": [],
   "source": [
    "try : rdd6.reduce(lambda x,y:str(x)+str(y)) \n",
    "except TypeError as e : print(f\"Reduce Error : {e}\")"
   ]
  },
  {
   "cell_type": "code",
   "execution_count": 51,
   "id": "e98970fc-f652-4931-b7ee-d454b402de0e",
   "metadata": {},
   "outputs": [
    {
     "data": {
      "text/plain": [
       "'1a2'"
      ]
     },
     "execution_count": 51,
     "metadata": {},
     "output_type": "execute_result"
    }
   ],
   "source": [
    "rdd6.fold(\"\",lambda x,y:str(x) + str(y))"
   ]
  },
  {
   "cell_type": "code",
   "execution_count": 54,
   "id": "3400db86-14a8-4cd7-8d88-14dc96f806c9",
   "metadata": {},
   "outputs": [
    {
     "data": {
      "text/plain": [
       "[1, 2, 1, 1, 3, 5, 5, 8]"
      ]
     },
     "execution_count": 54,
     "metadata": {},
     "output_type": "execute_result"
    }
   ],
   "source": [
    "## groupBy(), aggregate()\n",
    "\n",
    "rdd7 = spark.parallelize([1,2,1,1,3,5,5,8])\n",
    "rdd7.collect()"
   ]
  },
  {
   "cell_type": "code",
   "execution_count": 58,
   "id": "ba4bdd0b-40f9-4d04-916f-9e60640134a4",
   "metadata": {},
   "outputs": [],
   "source": [
    "result = rdd7.groupBy(lambda x: x%2).collect()"
   ]
  },
  {
   "cell_type": "code",
   "execution_count": 60,
   "id": "f26c252e-e457-4833-84f6-9ef6e874b0dd",
   "metadata": {},
   "outputs": [
    {
     "data": {
      "text/plain": [
       "[(0, [2, 8]), (1, [1, 1, 1, 3, 5, 5])]"
      ]
     },
     "execution_count": 60,
     "metadata": {},
     "output_type": "execute_result"
    }
   ],
   "source": [
    "sorted([(x,sorted(y)) for (x,y) in result])"
   ]
  },
  {
   "cell_type": "code",
   "execution_count": 61,
   "id": "7fd4f2ee-4e7b-49b9-8c3c-8aabc0a0f90b",
   "metadata": {},
   "outputs": [],
   "source": [
    "func1 = lambda x,y : (x[0]+y, x[1]+1)\n",
    "func2 = lambda x,y : (x[0]+y[0], x[1]+y[1])"
   ]
  },
  {
   "cell_type": "code",
   "execution_count": 63,
   "id": "fe4d47b7-12c6-4be9-8fed-500d27eec383",
   "metadata": {},
   "outputs": [],
   "source": [
    "rdd8 = spark.parallelize([1,2,3,4], 2)"
   ]
  },
  {
   "cell_type": "code",
   "execution_count": 64,
   "id": "ad8092f1-37ec-43eb-8da5-71c351bc42b4",
   "metadata": {},
   "outputs": [
    {
     "data": {
      "text/plain": [
       "(10, 4)"
      ]
     },
     "execution_count": 64,
     "metadata": {},
     "output_type": "execute_result"
    }
   ],
   "source": [
    "rdd8.aggregate( (0,0) , func1, func2) #초기값(0,0)과 각각 func1과 func2로 지정"
   ]
  },
  {
   "cell_type": "code",
   "execution_count": null,
   "id": "d542d67f-fac4-44e1-b103-f45f24bc80b4",
   "metadata": {},
   "outputs": [],
   "source": [
    "p1\n",
    "x=[1,2], zerovalue=[0,0]\n",
    "x[0] = 0, x[1] = 0\n",
    "x[0] + y = 0+1 = 1, x[1] + y = 0+1 = 1 >> (1,1)\n",
    "x[0] + y =1+2 = 3, x[1] + 1 = 1+1 = 2 >> (3,2)\n",
    "\n",
    "p2\n",
    "x=[3,4], zerovalue=[0,0]\n",
    "x[0]=0, x[1]=0\n",
    "x[0] + y = 0+3 = 3, x[1] + y = 0+1 = 1 >> (3,1)\n",
    "x[0] + y = 3+4 = 7, x[1] + 1 = 1+1 = 2 >> (7,2)\n",
    "\n",
    "p1, p2\n",
    "x = (3,2) y = (7,2)\n",
    "x[0]+y[0]=3+7=10, x[1]+y[1]=2+2=4 >> (10,4)"
   ]
  },
  {
   "cell_type": "code",
   "execution_count": 65,
   "id": "50256188-ad5a-416c-a7bb-be2cea2e0db2",
   "metadata": {},
   "outputs": [
    {
     "data": {
      "text/plain": [
       "[[1, 2], [3, 4]]"
      ]
     },
     "execution_count": 65,
     "metadata": {},
     "output_type": "execute_result"
    }
   ],
   "source": [
    "rdd8.glom().collect()"
   ]
  },
  {
   "cell_type": "markdown",
   "id": "ca404d94-f36b-4dae-a1eb-acee6041ebf9",
   "metadata": {},
   "source": [
    "## key-value RDD (paired RDD)\n",
    "\n",
    "groupByKey(),reduceByKey()\n",
    "\n",
    "그룹핑한 후에 특정 트랜스포메이션을 수행, 키가 필요함. "
   ]
  },
  {
   "cell_type": "code",
   "execution_count": 67,
   "id": "b2f2ee0a-ee2c-4a78-90c3-117c36369068",
   "metadata": {},
   "outputs": [],
   "source": [
    "rdd9 = spark.parallelize(\n",
    "    [\n",
    "        ('짜장면', 15),\n",
    "        ('짬뽕', 10),\n",
    "        ('짜장면', 5),\n",
    "        ('짬뽕', 20)\n",
    "    ]\n",
    ")"
   ]
  },
  {
   "cell_type": "code",
   "execution_count": 68,
   "id": "5a333dca-1f30-45b5-8d26-8869993a4762",
   "metadata": {},
   "outputs": [
    {
     "data": {
      "text/plain": [
       "PythonRDD[101] at RDD at PythonRDD.scala:53"
      ]
     },
     "execution_count": 68,
     "metadata": {},
     "output_type": "execute_result"
    }
   ],
   "source": [
    "rdd9_g = rdd9.groupByKey()\n",
    "rdd9_g"
   ]
  },
  {
   "cell_type": "code",
   "execution_count": 70,
   "id": "58de9e3d-81ba-4a7b-9a77-970a8c825741",
   "metadata": {},
   "outputs": [
    {
     "data": {
      "text/plain": [
       "[('짜장면', 2), ('짬뽕', 2)]"
      ]
     },
     "execution_count": 70,
     "metadata": {},
     "output_type": "execute_result"
    }
   ],
   "source": [
    "rdd9_g.mapValues(len).collect() #개수로 받기"
   ]
  },
  {
   "cell_type": "code",
   "execution_count": 71,
   "id": "643d959d-a3d6-4fcf-a88f-4babb9615e0c",
   "metadata": {},
   "outputs": [
    {
     "data": {
      "text/plain": [
       "[('짜장면', [15, 5]), ('짬뽕', [10, 20])]"
      ]
     },
     "execution_count": 71,
     "metadata": {},
     "output_type": "execute_result"
    }
   ],
   "source": [
    "rdd9_g.mapValues(list).collect() #리스트로 각 항목을 모두 받기"
   ]
  },
  {
   "cell_type": "code",
   "execution_count": 73,
   "id": "cb5b0045-fbc9-43ff-a17b-1f52ccff6452",
   "metadata": {},
   "outputs": [
    {
     "data": {
      "text/plain": [
       "[('짜장면', 10.0), ('짬뽕', 15.0)]"
      ]
     },
     "execution_count": 73,
     "metadata": {},
     "output_type": "execute_result"
    }
   ],
   "source": [
    "rdd9_g.mapValues(lambda x: sum(x) / len(x)).collect() #람다 함수로 평균 구하기"
   ]
  },
  {
   "cell_type": "code",
   "execution_count": 74,
   "id": "f57ba2c9-d69d-4729-b650-ecf45c74c100",
   "metadata": {},
   "outputs": [
    {
     "data": {
      "text/plain": [
       "[('짜장면', 20), ('짬뽕', 30)]"
      ]
     },
     "execution_count": 74,
     "metadata": {},
     "output_type": "execute_result"
    }
   ],
   "source": [
    "rdd9.reduceByKey(add).collect() #대게 reduceBy가 groupBy보다 빠르다. "
   ]
  },
  {
   "cell_type": "code",
   "execution_count": 78,
   "id": "37e3660b-6bd8-4e16-872a-58cd8d28302d",
   "metadata": {},
   "outputs": [
    {
     "data": {
      "text/plain": [
       "defaultdict(int, {'짜장면': 2, '짬뽕': 2})"
      ]
     },
     "execution_count": 78,
     "metadata": {},
     "output_type": "execute_result"
    }
   ],
   "source": [
    "# countByKey() : 각 키별로 요소들의 개수를 센다. 이때 action함수로 출력\n",
    "rdd9.countByKey()"
   ]
  },
  {
   "cell_type": "code",
   "execution_count": 80,
   "id": "f1bffe8e-ceb4-4119-8b87-201f950e6d5a",
   "metadata": {},
   "outputs": [
    {
     "data": {
      "text/plain": [
       "['짜장면', '짬뽕', '짜장면', '짬뽕']"
      ]
     },
     "execution_count": 80,
     "metadata": {},
     "output_type": "execute_result"
    }
   ],
   "source": [
    "rdd9.keys().collect()"
   ]
  },
  {
   "cell_type": "code",
   "execution_count": null,
   "id": "24361de8-fa74-40f3-8f66-77d7cfaaeb20",
   "metadata": {},
   "outputs": [],
   "source": [
    "# join -outer join, inner join\n",
    "\n",
    "inner-join : 두개의 집합에서 함께 존재하는 요소(=교집합)의 집합 (default)\n",
    "outer-join : 한쪽에 있고 다른쪽에 없을때 - left, right\n"
   ]
  },
  {
   "cell_type": "code",
   "execution_count": 82,
   "id": "28acdd5c-1a0b-4741-bc76-f3b0220b9527",
   "metadata": {},
   "outputs": [
    {
     "data": {
      "text/plain": [
       "[('b', (20, 20)), ('b', (20, 10)), ('a', (10, 20))]"
      ]
     },
     "execution_count": 82,
     "metadata": {},
     "output_type": "execute_result"
    }
   ],
   "source": [
    "join_rdd1 = spark.parallelize(\n",
    "    [\n",
    "        ('a',10),\n",
    "        ('b',20),\n",
    "        ('c',30)\n",
    "    ]\n",
    ")\n",
    "\n",
    "join_rdd2 = spark.parallelize(\n",
    "    [\n",
    "        ('a',20),\n",
    "        ('b',20),\n",
    "        ('b',10)\n",
    "    ]\n",
    ")\n",
    "\n",
    "join_rdd1.join(join_rdd2).collect()"
   ]
  },
  {
   "cell_type": "code",
   "execution_count": 84,
   "id": "74684486-f4ac-410a-a87c-73c32c086d97",
   "metadata": {},
   "outputs": [
    {
     "data": {
      "text/plain": [
       "[('b', (20, 20)), ('b', (20, 10)), ('c', (30, None)), ('a', (10, 20))]"
      ]
     },
     "execution_count": 84,
     "metadata": {},
     "output_type": "execute_result"
    }
   ],
   "source": [
    "join_rdd1.leftOuterJoin(join_rdd2).collect()"
   ]
  },
  {
   "cell_type": "code",
   "execution_count": 85,
   "id": "fd11a496-8805-4a1b-a8d3-eefa35e7cef5",
   "metadata": {},
   "outputs": [
    {
     "data": {
      "text/plain": [
       "[('b', (20, 20)), ('b', (20, 10)), ('a', (10, 20))]"
      ]
     },
     "execution_count": 85,
     "metadata": {},
     "output_type": "execute_result"
    }
   ],
   "source": [
    "join_rdd1.rightOuterJoin(join_rdd2).collect()"
   ]
  },
  {
   "cell_type": "code",
   "execution_count": null,
   "id": "b0d93fb3-d7c7-4570-9830-1deb08a8bea3",
   "metadata": {},
   "outputs": [],
   "source": []
  },
  {
   "cell_type": "code",
   "execution_count": null,
   "id": "de01a764-a131-4b3d-b890-57f128ba6c10",
   "metadata": {},
   "outputs": [],
   "source": []
  },
  {
   "cell_type": "code",
   "execution_count": null,
   "id": "a4467290-3714-46ea-9a14-66d1ec03eb5a",
   "metadata": {},
   "outputs": [],
   "source": []
  },
  {
   "cell_type": "code",
   "execution_count": null,
   "id": "d8b3596a-086a-4505-aa84-2d78b801834e",
   "metadata": {},
   "outputs": [],
   "source": []
  },
  {
   "cell_type": "code",
   "execution_count": null,
   "id": "abc31bfc-9fb5-4526-bde9-0c1fd0c841b5",
   "metadata": {},
   "outputs": [],
   "source": []
  }
 ],
 "metadata": {
  "kernelspec": {
   "display_name": "Python (spark_start)",
   "language": "python",
   "name": "spark_start"
  },
  "language_info": {
   "codemirror_mode": {
    "name": "ipython",
    "version": 3
   },
   "file_extension": ".py",
   "mimetype": "text/x-python",
   "name": "python",
   "nbconvert_exporter": "python",
   "pygments_lexer": "ipython3",
   "version": "3.8.2"
  }
 },
 "nbformat": 4,
 "nbformat_minor": 5
}
