{
 "cells": [
  {
   "cell_type": "markdown",
   "id": "bbfbe7fa-5419-4703-8692-5ab3a9544199",
   "metadata": {},
   "source": [
    "# 📊 **단기 추세 및 거래량 분석 프로젝트 계획서**\n",
    "\n",
    "---\n",
    "\n",
    "## 🌟 **1. 프로젝트 개요**\n",
    "\n",
    "이 프로젝트는 주가 데이터셋을 기반으로 **래리 윌리엄스의 단기 추세 변곡점 분석법**을 활용하여,  \n",
    "📈 **추세를 식별**하고,  \n",
    "📊 **거래량 및 평균 거래량 비율**을 통해 주식의 상방 혹은 하방을 분석 및 예측하는 것을 목표로 합니다.\n",
    "\n",
    "---\n",
    "\n",
    "## 🗂 **2. 데이터셋 정보**\n",
    "\n",
    "### 🛠️ **원본 데이터셋 (야후 파이낸스에서 수집)**  \n",
    "- 📌 **종목명**  \n",
    "- 📅 **날짜**  \n",
    "- 🔄 **등락률**  \n",
    "- 💵 **종가**  \n",
    "- 📈 **고가**  \n",
    "- 📉 **저가**  \n",
    "- 📊 **거래량**  \n",
    "\n",
    "---\n",
    "\n",
    "## 📄 **3. 전처리 후 최종 데이터셋**\n",
    "\n",
    "| 컬럼명                      | 설명                                                           |\n",
    "|-----------------------------|----------------------------------------------------------------|\n",
    "| **📌 종목명**                | 종목 코드 (확인용)                                            |\n",
    "| **📅 날짜**                  | 거래가 발생한 날짜 (확인용)                                    |\n",
    "| **🔄 등락률(*)**             | 해당 날짜의 등락률 (%)                                         |\n",
    "| **📊 거래량**                | 해당 날짜의 거래량                                             |\n",
    "| **📈 단기 추세**             | 상승 혹은 하락 (래리 윌리엄스 변곡점 투자법 적용)              |\n",
    "| **📊 단기 추세 거래량 비율** | 현재 추세의 누적 거래량 / 이전 추세의 누적 거래량               |\n",
    "| **📉 단기 추세 누적 거래량** | 현재 단기 추세에 누적된 거래량 합계                            |\n",
    "| **📈 거래량 / 평균 20일 거래량** | 거래량 / 최근 20일간의 평균 거래량 (거래량 발생 확인용)         |\n",
    "| **🗓️ 요일**                 | 해당 날짜의 요일 정보 (등락률과 요일의 관계 확인용)             |\n",
    "\n",
    "---\n",
    "\n",
    "## 🔍 **4. 프로젝트 진행 과정**\n",
    "\n",
    "### **1️⃣ 데이터 수집**\n",
    "- **미국 S&P 500** 지수의 데이터를 `yfinance` 라이브러리를 통해 매일 장 마감 후 자동 수집.  \n",
    "- 주요 데이터: 📌 종목명, 📅 날짜, 📈 고가, 📉 저가, 💵 종가, 📊 거래량, 🔄 등락률.\n",
    "\n",
    "---\n",
    "\n",
    "### **2️⃣ 데이터 전처리**\n",
    "- **필요 데이터 선별**:  \n",
    "  📊 거래량, 🔄 등락률, 래리 윌리엄스 변곡점 등 분석에 필요한 컬럼만 추출.  \n",
    "- **지표 계산을 통한 파생 변수 생성**:  \n",
    "  - 📈 단기 추세 및 거래량 비율 계산.  \n",
    "  - 거래량의 **20일 평균 대비 비율** 산출.\n",
    "- **결과 저장**: 전처리된 데이터를 **MySQL** 클라우드 데이터베이스에 저장.\n",
    "\n",
    "---\n",
    "\n",
    "### **3️⃣ 배치 파이프라인**\n",
    "- **📈 일일 분석 및 예측**:\n",
    "  - **MySQL**에 저장된 데이터에 대해 최신 데이터를 자동으로 저장하고 반영해 **상위 20개 추천 종목** 선정.  \n",
    "  - 머신러닝 모델 활용하여 상승/하락 예측 진행.  \n",
    "- **성과 비교 및 검증**:\n",
    "  - 전일 예측한 **20개 종목**의 실제 등락률과 예측값 비교.  \n",
    "  - 최근 예측 성공률 산출 및 기록.\n",
    "\n",
    "---\n",
    "\n",
    "### **4️⃣ 결과 출력 및 대시보드**\n",
    "- **추천 종목 출력**:\n",
    "  - 상위 20개 종목의 🔄 예상 등락률 및 상승 여부\n",
    "- **성과 검증**:\n",
    "  - 전일 예측 성과 및 **성공률을 대시보드 형태**로 시각화.  \n",
    "\n",
    "---\n",
    "\n",
    "## ☁️ **5. 클라우드 아키텍처**\n",
    "\n",
    "1️⃣ **데이터 수집**:  \n",
    "   - `Yahoo Finance` → 📊 Spark 또는 Python으로 원본 데이터 수집 후 **MySQL**에 저장.  \n",
    "\n",
    "2️⃣ **데이터 저장**:  \n",
    "   - AWS RDS (MySQL)에 전처리된 데이터를 저장.  \n",
    "   - 필터링된 데이터를 csv 파일로도 별도 저장.  \n",
    "\n",
    "3️⃣ **배치 처리**:  \n",
    "   - 저장된 데이터를 기반으로 머신러닝 학습 및 예측 실행.  \n",
    "\n",
    "4️⃣ **결과 관리**:  \n",
    "   - 추천 결과 및 검증 데이터를 다시 **MySQL**에 기록.\n",
    "\n",
    "---\n",
    "\n",
    "👍 **필요한 라이브러리**  \n",
    "- Spark  \n",
    "- Pandas  \n",
    "- `yfinance`  \n",
    "- 머신러닝 관련 패키지\n"
   ]
  },
  {
   "cell_type": "markdown",
   "id": "1d7cd5c1-74cf-47b2-ad77-351c4a6d22e4",
   "metadata": {},
   "source": [
    "# **👍필요한 라이브러리 설치👍**"
   ]
  },
  {
   "cell_type": "code",
   "execution_count": 1,
   "id": "66a39a5e-3618-47b8-9928-403f4948947b",
   "metadata": {
    "scrolled": true
   },
   "outputs": [
    {
     "name": "stdout",
     "output_type": "stream",
     "text": [
      "Requirement already satisfied: yfinance in /home/ubuntu/anaconda3/envs/spark_start/lib/python3.8/site-packages (0.2.50)\n",
      "Requirement already satisfied: pandas>=1.3.0 in /home/ubuntu/anaconda3/envs/spark_start/lib/python3.8/site-packages (from yfinance) (1.5.3)\n",
      "Requirement already satisfied: numpy>=1.16.5 in /home/ubuntu/anaconda3/envs/spark_start/lib/python3.8/site-packages (from yfinance) (1.24.4)\n",
      "Requirement already satisfied: requests>=2.31 in /home/ubuntu/anaconda3/envs/spark_start/lib/python3.8/site-packages (from yfinance) (2.32.3)\n",
      "Requirement already satisfied: multitasking>=0.0.7 in /home/ubuntu/anaconda3/envs/spark_start/lib/python3.8/site-packages (from yfinance) (0.0.11)\n",
      "Requirement already satisfied: lxml>=4.9.1 in /home/ubuntu/anaconda3/envs/spark_start/lib/python3.8/site-packages (from yfinance) (5.3.0)\n",
      "Requirement already satisfied: platformdirs>=2.0.0 in /home/ubuntu/anaconda3/envs/spark_start/lib/python3.8/site-packages (from yfinance) (4.3.6)\n",
      "Requirement already satisfied: pytz>=2022.5 in /home/ubuntu/anaconda3/envs/spark_start/lib/python3.8/site-packages (from yfinance) (2024.2)\n",
      "Requirement already satisfied: frozendict>=2.3.4 in /home/ubuntu/anaconda3/envs/spark_start/lib/python3.8/site-packages (from yfinance) (2.4.6)\n",
      "Requirement already satisfied: peewee>=3.16.2 in /home/ubuntu/anaconda3/envs/spark_start/lib/python3.8/site-packages (from yfinance) (3.17.8)\n",
      "Requirement already satisfied: beautifulsoup4>=4.11.1 in /home/ubuntu/anaconda3/envs/spark_start/lib/python3.8/site-packages (from yfinance) (4.12.3)\n",
      "Requirement already satisfied: html5lib>=1.1 in /home/ubuntu/anaconda3/envs/spark_start/lib/python3.8/site-packages (from yfinance) (1.1)\n",
      "Requirement already satisfied: soupsieve>1.2 in /home/ubuntu/anaconda3/envs/spark_start/lib/python3.8/site-packages (from beautifulsoup4>=4.11.1->yfinance) (2.6)\n",
      "Requirement already satisfied: six>=1.9 in /home/ubuntu/anaconda3/envs/spark_start/lib/python3.8/site-packages (from html5lib>=1.1->yfinance) (1.16.0)\n",
      "Requirement already satisfied: webencodings in /home/ubuntu/anaconda3/envs/spark_start/lib/python3.8/site-packages (from html5lib>=1.1->yfinance) (0.5.1)\n",
      "Requirement already satisfied: python-dateutil>=2.8.1 in /home/ubuntu/anaconda3/envs/spark_start/lib/python3.8/site-packages (from pandas>=1.3.0->yfinance) (2.9.0.post0)\n",
      "Requirement already satisfied: charset-normalizer<4,>=2 in /home/ubuntu/anaconda3/envs/spark_start/lib/python3.8/site-packages (from requests>=2.31->yfinance) (3.4.0)\n",
      "Requirement already satisfied: idna<4,>=2.5 in /home/ubuntu/anaconda3/envs/spark_start/lib/python3.8/site-packages (from requests>=2.31->yfinance) (3.10)\n",
      "Requirement already satisfied: urllib3<3,>=1.21.1 in /home/ubuntu/anaconda3/envs/spark_start/lib/python3.8/site-packages (from requests>=2.31->yfinance) (2.2.3)\n",
      "Requirement already satisfied: certifi>=2017.4.17 in /home/ubuntu/anaconda3/envs/spark_start/lib/python3.8/site-packages (from requests>=2.31->yfinance) (2024.8.30)\n",
      "Note: you may need to restart the kernel to use updated packages.\n"
     ]
    }
   ],
   "source": [
    "pip install yfinance"
   ]
  },
  {
   "cell_type": "code",
   "execution_count": 2,
   "id": "dd902233-e4ee-41ab-947c-53afc48a212e",
   "metadata": {
    "scrolled": true
   },
   "outputs": [
    {
     "name": "stdout",
     "output_type": "stream",
     "text": [
      "Requirement already satisfied: pandas in /home/ubuntu/anaconda3/envs/spark_start/lib/python3.8/site-packages (1.5.3)\n",
      "Requirement already satisfied: python-dateutil>=2.8.1 in /home/ubuntu/anaconda3/envs/spark_start/lib/python3.8/site-packages (from pandas) (2.9.0.post0)\n",
      "Requirement already satisfied: pytz>=2020.1 in /home/ubuntu/anaconda3/envs/spark_start/lib/python3.8/site-packages (from pandas) (2024.2)\n",
      "Requirement already satisfied: numpy>=1.20.3 in /home/ubuntu/anaconda3/envs/spark_start/lib/python3.8/site-packages (from pandas) (1.24.4)\n",
      "Requirement already satisfied: six>=1.5 in /home/ubuntu/anaconda3/envs/spark_start/lib/python3.8/site-packages (from python-dateutil>=2.8.1->pandas) (1.16.0)\n",
      "Note: you may need to restart the kernel to use updated packages.\n"
     ]
    }
   ],
   "source": [
    "pip install pandas"
   ]
  },
  {
   "cell_type": "code",
   "execution_count": 3,
   "id": "c1067e6c-a1c8-4c90-98c0-2a939c87820c",
   "metadata": {},
   "outputs": [],
   "source": [
    "# 테스트로 sp 500데이터를 불러오기\n",
    "import yfinance as yf\n",
    "import pandas as pd"
   ]
  },
  {
   "cell_type": "markdown",
   "id": "c3b2b40a-96a7-41d2-87d1-e70b0a3b7295",
   "metadata": {},
   "source": [
    "# **👍주가 원본 데이터를 불러와 SQL에 저장👍**"
   ]
  },
  {
   "cell_type": "code",
   "execution_count": 4,
   "id": "e8e52390-b53a-471a-8128-91fdf16415f6",
   "metadata": {},
   "outputs": [],
   "source": [
    "host_ip = \"15.152.242.221\"\n",
    "user_id = \"spark_user\"\n",
    "user_password = \"1234\""
   ]
  },
  {
   "cell_type": "code",
   "execution_count": 5,
   "id": "c03fedc9-95c6-4dfb-b97b-296def2464c5",
   "metadata": {},
   "outputs": [],
   "source": [
    "import os\n",
    "os.environ[\"PYSPARK_SUBMIT_ARGS\"] = \"--jars /usr/local/lib/mysql-connector-java-5.1.49-bin.jar pyspark-shell\""
   ]
  },
  {
   "cell_type": "code",
   "execution_count": 6,
   "id": "e0fafa6f-62f3-4dce-bf08-116cd77cb211",
   "metadata": {},
   "outputs": [
    {
     "name": "stderr",
     "output_type": "stream",
     "text": [
      "24/12/20 15:14:54 WARN NativeCodeLoader: Unable to load native-hadoop library for your platform... using builtin-java classes where applicable\n",
      "Using Spark's default log4j profile: org/apache/spark/log4j-defaults.properties\n",
      "Setting default log level to \"WARN\".\n",
      "To adjust logging level use sc.setLogLevel(newLevel). For SparkR, use setLogLevel(newLevel).\n"
     ]
    }
   ],
   "source": [
    "from pyspark.sql import SparkSession\n",
    "spark = SparkSession.builder \\\n",
    "    .appName(\"mysqlconnect\") \\\n",
    "    .config(\"spark.jars\", \"/usr/local/lib/mysql-connector-java-5.1.49-bin.jar\") \\\n",
    "    .getOrCreate()"
   ]
  },
  {
   "cell_type": "code",
   "execution_count": 7,
   "id": "d36eea18-80e1-4dfb-ab6d-90cad14d3b66",
   "metadata": {},
   "outputs": [
    {
     "name": "stdout",
     "output_type": "stream",
     "text": [
      "Requirement already satisfied: pymysql in /home/ubuntu/anaconda3/envs/spark_start/lib/python3.8/site-packages (1.1.1)\n",
      "Note: you may need to restart the kernel to use updated packages.\n"
     ]
    }
   ],
   "source": [
    "pip install pymysql"
   ]
  },
  {
   "cell_type": "code",
   "execution_count": 8,
   "id": "e45cc015-d4ca-4879-aa09-aacfc2c37937",
   "metadata": {},
   "outputs": [
    {
     "name": "stderr",
     "output_type": "stream",
     "text": [
      "[Stage 0:>                                                          (0 + 1) / 1]\r"
     ]
    },
    {
     "name": "stdout",
     "output_type": "stream",
     "text": [
      "+----------+-------+-------+-------+----------+----------+------+\n",
      "|      날짜|   종가|   고가|   저가|    거래량|    등락률|종목명|\n",
      "+----------+-------+-------+-------+----------+----------+------+\n",
      "|2024-01-01|  100.0|  105.0|   95.0|   1000000|       2.5|  TEST|\n",
      "|2014-01-23|1828.46|1842.29|1820.06|3972250000| -0.888958| ^GSPC|\n",
      "|2014-01-31|1782.59|1793.88|1772.26|4059690000|  -0.64653| ^GSPC|\n",
      "|2014-09-24| 1998.3|1999.79|1978.63|3313850000|  0.783249| ^GSPC|\n",
      "|2014-10-20|1904.01|1905.03| 1882.3|3331210000|  0.914266| ^GSPC|\n",
      "|2016-06-30|2098.86|2098.94| 2070.0|4622820000|    1.3565| ^GSPC|\n",
      "|2016-12-22|2260.96|2263.18|2256.08|2880670000| -0.186297| ^GSPC|\n",
      "|2016-12-23|2263.79|2263.79|2258.84|2021230000|  0.125172| ^GSPC|\n",
      "|2017-03-30|2368.06|2370.42|2358.58|3159680000|  0.293511| ^GSPC|\n",
      "|2017-05-04|2389.52|2391.43|2380.35|4367860000| 0.0582103| ^GSPC|\n",
      "|2017-05-22|2394.02|2395.46|2386.92|3176580000|  0.516013| ^GSPC|\n",
      "|2018-10-22|2755.88|2778.94|2749.22|3331270000| -0.429953| ^GSPC|\n",
      "|2021-09-08|4514.07|4521.79|4493.95|3750880000| -0.131857| ^GSPC|\n",
      "|2022-12-02| 4071.7|4080.48|4026.63|4012620000| -0.119466| ^GSPC|\n",
      "|2014-03-10|1877.17|1877.87|1867.04|3021350000|-0.0463246| ^GSPC|\n",
      "|2015-03-25|2061.05|2097.43|2061.05|3521140000|  -1.45589| ^GSPC|\n",
      "|2018-03-21|2711.93|2739.14|2709.79|3434780000| -0.184399| ^GSPC|\n",
      "|2018-04-16|2677.84|2686.49|2665.16|3020740000|  0.810904| ^GSPC|\n",
      "|2018-10-30|2682.63|2685.43|2635.34|5125600000|   1.56668| ^GSPC|\n",
      "|2020-08-18|3389.78|3395.06|3370.15|3669550000|  0.230339| ^GSPC|\n",
      "+----------+-------+-------+-------+----------+----------+------+\n",
      "only showing top 20 rows\n",
      "\n"
     ]
    },
    {
     "name": "stderr",
     "output_type": "stream",
     "text": [
      "                                                                                \r"
     ]
    }
   ],
   "source": [
    "# 연결 확인\n",
    "mysql_url = f\"jdbc:mysql://{host_ip}:3306/my_db?useSSL=false&characterEncoding=UTF-8\"\n",
    "stock_original_df = spark.read.format(\"jdbc\").options(\n",
    "    url = mysql_url,\n",
    "    driver = \"com.mysql.jdbc.Driver\",\n",
    "    dbtable=\"stock_original_data\",\n",
    "    user=\"spark_user\",\n",
    "    password=\"1234\"\n",
    ").load()\n",
    "\n",
    "stock_original_df.show()"
   ]
  },
  {
   "cell_type": "code",
   "execution_count": 9,
   "id": "ec81af18-038d-44c7-b580-9b596424a07a",
   "metadata": {},
   "outputs": [
    {
     "name": "stdout",
     "output_type": "stream",
     "text": [
      "Requirement already satisfied: pandas==1.5.3 in /home/ubuntu/anaconda3/envs/spark_start/lib/python3.8/site-packages (1.5.3)\n",
      "Requirement already satisfied: python-dateutil>=2.8.1 in /home/ubuntu/anaconda3/envs/spark_start/lib/python3.8/site-packages (from pandas==1.5.3) (2.9.0.post0)\n",
      "Requirement already satisfied: pytz>=2020.1 in /home/ubuntu/anaconda3/envs/spark_start/lib/python3.8/site-packages (from pandas==1.5.3) (2024.2)\n",
      "Requirement already satisfied: numpy>=1.20.3 in /home/ubuntu/anaconda3/envs/spark_start/lib/python3.8/site-packages (from pandas==1.5.3) (1.24.4)\n",
      "Requirement already satisfied: six>=1.5 in /home/ubuntu/anaconda3/envs/spark_start/lib/python3.8/site-packages (from python-dateutil>=2.8.1->pandas==1.5.3) (1.16.0)\n",
      "Note: you may need to restart the kernel to use updated packages.\n"
     ]
    }
   ],
   "source": [
    "%pip install pandas==1.5.3"
   ]
  },
  {
   "cell_type": "code",
   "execution_count": 10,
   "id": "8ce0d427-2c4d-41ae-9361-e47dfd45fbe3",
   "metadata": {},
   "outputs": [],
   "source": [
    "spark.conf.set(\"spark.sql.execution.arrow.pyspark.enabled\", \"false\")"
   ]
  },
  {
   "cell_type": "code",
   "execution_count": 11,
   "id": "0f85af86-ecff-4972-93e3-8f5a42dac0f5",
   "metadata": {},
   "outputs": [],
   "source": [
    "import pandas as pd\n",
    "pd.DataFrame.iteritems = pd.DataFrame.items"
   ]
  },
  {
   "cell_type": "code",
   "execution_count": 12,
   "id": "7e215d11-be15-414f-a27e-9b29c2e3893c",
   "metadata": {},
   "outputs": [],
   "source": [
    "# 원본데이터를 기존의 csv파일로 저장하는 방식에서 sql로 저장하는 방식으로 변경\n",
    "def fetch_and_save_data(ticker, start_date, end_date):\n",
    "\n",
    "    data = yf.download(ticker, start=start_date, end=end_date)     # 데이터 다운로드\n",
    "    data.reset_index(inplace=True)\n",
    "    data[\"Change (%)\"] = data[\"Close\"].pct_change() * 100    # 등락률 계산\n",
    "    data = data[[\"Date\", \"Close\", \"High\", \"Low\", \"Volume\", \"Change (%)\"]]     # 필요한 컬럼만 추출 및 이름 변경\n",
    "    data.columns = [\"날짜\", \"종가\", \"고가\", \"저가\", \"거래량\", \"등락률\"]\n",
    "    data[\"종목명\"] = ticker  # 종목명 컬럼 추가(구분용)\n",
    "    spark_df = spark.createDataFrame(data) # Pandas DataFrame -> Spark DataFrame 변환\n",
    "    spark_df = spark_df.dropna() # NULL 값이 포함된 행은 그냥 완전 제거(어차피 학습할 수 없는 데이터이므로)\n",
    "\n",
    "    # 기존 MySQL 데이터 가져오기\n",
    "    existing_data = spark.read.format(\"jdbc\").options(\n",
    "        url=f\"jdbc:mysql://{host_ip}:3306/my_db?useSSL=false&characterEncoding=UTF-8\",\n",
    "        driver=\"com.mysql.jdbc.Driver\",\n",
    "        dbtable=\"stock_original_data\",\n",
    "        user=\"spark_user\",\n",
    "        password=1234\n",
    "    ).load()\n",
    "\n",
    "    # 기존 SQL에 있는 것과 중복 데이터 제거 (날짜와 종목명 기준)\n",
    "    merged_df = spark_df.join(\n",
    "        existing_data,\n",
    "        (spark_df[\"날짜\"] == existing_data[\"날짜\"]) & (spark_df[\"종목명\"] == existing_data[\"종목명\"]),\n",
    "        how=\"left_anti\"\n",
    "    )\n",
    "\n",
    "    print(f\"{ticker} 데이터를 MySQL에 옮기는 중....\")\n",
    "    \n",
    "    # 중복되지 않은 데이터만 MySQL에 저장\n",
    "    merged_df.write.format(\"jdbc\").options(\n",
    "        url=mysql_url,\n",
    "        driver=\"com.mysql.jdbc.Driver\",\n",
    "        dbtable=\"stock_original_data\",\n",
    "        user=user_id,\n",
    "        password=user_password\n",
    "    ).mode(\"append\").save()\n",
    "\n",
    "    spark.stop()\n",
    "    print(f\"{ticker} 데이터가 성공적으로 저장....\")\n",
    "    "
   ]
  },
  {
   "cell_type": "code",
   "execution_count": 13,
   "id": "26792f08-e23d-4fa4-b678-aebd467985eb",
   "metadata": {},
   "outputs": [
    {
     "name": "stderr",
     "output_type": "stream",
     "text": [
      "[*********************100%***********************]  1 of 1 completed\n"
     ]
    },
    {
     "name": "stdout",
     "output_type": "stream",
     "text": [
      "^GSPC 데이터를 MySQL에 옮기는 중....\n"
     ]
    },
    {
     "name": "stderr",
     "output_type": "stream",
     "text": [
      "                                                                                \r"
     ]
    },
    {
     "name": "stdout",
     "output_type": "stream",
     "text": [
      "^GSPC 데이터가 성공적으로 저장....\n"
     ]
    }
   ],
   "source": [
    "# SQL저장 확인\n",
    "ticker = '^GSPC' #sp500데이터만 SQL에 추가해서 확인해보기\n",
    "start_date = '2014-01-01'\n",
    "end_date = '2024-01-01'\n",
    "\n",
    "fetch_and_save_data(ticker, start_date, end_date)"
   ]
  },
  {
   "attachments": {
    "c090c412-4198-4b24-8c90-b66614354f94.png": {
     "image/png": "[encoded data removed]"
    }
   },
   "cell_type": "markdown",
   "id": "60875b89-17d5-45a7-b8a3-bcaaca5ee96f",
   "metadata": {},
   "source": [
    "![image.png](attachment:c090c412-4198-4b24-8c90-b66614354f94.png)"
   ]
  },
  {
   "cell_type": "markdown",
   "id": "c4ca7016-7b82-433d-bffd-0d4c00e4cd23",
   "metadata": {},
   "source": [
    "# **👍SQL에서 주가 원본 데이터를 불러와 학습 가능한 형태로 변형후 csv에 저장👍**"
   ]
  },
  {
   "cell_type": "code",
   "execution_count": 15,
   "id": "f930d294-01f1-4e72-b916-ae8cc7827a42",
   "metadata": {},
   "outputs": [],
   "source": [
    "# 추세를 분석하는 함수(윌리엄스 변곡점 투자 공식 적용)\n",
    "from datetime import datetime\n",
    "\n",
    "def update_trend(candle_data, current_trend, pre_trend, recorded_point):\n",
    "    \n",
    "    # 단기 저점(상승) 조건1\n",
    "    if (candle_data[1]['저가'] <= candle_data[2]['저가'] and candle_data[1]['저가'] <= candle_data[0]['저가'] and candle_data[1]['고가'] <= candle_data[2]['종가']):\n",
    "        return candle_data, '상승', recorded_point\n",
    "\n",
    "    # 단기 고점(하락) 조건1\n",
    "    elif (candle_data[1]['고가'] >= candle_data[2]['고가'] and candle_data[1]['고가'] >= candle_data[0]['고가'] and candle_data[1]['저가'] >= candle_data[2]['종가']):\n",
    "        return candle_data, '하락', recorded_point\n",
    "\n",
    "    # 단기 저점(상승) 조건2\n",
    "    elif (recorded_point and pre_trend == \"임시 상승\" and candle_data[2]['종가'] >= recorded_point):\n",
    "        return candle_data, '상승', None\n",
    "\n",
    "    # 단기 고점(하락) 조건2\n",
    "    elif (recorded_point and pre_trend == \"임시 하락\" and candle_data[2]['종가'] <= recorded_point) :\n",
    "        return candle_data, '하락', None\n",
    "\n",
    "    # 단기 저점 조건3\n",
    "    elif (candle_data[2]['종가'] > max(candle_data[1]['고가'], candle_data[0]['고가']) * 1.005):\n",
    "        return candle_data, '상승', recorded_point  # 종가가 이전 두 캔들의 고가보다 높을 때\n",
    "\n",
    "    # 단기 고점 조건3\n",
    "    elif (candle_data[2]['종가'] < min(candle_data[1]['고가'], candle_data[0]['고가'])  * 0.995):\n",
    "        return candle_data, '하락', recorded_point  # 종가가 이전 두 캔들의 고가보다 낮을 때\n",
    "\n",
    "    # 임시 상승 조건\n",
    "    elif (candle_data[1]['저가'] < candle_data[2]['저가'] and candle_data[1]['저가'] < candle_data[0]['저가'] and candle_data[1]['고가'] >= candle_data[2]['종가']):\n",
    "        return candle_data, '임시 상승', candle_data[1]['고가']\n",
    "\n",
    "    # 임시 하락 조건\n",
    "    elif (candle_data[1]['고가'] > candle_data[2]['고가'] and candle_data[1]['고가'] > candle_data[0]['고가'] and candle_data[1]['저가'] <= candle_data[2]['종가']):\n",
    "        return candle_data, '임시 하락', candle_data[1]['저가']\n",
    "\n",
    "    else : return candle_data, current_trend, recorded_point\n",
    "\n",
    "# 최근 20일 평균 거래량 대비 오늘의 거래량 비율을 계산하는 함수\n",
    "def calculate_recent_avg_volume(group, index, period=20):\n",
    "    start_idx = max(0, index - period + 1)  # N일 전까지의 시작 인덱스 설정, 단 데이터에 해당 일자만큼 없으면 있는것 만으로 진행\n",
    "    return group.iloc[start_idx:index + 1]['거래량'].mean()"
   ]
  },
  {
   "cell_type": "code",
   "execution_count": 16,
   "id": "339dbd20-c43a-47fb-8a3a-c668ef06f25b",
   "metadata": {},
   "outputs": [],
   "source": [
    "def create_final_dataset_from_sql(output_csv_path, existing_csv_path):\n",
    "    # MySQL에서 새로 학습할 데이터 로드\n",
    "    sql_url = f\"jdbc:mysql://{host_ip}:3306/my_db?useSSL=false&characterEncoding=UTF-8\"\n",
    "    table_name = \"stock_original_data\"\n",
    "    user_id = \"spark_user\"\n",
    "    password = \"1234\"\n",
    "    original_data = spark.read.format(\"jdbc\").options(\n",
    "        url=sql_url,\n",
    "        driver=\"com.mysql.jdbc.Driver\",\n",
    "        dbtable=table_name,\n",
    "        user=user_id,\n",
    "        password=password\n",
    "    ).load().toPandas()\n",
    "\n",
    "    # 기존 CSV 파일 로드\n",
    "    try:\n",
    "        completed_data = pd.read_csv(existing_csv_path, encoding=\"utf-8-sig\")\n",
    "        print(\"기존 CSV 데이터 로드 완료.\")\n",
    "    except FileNotFoundError:\n",
    "        completed_data = pd.DataFrame()  # CSV 파일이 없으면 빈 데이터프레임 생성\n",
    "        print(\"기존 CSV 파일이 없습니다. 새로 생성합니다.\")\n",
    "\n",
    "    # 중복 제거: 날짜와 종목명 기준\n",
    "    if not completed_data.empty:\n",
    "        combined_key_existing = completed_data['날짜'].astype(str) + completed_data['종목명']\n",
    "        combined_key_new = original_data['날짜'].astype(str) + original_data['종목명']\n",
    "        original_data = original_data[~combined_key_new.isin(combined_key_existing)]\n",
    "\n",
    "    if original_data.empty:\n",
    "        print(\"중복 제거 후 저장할 데이터가 없습니다.\")\n",
    "        return\n",
    "\n",
    "    # 추세 계산\n",
    "    final_results = []\n",
    "    grouped = original_data.groupby(\"종목명\")\n",
    "\n",
    "    for ticker, group in grouped:\n",
    "        group = group.sort_values(by=\"날짜\").reset_index(drop=True)\n",
    "        current_trend = \"초기\"\n",
    "        recorded_point = None\n",
    "        current_volume_sum = 0\n",
    "        prev_trend_volume_sum = 0  # 이전 추세 누적 거래량\n",
    "\n",
    "        results = []\n",
    "        for i in range(2, len(group)):\n",
    "            candle_data = [group.iloc[i - 2], group.iloc[i - 1], group.iloc[i]]\n",
    "            _, new_trend, recorded_point = update_trend(candle_data, current_trend, current_trend, recorded_point)\n",
    "\n",
    "            if new_trend == \"임시 상승\" or new_trend == \"임시 하락\":\n",
    "                new_trend = current_trend\n",
    "\n",
    "            if new_trend != current_trend:\n",
    "                # 새로운 추세로 전환 시\n",
    "                prev_trend_volume_sum = current_volume_sum  # 이전 추세의 누적 거래량 저장\n",
    "                current_volume_sum = group.loc[i, '거래량']  # 현재 추세의 첫 거래량으로 초기화\n",
    "            else:\n",
    "                current_volume_sum += group.loc[i, '거래량']\n",
    "\n",
    "            # 단기 추세 거래량 비율 계산\n",
    "            volume_ratio = round(current_volume_sum / prev_trend_volume_sum, 2) if prev_trend_volume_sum > 0 else 1.0\n",
    "\n",
    "            # 20일 평균 거래량 비율 계산\n",
    "            recent_20_avg_volume = calculate_recent_avg_volume(group, i, period=20)\n",
    "            volume_ratio_20 = round(group.loc[i, '거래량'] / recent_20_avg_volume, 2) if recent_20_avg_volume > 0 else 1.0\n",
    "\n",
    "            results.append({\n",
    "                '종목명': group.loc[i, '종목명'],\n",
    "                '날짜': group.loc[i, '날짜'],\n",
    "                '등락률': group.loc[i, '등락률'],\n",
    "                '거래량': group.loc[i, '거래량'],\n",
    "                '단기 추세': new_trend,\n",
    "                '단기 추세 거래량 비율': volume_ratio,\n",
    "                '단기 추세 누적 거래량': current_volume_sum,\n",
    "                '20일 거래량 비율': volume_ratio_20,\n",
    "            })\n",
    "            current_trend = new_trend\n",
    "\n",
    "        final_results.extend(results)\n",
    "\n",
    "    if not final_results:\n",
    "        print(\"최종 결과 리스트에 변화가 없습니다(전부 중복되는 데이터).\")\n",
    "        return\n",
    "\n",
    "    final_df = pd.DataFrame(final_results)\n",
    "\n",
    "    # CSV 파일로 저장 (기존 CSV와 병합)\n",
    "    if not completed_data.empty:\n",
    "        final_df = pd.concat([completed_data, final_df], ignore_index=True)\n",
    "\n",
    "    final_df.to_csv(output_csv_path, index=False, encoding=\"utf-8-sig\")\n",
    "    print(f\"전처리 완료된 데이터가 {output_csv_path}에 저장되었습니다.\")\n"
   ]
  },
  {
   "cell_type": "code",
   "execution_count": null,
   "id": "12792ebf-6974-4fc9-8284-ea034798cc74",
   "metadata": {},
   "outputs": [],
   "source": [
    "create_final_dataset_from_sql(\"test_data.csv\",\"test_data.csv\") #테스트 데이터셋 생성 확인"
   ]
  },
  {
   "attachments": {
    "c8596ce4-498a-4c7e-b426-454e52d2de14.png": {
     "image/png": "[encoded data removed]"
    }
   },
   "cell_type": "markdown",
   "id": "8de5209d-f6f4-48e0-b1f8-30489e2a9e5f",
   "metadata": {},
   "source": [
    "![image.png](attachment:c8596ce4-498a-4c7e-b426-454e52d2de14.png)"
   ]
  },
  {
   "cell_type": "markdown",
   "id": "0ea79c52-d2b5-4137-b931-615d16ec94bf",
   "metadata": {},
   "source": [
    "## **👍실제 학습용 데이터셋 만들어보기👍**"
   ]
  },
  {
   "cell_type": "code",
   "execution_count": 19,
   "id": "7eaa199b-2214-49c9-bde4-984e67aae634",
   "metadata": {},
   "outputs": [],
   "source": [
    "# 종목들의 티커 리스트(sp 500의 100개 기업 등락률의 다양성을 감안하여 선정)\n",
    "tickers = [\n",
    "    \"AAPL\", \"MSFT\", \"GOOGL\", \"AMZN\", \"META\", \"TSLA\", \"JNJ\", \"V\", \"NVDA\", \"JPM\",\n",
    "    \"PG\", \"XOM\", \"UNH\", \"HD\", \"DIS\", \"MA\", \"BAC\", \"KO\", \"PEP\", \"PFE\",\n",
    "    \"T\", \"CSCO\", \"INTC\", \"CMCSA\", \"NFLX\", \"ADBE\", \"NKE\", \"CRM\", \"AVGO\", \"QCOM\",\n",
    "    \"COST\", \"TMUS\", \"MRK\", \"WMT\", \"ABBV\", \"TXN\", \"VZ\", \"ABT\", \"ACN\", \"LOW\",\n",
    "    \"ORCL\", \"MDT\", \"AMGN\", \"INTU\", \"HON\", \"BA\", \"GE\", \"CAT\", \"DHR\", \"SPGI\",\n",
    "    \"TMO\", \"CVX\", \"GS\", \"BLK\", \"MS\", \"IBM\", \"MMM\", \"LMT\", \"AXP\", \"RTX\",\n",
    "    \"EL\", \"CL\", \"MCD\", \"UPS\", \"NEE\", \"SO\", \"DUK\", \"SCHW\", \"ZTS\", \"PYPL\",\n",
    "    \"ADP\", \"CI\", \"MMC\", \"SYK\", \"AMT\", \"PLD\", \"ISRG\", \"ADI\", \"GILD\", \"MDLZ\",\n",
    "    \"NOW\", \"BKNG\", \"REGN\", \"TFC\", \"EW\", \"BSX\", \"APD\", \"VRTX\", \"BMY\", \"WM\",\n",
    "    \"F\", \"GM\", \"NOC\", \"PANW\", \"DE\", \"EOG\", \"ETN\", \"AON\", \"SHW\", \"LIN\"\n",
    "]"
   ]
  },
  {
   "cell_type": "code",
   "execution_count": 45,
   "id": "84fc0077-fe8e-4ffa-93ee-6bac0ae2a1a0",
   "metadata": {
    "scrolled": true
   },
   "outputs": [
    {
     "name": "stderr",
     "output_type": "stream",
     "text": [
      "[*********************100%***********************]  1 of 1 completed"
     ]
    },
    {
     "name": "stdout",
     "output_type": "stream",
     "text": [
      "AAPL 데이터 수집 시작...\n"
     ]
    },
    {
     "name": "stderr",
     "output_type": "stream",
     "text": [
      "\n"
     ]
    },
    {
     "name": "stdout",
     "output_type": "stream",
     "text": [
      "AAPL 데이터를 MySQL에 옮기는 중....\n"
     ]
    },
    {
     "name": "stderr",
     "output_type": "stream",
     "text": [
      "[*********************100%***********************]  1 of 1 completed            \n"
     ]
    },
    {
     "name": "stdout",
     "output_type": "stream",
     "text": [
      "AAPL 데이터가 성공적으로 저장....\n",
      "1/100번째 AAPL 데이터 저장 완료!\n",
      "MSFT 데이터 수집 시작...\n",
      "MSFT 데이터를 MySQL에 옮기는 중....\n"
     ]
    },
    {
     "name": "stderr",
     "output_type": "stream",
     "text": [
      "[*********************100%***********************]  1 of 1 completed            \n"
     ]
    },
    {
     "name": "stdout",
     "output_type": "stream",
     "text": [
      "MSFT 데이터가 성공적으로 저장....\n",
      "2/100번째 MSFT 데이터 저장 완료!\n",
      "GOOGL 데이터 수집 시작...\n",
      "GOOGL 데이터를 MySQL에 옮기는 중....\n"
     ]
    },
    {
     "name": "stderr",
     "output_type": "stream",
     "text": [
      "[*********************100%***********************]  1 of 1 completed            \n"
     ]
    },
    {
     "name": "stdout",
     "output_type": "stream",
     "text": [
      "GOOGL 데이터가 성공적으로 저장....\n",
      "3/100번째 GOOGL 데이터 저장 완료!\n",
      "AMZN 데이터 수집 시작...\n",
      "AMZN 데이터를 MySQL에 옮기는 중....\n"
     ]
    },
    {
     "name": "stderr",
     "output_type": "stream",
     "text": [
      "[*********************100%***********************]  1 of 1 completed            \n"
     ]
    },
    {
     "name": "stdout",
     "output_type": "stream",
     "text": [
      "AMZN 데이터가 성공적으로 저장....\n",
      "4/100번째 AMZN 데이터 저장 완료!\n",
      "META 데이터 수집 시작...\n",
      "META 데이터를 MySQL에 옮기는 중....\n"
     ]
    },
    {
     "name": "stderr",
     "output_type": "stream",
     "text": [
      "[*********************100%***********************]  1 of 1 completed            \n"
     ]
    },
    {
     "name": "stdout",
     "output_type": "stream",
     "text": [
      "META 데이터가 성공적으로 저장....\n",
      "5/100번째 META 데이터 저장 완료!\n",
      "TSLA 데이터 수집 시작...\n",
      "TSLA 데이터를 MySQL에 옮기는 중....\n"
     ]
    },
    {
     "name": "stderr",
     "output_type": "stream",
     "text": [
      "[*********************100%***********************]  1 of 1 completed            \n"
     ]
    },
    {
     "name": "stdout",
     "output_type": "stream",
     "text": [
      "TSLA 데이터가 성공적으로 저장....\n",
      "6/100번째 TSLA 데이터 저장 완료!\n",
      "JNJ 데이터 수집 시작...\n",
      "JNJ 데이터를 MySQL에 옮기는 중....\n"
     ]
    },
    {
     "name": "stderr",
     "output_type": "stream",
     "text": [
      "[*********************100%***********************]  1 of 1 completed            \n"
     ]
    },
    {
     "name": "stdout",
     "output_type": "stream",
     "text": [
      "JNJ 데이터가 성공적으로 저장....\n",
      "7/100번째 JNJ 데이터 저장 완료!\n",
      "V 데이터 수집 시작...\n",
      "V 데이터를 MySQL에 옮기는 중....\n"
     ]
    },
    {
     "name": "stderr",
     "output_type": "stream",
     "text": [
      "[*********************100%***********************]  1 of 1 completed            \n"
     ]
    },
    {
     "name": "stdout",
     "output_type": "stream",
     "text": [
      "V 데이터가 성공적으로 저장....\n",
      "8/100번째 V 데이터 저장 완료!\n",
      "NVDA 데이터 수집 시작...\n",
      "NVDA 데이터를 MySQL에 옮기는 중....\n"
     ]
    },
    {
     "name": "stderr",
     "output_type": "stream",
     "text": [
      "                                                                                \r"
     ]
    },
    {
     "name": "stdout",
     "output_type": "stream",
     "text": [
      "NVDA 데이터가 성공적으로 저장....\n",
      "9/100번째 NVDA 데이터 저장 완료!\n",
      "JPM 데이터 수집 시작...\n"
     ]
    },
    {
     "name": "stderr",
     "output_type": "stream",
     "text": [
      "[*********************100%***********************]  1 of 1 completed\n"
     ]
    },
    {
     "name": "stdout",
     "output_type": "stream",
     "text": [
      "JPM 데이터를 MySQL에 옮기는 중....\n"
     ]
    },
    {
     "name": "stderr",
     "output_type": "stream",
     "text": [
      "                                                                                \r"
     ]
    },
    {
     "name": "stdout",
     "output_type": "stream",
     "text": [
      "JPM 데이터가 성공적으로 저장....\n",
      "10/100번째 JPM 데이터 저장 완료!\n",
      "PG 데이터 수집 시작...\n"
     ]
    },
    {
     "name": "stderr",
     "output_type": "stream",
     "text": [
      "[*********************100%***********************]  1 of 1 completed\n"
     ]
    },
    {
     "name": "stdout",
     "output_type": "stream",
     "text": [
      "PG 데이터를 MySQL에 옮기는 중....\n"
     ]
    },
    {
     "name": "stderr",
     "output_type": "stream",
     "text": [
      "                                                                                \r"
     ]
    },
    {
     "name": "stdout",
     "output_type": "stream",
     "text": [
      "PG 데이터가 성공적으로 저장....\n",
      "11/100번째 PG 데이터 저장 완료!\n",
      "XOM 데이터 수집 시작...\n"
     ]
    },
    {
     "name": "stderr",
     "output_type": "stream",
     "text": [
      "[*********************100%***********************]  1 of 1 completed\n"
     ]
    },
    {
     "name": "stdout",
     "output_type": "stream",
     "text": [
      "XOM 데이터를 MySQL에 옮기는 중....\n"
     ]
    },
    {
     "name": "stderr",
     "output_type": "stream",
     "text": [
      "                                                                                \r"
     ]
    },
    {
     "name": "stdout",
     "output_type": "stream",
     "text": [
      "XOM 데이터가 성공적으로 저장....\n",
      "12/100번째 XOM 데이터 저장 완료!\n",
      "UNH 데이터 수집 시작...\n"
     ]
    },
    {
     "name": "stderr",
     "output_type": "stream",
     "text": [
      "[*********************100%***********************]  1 of 1 completed\n"
     ]
    },
    {
     "name": "stdout",
     "output_type": "stream",
     "text": [
      "UNH 데이터를 MySQL에 옮기는 중....\n"
     ]
    },
    {
     "name": "stderr",
     "output_type": "stream",
     "text": [
      "                                                                                \r"
     ]
    },
    {
     "name": "stdout",
     "output_type": "stream",
     "text": [
      "UNH 데이터가 성공적으로 저장....\n",
      "13/100번째 UNH 데이터 저장 완료!\n",
      "HD 데이터 수집 시작...\n"
     ]
    },
    {
     "name": "stderr",
     "output_type": "stream",
     "text": [
      "[*********************100%***********************]  1 of 1 completed\n"
     ]
    },
    {
     "name": "stdout",
     "output_type": "stream",
     "text": [
      "HD 데이터를 MySQL에 옮기는 중....\n"
     ]
    },
    {
     "name": "stderr",
     "output_type": "stream",
     "text": [
      "                                                                                \r"
     ]
    },
    {
     "name": "stdout",
     "output_type": "stream",
     "text": [
      "HD 데이터가 성공적으로 저장....\n",
      "14/100번째 HD 데이터 저장 완료!\n",
      "DIS 데이터 수집 시작...\n"
     ]
    },
    {
     "name": "stderr",
     "output_type": "stream",
     "text": [
      "[*********************100%***********************]  1 of 1 completed\n"
     ]
    },
    {
     "name": "stdout",
     "output_type": "stream",
     "text": [
      "DIS 데이터를 MySQL에 옮기는 중....\n"
     ]
    },
    {
     "name": "stderr",
     "output_type": "stream",
     "text": [
      "                                                                                \r"
     ]
    },
    {
     "name": "stdout",
     "output_type": "stream",
     "text": [
      "DIS 데이터가 성공적으로 저장....\n",
      "15/100번째 DIS 데이터 저장 완료!\n",
      "MA 데이터 수집 시작...\n"
     ]
    },
    {
     "name": "stderr",
     "output_type": "stream",
     "text": [
      "[*********************100%***********************]  1 of 1 completed\n"
     ]
    },
    {
     "name": "stdout",
     "output_type": "stream",
     "text": [
      "MA 데이터를 MySQL에 옮기는 중....\n"
     ]
    },
    {
     "name": "stderr",
     "output_type": "stream",
     "text": [
      "                                                                                \r"
     ]
    },
    {
     "name": "stdout",
     "output_type": "stream",
     "text": [
      "MA 데이터가 성공적으로 저장....\n",
      "16/100번째 MA 데이터 저장 완료!\n",
      "BAC 데이터 수집 시작...\n"
     ]
    },
    {
     "name": "stderr",
     "output_type": "stream",
     "text": [
      "[*********************100%***********************]  1 of 1 completed\n"
     ]
    },
    {
     "name": "stdout",
     "output_type": "stream",
     "text": [
      "BAC 데이터를 MySQL에 옮기는 중....\n"
     ]
    },
    {
     "name": "stderr",
     "output_type": "stream",
     "text": [
      "                                                                                \r"
     ]
    },
    {
     "name": "stdout",
     "output_type": "stream",
     "text": [
      "BAC 데이터가 성공적으로 저장....\n",
      "17/100번째 BAC 데이터 저장 완료!\n",
      "KO 데이터 수집 시작...\n"
     ]
    },
    {
     "name": "stderr",
     "output_type": "stream",
     "text": [
      "[*********************100%***********************]  1 of 1 completed\n"
     ]
    },
    {
     "name": "stdout",
     "output_type": "stream",
     "text": [
      "KO 데이터를 MySQL에 옮기는 중....\n"
     ]
    },
    {
     "name": "stderr",
     "output_type": "stream",
     "text": [
      "                                                                                \r"
     ]
    },
    {
     "name": "stdout",
     "output_type": "stream",
     "text": [
      "KO 데이터가 성공적으로 저장....\n",
      "18/100번째 KO 데이터 저장 완료!\n",
      "PEP 데이터 수집 시작...\n"
     ]
    },
    {
     "name": "stderr",
     "output_type": "stream",
     "text": [
      "[*********************100%***********************]  1 of 1 completed\n"
     ]
    },
    {
     "name": "stdout",
     "output_type": "stream",
     "text": [
      "PEP 데이터를 MySQL에 옮기는 중....\n"
     ]
    },
    {
     "name": "stderr",
     "output_type": "stream",
     "text": [
      "                                                                                \r"
     ]
    },
    {
     "name": "stdout",
     "output_type": "stream",
     "text": [
      "PEP 데이터가 성공적으로 저장....\n",
      "19/100번째 PEP 데이터 저장 완료!\n",
      "PFE 데이터 수집 시작...\n"
     ]
    },
    {
     "name": "stderr",
     "output_type": "stream",
     "text": [
      "[*********************100%***********************]  1 of 1 completed\n"
     ]
    },
    {
     "name": "stdout",
     "output_type": "stream",
     "text": [
      "PFE 데이터를 MySQL에 옮기는 중....\n"
     ]
    },
    {
     "name": "stderr",
     "output_type": "stream",
     "text": [
      "                                                                                \r"
     ]
    },
    {
     "name": "stdout",
     "output_type": "stream",
     "text": [
      "PFE 데이터가 성공적으로 저장....\n",
      "20/100번째 PFE 데이터 저장 완료!\n",
      "T 데이터 수집 시작...\n"
     ]
    },
    {
     "name": "stderr",
     "output_type": "stream",
     "text": [
      "[*********************100%***********************]  1 of 1 completed\n"
     ]
    },
    {
     "name": "stdout",
     "output_type": "stream",
     "text": [
      "T 데이터를 MySQL에 옮기는 중....\n"
     ]
    },
    {
     "name": "stderr",
     "output_type": "stream",
     "text": [
      "                                                                                \r"
     ]
    },
    {
     "name": "stdout",
     "output_type": "stream",
     "text": [
      "T 데이터가 성공적으로 저장....\n",
      "21/100번째 T 데이터 저장 완료!\n",
      "CSCO 데이터 수집 시작...\n"
     ]
    },
    {
     "name": "stderr",
     "output_type": "stream",
     "text": [
      "[*********************100%***********************]  1 of 1 completed\n"
     ]
    },
    {
     "name": "stdout",
     "output_type": "stream",
     "text": [
      "CSCO 데이터를 MySQL에 옮기는 중....\n"
     ]
    },
    {
     "name": "stderr",
     "output_type": "stream",
     "text": [
      "                                                                                \r"
     ]
    },
    {
     "name": "stdout",
     "output_type": "stream",
     "text": [
      "CSCO 데이터가 성공적으로 저장....\n",
      "22/100번째 CSCO 데이터 저장 완료!\n",
      "INTC 데이터 수집 시작...\n"
     ]
    },
    {
     "name": "stderr",
     "output_type": "stream",
     "text": [
      "[*********************100%***********************]  1 of 1 completed\n"
     ]
    },
    {
     "name": "stdout",
     "output_type": "stream",
     "text": [
      "INTC 데이터를 MySQL에 옮기는 중....\n"
     ]
    },
    {
     "name": "stderr",
     "output_type": "stream",
     "text": [
      "                                                                                \r"
     ]
    },
    {
     "name": "stdout",
     "output_type": "stream",
     "text": [
      "INTC 데이터가 성공적으로 저장....\n",
      "23/100번째 INTC 데이터 저장 완료!\n",
      "CMCSA 데이터 수집 시작...\n"
     ]
    },
    {
     "name": "stderr",
     "output_type": "stream",
     "text": [
      "[*********************100%***********************]  1 of 1 completed\n"
     ]
    },
    {
     "name": "stdout",
     "output_type": "stream",
     "text": [
      "CMCSA 데이터를 MySQL에 옮기는 중....\n"
     ]
    },
    {
     "name": "stderr",
     "output_type": "stream",
     "text": [
      "                                                                                \r"
     ]
    },
    {
     "name": "stdout",
     "output_type": "stream",
     "text": [
      "CMCSA 데이터가 성공적으로 저장....\n",
      "24/100번째 CMCSA 데이터 저장 완료!\n",
      "NFLX 데이터 수집 시작...\n"
     ]
    },
    {
     "name": "stderr",
     "output_type": "stream",
     "text": [
      "[*********************100%***********************]  1 of 1 completed\n"
     ]
    },
    {
     "name": "stdout",
     "output_type": "stream",
     "text": [
      "NFLX 데이터를 MySQL에 옮기는 중....\n"
     ]
    },
    {
     "name": "stderr",
     "output_type": "stream",
     "text": [
      "                                                                                \r"
     ]
    },
    {
     "name": "stdout",
     "output_type": "stream",
     "text": [
      "NFLX 데이터가 성공적으로 저장....\n",
      "25/100번째 NFLX 데이터 저장 완료!\n",
      "ADBE 데이터 수집 시작...\n"
     ]
    },
    {
     "name": "stderr",
     "output_type": "stream",
     "text": [
      "[*********************100%***********************]  1 of 1 completed\n"
     ]
    },
    {
     "name": "stdout",
     "output_type": "stream",
     "text": [
      "ADBE 데이터를 MySQL에 옮기는 중....\n"
     ]
    },
    {
     "name": "stderr",
     "output_type": "stream",
     "text": [
      "                                                                                \r"
     ]
    },
    {
     "name": "stdout",
     "output_type": "stream",
     "text": [
      "ADBE 데이터가 성공적으로 저장....\n",
      "26/100번째 ADBE 데이터 저장 완료!\n",
      "NKE 데이터 수집 시작...\n"
     ]
    },
    {
     "name": "stderr",
     "output_type": "stream",
     "text": [
      "[*********************100%***********************]  1 of 1 completed\n"
     ]
    },
    {
     "name": "stdout",
     "output_type": "stream",
     "text": [
      "NKE 데이터를 MySQL에 옮기는 중....\n"
     ]
    },
    {
     "name": "stderr",
     "output_type": "stream",
     "text": [
      "                                                                                \r"
     ]
    },
    {
     "name": "stdout",
     "output_type": "stream",
     "text": [
      "NKE 데이터가 성공적으로 저장....\n",
      "27/100번째 NKE 데이터 저장 완료!\n",
      "CRM 데이터 수집 시작...\n"
     ]
    },
    {
     "name": "stderr",
     "output_type": "stream",
     "text": [
      "[*********************100%***********************]  1 of 1 completed\n"
     ]
    },
    {
     "name": "stdout",
     "output_type": "stream",
     "text": [
      "CRM 데이터를 MySQL에 옮기는 중....\n"
     ]
    },
    {
     "name": "stderr",
     "output_type": "stream",
     "text": [
      "                                                                                \r"
     ]
    },
    {
     "name": "stdout",
     "output_type": "stream",
     "text": [
      "CRM 데이터가 성공적으로 저장....\n",
      "28/100번째 CRM 데이터 저장 완료!\n",
      "AVGO 데이터 수집 시작...\n"
     ]
    },
    {
     "name": "stderr",
     "output_type": "stream",
     "text": [
      "[*********************100%***********************]  1 of 1 completed\n"
     ]
    },
    {
     "name": "stdout",
     "output_type": "stream",
     "text": [
      "AVGO 데이터를 MySQL에 옮기는 중....\n"
     ]
    },
    {
     "name": "stderr",
     "output_type": "stream",
     "text": [
      "                                                                                \r"
     ]
    },
    {
     "name": "stdout",
     "output_type": "stream",
     "text": [
      "AVGO 데이터가 성공적으로 저장....\n",
      "29/100번째 AVGO 데이터 저장 완료!\n",
      "QCOM 데이터 수집 시작...\n"
     ]
    },
    {
     "name": "stderr",
     "output_type": "stream",
     "text": [
      "[*********************100%***********************]  1 of 1 completed\n"
     ]
    },
    {
     "name": "stdout",
     "output_type": "stream",
     "text": [
      "QCOM 데이터를 MySQL에 옮기는 중....\n"
     ]
    },
    {
     "name": "stderr",
     "output_type": "stream",
     "text": [
      "                                                                                \r"
     ]
    },
    {
     "name": "stdout",
     "output_type": "stream",
     "text": [
      "QCOM 데이터가 성공적으로 저장....\n",
      "30/100번째 QCOM 데이터 저장 완료!\n",
      "COST 데이터 수집 시작...\n"
     ]
    },
    {
     "name": "stderr",
     "output_type": "stream",
     "text": [
      "[*********************100%***********************]  1 of 1 completed\n"
     ]
    },
    {
     "name": "stdout",
     "output_type": "stream",
     "text": [
      "COST 데이터를 MySQL에 옮기는 중....\n"
     ]
    },
    {
     "name": "stderr",
     "output_type": "stream",
     "text": [
      "                                                                                \r"
     ]
    },
    {
     "name": "stdout",
     "output_type": "stream",
     "text": [
      "COST 데이터가 성공적으로 저장....\n",
      "31/100번째 COST 데이터 저장 완료!\n",
      "TMUS 데이터 수집 시작...\n"
     ]
    },
    {
     "name": "stderr",
     "output_type": "stream",
     "text": [
      "[*********************100%***********************]  1 of 1 completed\n"
     ]
    },
    {
     "name": "stdout",
     "output_type": "stream",
     "text": [
      "TMUS 데이터를 MySQL에 옮기는 중....\n"
     ]
    },
    {
     "name": "stderr",
     "output_type": "stream",
     "text": [
      "                                                                                \r"
     ]
    },
    {
     "name": "stdout",
     "output_type": "stream",
     "text": [
      "TMUS 데이터가 성공적으로 저장....\n",
      "32/100번째 TMUS 데이터 저장 완료!\n",
      "MRK 데이터 수집 시작...\n"
     ]
    },
    {
     "name": "stderr",
     "output_type": "stream",
     "text": [
      "[*********************100%***********************]  1 of 1 completed\n"
     ]
    },
    {
     "name": "stdout",
     "output_type": "stream",
     "text": [
      "MRK 데이터를 MySQL에 옮기는 중....\n"
     ]
    },
    {
     "name": "stderr",
     "output_type": "stream",
     "text": [
      "                                                                                \r"
     ]
    },
    {
     "name": "stdout",
     "output_type": "stream",
     "text": [
      "MRK 데이터가 성공적으로 저장....\n",
      "33/100번째 MRK 데이터 저장 완료!\n",
      "WMT 데이터 수집 시작...\n"
     ]
    },
    {
     "name": "stderr",
     "output_type": "stream",
     "text": [
      "[*********************100%***********************]  1 of 1 completed\n"
     ]
    },
    {
     "name": "stdout",
     "output_type": "stream",
     "text": [
      "WMT 데이터를 MySQL에 옮기는 중....\n"
     ]
    },
    {
     "name": "stderr",
     "output_type": "stream",
     "text": [
      "                                                                                \r"
     ]
    },
    {
     "name": "stdout",
     "output_type": "stream",
     "text": [
      "WMT 데이터가 성공적으로 저장....\n",
      "34/100번째 WMT 데이터 저장 완료!\n",
      "ABBV 데이터 수집 시작...\n"
     ]
    },
    {
     "name": "stderr",
     "output_type": "stream",
     "text": [
      "[*********************100%***********************]  1 of 1 completed\n"
     ]
    },
    {
     "name": "stdout",
     "output_type": "stream",
     "text": [
      "ABBV 데이터를 MySQL에 옮기는 중....\n"
     ]
    },
    {
     "name": "stderr",
     "output_type": "stream",
     "text": [
      "                                                                                \r"
     ]
    },
    {
     "name": "stdout",
     "output_type": "stream",
     "text": [
      "ABBV 데이터가 성공적으로 저장....\n",
      "35/100번째 ABBV 데이터 저장 완료!\n",
      "TXN 데이터 수집 시작...\n"
     ]
    },
    {
     "name": "stderr",
     "output_type": "stream",
     "text": [
      "[*********************100%***********************]  1 of 1 completed\n"
     ]
    },
    {
     "name": "stdout",
     "output_type": "stream",
     "text": [
      "TXN 데이터를 MySQL에 옮기는 중....\n"
     ]
    },
    {
     "name": "stderr",
     "output_type": "stream",
     "text": [
      "                                                                                \r"
     ]
    },
    {
     "name": "stdout",
     "output_type": "stream",
     "text": [
      "TXN 데이터가 성공적으로 저장....\n",
      "36/100번째 TXN 데이터 저장 완료!\n",
      "VZ 데이터 수집 시작...\n"
     ]
    },
    {
     "name": "stderr",
     "output_type": "stream",
     "text": [
      "[*********************100%***********************]  1 of 1 completed\n"
     ]
    },
    {
     "name": "stdout",
     "output_type": "stream",
     "text": [
      "VZ 데이터를 MySQL에 옮기는 중....\n"
     ]
    },
    {
     "name": "stderr",
     "output_type": "stream",
     "text": [
      "                                                                                \r"
     ]
    },
    {
     "name": "stdout",
     "output_type": "stream",
     "text": [
      "VZ 데이터가 성공적으로 저장....\n",
      "37/100번째 VZ 데이터 저장 완료!\n",
      "ABT 데이터 수집 시작...\n"
     ]
    },
    {
     "name": "stderr",
     "output_type": "stream",
     "text": [
      "[*********************100%***********************]  1 of 1 completed\n"
     ]
    },
    {
     "name": "stdout",
     "output_type": "stream",
     "text": [
      "ABT 데이터를 MySQL에 옮기는 중....\n"
     ]
    },
    {
     "name": "stderr",
     "output_type": "stream",
     "text": [
      "                                                                                \r"
     ]
    },
    {
     "name": "stdout",
     "output_type": "stream",
     "text": [
      "ABT 데이터가 성공적으로 저장....\n",
      "38/100번째 ABT 데이터 저장 완료!\n",
      "ACN 데이터 수집 시작...\n"
     ]
    },
    {
     "name": "stderr",
     "output_type": "stream",
     "text": [
      "[*********************100%***********************]  1 of 1 completed\n"
     ]
    },
    {
     "name": "stdout",
     "output_type": "stream",
     "text": [
      "ACN 데이터를 MySQL에 옮기는 중....\n"
     ]
    },
    {
     "name": "stderr",
     "output_type": "stream",
     "text": [
      "                                                                                \r"
     ]
    },
    {
     "name": "stdout",
     "output_type": "stream",
     "text": [
      "ACN 데이터가 성공적으로 저장....\n",
      "39/100번째 ACN 데이터 저장 완료!\n",
      "LOW 데이터 수집 시작...\n"
     ]
    },
    {
     "name": "stderr",
     "output_type": "stream",
     "text": [
      "[*********************100%***********************]  1 of 1 completed\n"
     ]
    },
    {
     "name": "stdout",
     "output_type": "stream",
     "text": [
      "LOW 데이터를 MySQL에 옮기는 중....\n"
     ]
    },
    {
     "name": "stderr",
     "output_type": "stream",
     "text": [
      "                                                                                \r"
     ]
    },
    {
     "name": "stdout",
     "output_type": "stream",
     "text": [
      "LOW 데이터가 성공적으로 저장....\n",
      "40/100번째 LOW 데이터 저장 완료!\n",
      "ORCL 데이터 수집 시작...\n"
     ]
    },
    {
     "name": "stderr",
     "output_type": "stream",
     "text": [
      "[*********************100%***********************]  1 of 1 completed\n"
     ]
    },
    {
     "name": "stdout",
     "output_type": "stream",
     "text": [
      "ORCL 데이터를 MySQL에 옮기는 중....\n"
     ]
    },
    {
     "name": "stderr",
     "output_type": "stream",
     "text": [
      "                                                                                \r"
     ]
    },
    {
     "name": "stdout",
     "output_type": "stream",
     "text": [
      "ORCL 데이터가 성공적으로 저장....\n",
      "41/100번째 ORCL 데이터 저장 완료!\n",
      "MDT 데이터 수집 시작...\n"
     ]
    },
    {
     "name": "stderr",
     "output_type": "stream",
     "text": [
      "[*********************100%***********************]  1 of 1 completed\n"
     ]
    },
    {
     "name": "stdout",
     "output_type": "stream",
     "text": [
      "MDT 데이터를 MySQL에 옮기는 중....\n"
     ]
    },
    {
     "name": "stderr",
     "output_type": "stream",
     "text": [
      "                                                                                \r"
     ]
    },
    {
     "name": "stdout",
     "output_type": "stream",
     "text": [
      "MDT 데이터가 성공적으로 저장....\n",
      "42/100번째 MDT 데이터 저장 완료!\n",
      "AMGN 데이터 수집 시작...\n"
     ]
    },
    {
     "name": "stderr",
     "output_type": "stream",
     "text": [
      "[*********************100%***********************]  1 of 1 completed\n"
     ]
    },
    {
     "name": "stdout",
     "output_type": "stream",
     "text": [
      "AMGN 데이터를 MySQL에 옮기는 중....\n"
     ]
    },
    {
     "name": "stderr",
     "output_type": "stream",
     "text": [
      "                                                                                \r"
     ]
    },
    {
     "name": "stdout",
     "output_type": "stream",
     "text": [
      "AMGN 데이터가 성공적으로 저장....\n",
      "43/100번째 AMGN 데이터 저장 완료!\n",
      "INTU 데이터 수집 시작...\n"
     ]
    },
    {
     "name": "stderr",
     "output_type": "stream",
     "text": [
      "[*********************100%***********************]  1 of 1 completed\n"
     ]
    },
    {
     "name": "stdout",
     "output_type": "stream",
     "text": [
      "INTU 데이터를 MySQL에 옮기는 중....\n"
     ]
    },
    {
     "name": "stderr",
     "output_type": "stream",
     "text": [
      "                                                                                \r"
     ]
    },
    {
     "name": "stdout",
     "output_type": "stream",
     "text": [
      "INTU 데이터가 성공적으로 저장....\n",
      "44/100번째 INTU 데이터 저장 완료!\n",
      "HON 데이터 수집 시작...\n"
     ]
    },
    {
     "name": "stderr",
     "output_type": "stream",
     "text": [
      "[*********************100%***********************]  1 of 1 completed\n"
     ]
    },
    {
     "name": "stdout",
     "output_type": "stream",
     "text": [
      "HON 데이터를 MySQL에 옮기는 중....\n"
     ]
    },
    {
     "name": "stderr",
     "output_type": "stream",
     "text": [
      "                                                                                \r"
     ]
    },
    {
     "name": "stdout",
     "output_type": "stream",
     "text": [
      "HON 데이터가 성공적으로 저장....\n",
      "45/100번째 HON 데이터 저장 완료!\n",
      "BA 데이터 수집 시작...\n"
     ]
    },
    {
     "name": "stderr",
     "output_type": "stream",
     "text": [
      "[*********************100%***********************]  1 of 1 completed\n"
     ]
    },
    {
     "name": "stdout",
     "output_type": "stream",
     "text": [
      "BA 데이터를 MySQL에 옮기는 중....\n"
     ]
    },
    {
     "name": "stderr",
     "output_type": "stream",
     "text": [
      "                                                                                \r"
     ]
    },
    {
     "name": "stdout",
     "output_type": "stream",
     "text": [
      "BA 데이터가 성공적으로 저장....\n",
      "46/100번째 BA 데이터 저장 완료!\n",
      "GE 데이터 수집 시작...\n"
     ]
    },
    {
     "name": "stderr",
     "output_type": "stream",
     "text": [
      "[*********************100%***********************]  1 of 1 completed\n"
     ]
    },
    {
     "name": "stdout",
     "output_type": "stream",
     "text": [
      "GE 데이터를 MySQL에 옮기는 중....\n"
     ]
    },
    {
     "name": "stderr",
     "output_type": "stream",
     "text": [
      "                                                                                \r"
     ]
    },
    {
     "name": "stdout",
     "output_type": "stream",
     "text": [
      "GE 데이터가 성공적으로 저장....\n",
      "47/100번째 GE 데이터 저장 완료!\n",
      "CAT 데이터 수집 시작...\n"
     ]
    },
    {
     "name": "stderr",
     "output_type": "stream",
     "text": [
      "[*********************100%***********************]  1 of 1 completed\n"
     ]
    },
    {
     "name": "stdout",
     "output_type": "stream",
     "text": [
      "CAT 데이터를 MySQL에 옮기는 중....\n"
     ]
    },
    {
     "name": "stderr",
     "output_type": "stream",
     "text": [
      "                                                                                \r"
     ]
    },
    {
     "name": "stdout",
     "output_type": "stream",
     "text": [
      "CAT 데이터가 성공적으로 저장....\n",
      "48/100번째 CAT 데이터 저장 완료!\n",
      "DHR 데이터 수집 시작...\n"
     ]
    },
    {
     "name": "stderr",
     "output_type": "stream",
     "text": [
      "[*********************100%***********************]  1 of 1 completed\n"
     ]
    },
    {
     "name": "stdout",
     "output_type": "stream",
     "text": [
      "DHR 데이터를 MySQL에 옮기는 중....\n"
     ]
    },
    {
     "name": "stderr",
     "output_type": "stream",
     "text": [
      "                                                                                \r"
     ]
    },
    {
     "name": "stdout",
     "output_type": "stream",
     "text": [
      "DHR 데이터가 성공적으로 저장....\n",
      "49/100번째 DHR 데이터 저장 완료!\n",
      "SPGI 데이터 수집 시작...\n"
     ]
    },
    {
     "name": "stderr",
     "output_type": "stream",
     "text": [
      "[*********************100%***********************]  1 of 1 completed\n"
     ]
    },
    {
     "name": "stdout",
     "output_type": "stream",
     "text": [
      "SPGI 데이터를 MySQL에 옮기는 중....\n"
     ]
    },
    {
     "name": "stderr",
     "output_type": "stream",
     "text": [
      "                                                                                \r"
     ]
    },
    {
     "name": "stdout",
     "output_type": "stream",
     "text": [
      "SPGI 데이터가 성공적으로 저장....\n",
      "50/100번째 SPGI 데이터 저장 완료!\n",
      "TMO 데이터 수집 시작...\n"
     ]
    },
    {
     "name": "stderr",
     "output_type": "stream",
     "text": [
      "[*********************100%***********************]  1 of 1 completed\n"
     ]
    },
    {
     "name": "stdout",
     "output_type": "stream",
     "text": [
      "TMO 데이터를 MySQL에 옮기는 중....\n"
     ]
    },
    {
     "name": "stderr",
     "output_type": "stream",
     "text": [
      "                                                                                \r"
     ]
    },
    {
     "name": "stdout",
     "output_type": "stream",
     "text": [
      "TMO 데이터가 성공적으로 저장....\n",
      "51/100번째 TMO 데이터 저장 완료!\n",
      "CVX 데이터 수집 시작...\n"
     ]
    },
    {
     "name": "stderr",
     "output_type": "stream",
     "text": [
      "[*********************100%***********************]  1 of 1 completed\n"
     ]
    },
    {
     "name": "stdout",
     "output_type": "stream",
     "text": [
      "CVX 데이터를 MySQL에 옮기는 중....\n"
     ]
    },
    {
     "name": "stderr",
     "output_type": "stream",
     "text": [
      "                                                                                \r"
     ]
    },
    {
     "name": "stdout",
     "output_type": "stream",
     "text": [
      "CVX 데이터가 성공적으로 저장....\n",
      "52/100번째 CVX 데이터 저장 완료!\n",
      "GS 데이터 수집 시작...\n"
     ]
    },
    {
     "name": "stderr",
     "output_type": "stream",
     "text": [
      "[*********************100%***********************]  1 of 1 completed\n"
     ]
    },
    {
     "name": "stdout",
     "output_type": "stream",
     "text": [
      "GS 데이터를 MySQL에 옮기는 중....\n"
     ]
    },
    {
     "name": "stderr",
     "output_type": "stream",
     "text": [
      "                                                                                \r"
     ]
    },
    {
     "name": "stdout",
     "output_type": "stream",
     "text": [
      "GS 데이터가 성공적으로 저장....\n",
      "53/100번째 GS 데이터 저장 완료!\n",
      "BLK 데이터 수집 시작...\n"
     ]
    },
    {
     "name": "stderr",
     "output_type": "stream",
     "text": [
      "[*********************100%***********************]  1 of 1 completed\n"
     ]
    },
    {
     "name": "stdout",
     "output_type": "stream",
     "text": [
      "BLK 데이터를 MySQL에 옮기는 중....\n"
     ]
    },
    {
     "name": "stderr",
     "output_type": "stream",
     "text": [
      "                                                                                \r"
     ]
    },
    {
     "name": "stdout",
     "output_type": "stream",
     "text": [
      "BLK 데이터가 성공적으로 저장....\n",
      "54/100번째 BLK 데이터 저장 완료!\n",
      "MS 데이터 수집 시작...\n"
     ]
    },
    {
     "name": "stderr",
     "output_type": "stream",
     "text": [
      "[*********************100%***********************]  1 of 1 completed\n"
     ]
    },
    {
     "name": "stdout",
     "output_type": "stream",
     "text": [
      "MS 데이터를 MySQL에 옮기는 중....\n"
     ]
    },
    {
     "name": "stderr",
     "output_type": "stream",
     "text": [
      "                                                                                \r"
     ]
    },
    {
     "name": "stdout",
     "output_type": "stream",
     "text": [
      "MS 데이터가 성공적으로 저장....\n",
      "55/100번째 MS 데이터 저장 완료!\n",
      "IBM 데이터 수집 시작...\n"
     ]
    },
    {
     "name": "stderr",
     "output_type": "stream",
     "text": [
      "[*********************100%***********************]  1 of 1 completed\n"
     ]
    },
    {
     "name": "stdout",
     "output_type": "stream",
     "text": [
      "IBM 데이터를 MySQL에 옮기는 중....\n"
     ]
    },
    {
     "name": "stderr",
     "output_type": "stream",
     "text": [
      "                                                                                \r"
     ]
    },
    {
     "name": "stdout",
     "output_type": "stream",
     "text": [
      "IBM 데이터가 성공적으로 저장....\n",
      "56/100번째 IBM 데이터 저장 완료!\n",
      "MMM 데이터 수집 시작...\n"
     ]
    },
    {
     "name": "stderr",
     "output_type": "stream",
     "text": [
      "[*********************100%***********************]  1 of 1 completed\n"
     ]
    },
    {
     "name": "stdout",
     "output_type": "stream",
     "text": [
      "MMM 데이터를 MySQL에 옮기는 중....\n"
     ]
    },
    {
     "name": "stderr",
     "output_type": "stream",
     "text": [
      "                                                                                \r"
     ]
    },
    {
     "name": "stdout",
     "output_type": "stream",
     "text": [
      "MMM 데이터가 성공적으로 저장....\n",
      "57/100번째 MMM 데이터 저장 완료!\n",
      "LMT 데이터 수집 시작...\n"
     ]
    },
    {
     "name": "stderr",
     "output_type": "stream",
     "text": [
      "[*********************100%***********************]  1 of 1 completed\n"
     ]
    },
    {
     "name": "stdout",
     "output_type": "stream",
     "text": [
      "LMT 데이터를 MySQL에 옮기는 중....\n"
     ]
    },
    {
     "name": "stderr",
     "output_type": "stream",
     "text": [
      "                                                                                \r"
     ]
    },
    {
     "name": "stdout",
     "output_type": "stream",
     "text": [
      "LMT 데이터가 성공적으로 저장....\n",
      "58/100번째 LMT 데이터 저장 완료!\n",
      "AXP 데이터 수집 시작...\n"
     ]
    },
    {
     "name": "stderr",
     "output_type": "stream",
     "text": [
      "[*********************100%***********************]  1 of 1 completed\n"
     ]
    },
    {
     "name": "stdout",
     "output_type": "stream",
     "text": [
      "AXP 데이터를 MySQL에 옮기는 중....\n"
     ]
    },
    {
     "name": "stderr",
     "output_type": "stream",
     "text": [
      "                                                                                \r"
     ]
    },
    {
     "name": "stdout",
     "output_type": "stream",
     "text": [
      "AXP 데이터가 성공적으로 저장....\n",
      "59/100번째 AXP 데이터 저장 완료!\n",
      "RTX 데이터 수집 시작...\n"
     ]
    },
    {
     "name": "stderr",
     "output_type": "stream",
     "text": [
      "[*********************100%***********************]  1 of 1 completed\n"
     ]
    },
    {
     "name": "stdout",
     "output_type": "stream",
     "text": [
      "RTX 데이터를 MySQL에 옮기는 중....\n"
     ]
    },
    {
     "name": "stderr",
     "output_type": "stream",
     "text": [
      "                                                                                \r"
     ]
    },
    {
     "name": "stdout",
     "output_type": "stream",
     "text": [
      "RTX 데이터가 성공적으로 저장....\n",
      "60/100번째 RTX 데이터 저장 완료!\n",
      "EL 데이터 수집 시작...\n"
     ]
    },
    {
     "name": "stderr",
     "output_type": "stream",
     "text": [
      "[*********************100%***********************]  1 of 1 completed\n"
     ]
    },
    {
     "name": "stdout",
     "output_type": "stream",
     "text": [
      "EL 데이터를 MySQL에 옮기는 중....\n"
     ]
    },
    {
     "name": "stderr",
     "output_type": "stream",
     "text": [
      "                                                                                \r"
     ]
    },
    {
     "name": "stdout",
     "output_type": "stream",
     "text": [
      "EL 데이터가 성공적으로 저장....\n",
      "61/100번째 EL 데이터 저장 완료!\n",
      "CL 데이터 수집 시작...\n"
     ]
    },
    {
     "name": "stderr",
     "output_type": "stream",
     "text": [
      "[*********************100%***********************]  1 of 1 completed\n"
     ]
    },
    {
     "name": "stdout",
     "output_type": "stream",
     "text": [
      "CL 데이터를 MySQL에 옮기는 중....\n"
     ]
    },
    {
     "name": "stderr",
     "output_type": "stream",
     "text": [
      "                                                                                \r"
     ]
    },
    {
     "name": "stdout",
     "output_type": "stream",
     "text": [
      "CL 데이터가 성공적으로 저장....\n",
      "62/100번째 CL 데이터 저장 완료!\n",
      "MCD 데이터 수집 시작...\n"
     ]
    },
    {
     "name": "stderr",
     "output_type": "stream",
     "text": [
      "[*********************100%***********************]  1 of 1 completed\n"
     ]
    },
    {
     "name": "stdout",
     "output_type": "stream",
     "text": [
      "MCD 데이터를 MySQL에 옮기는 중....\n"
     ]
    },
    {
     "name": "stderr",
     "output_type": "stream",
     "text": [
      "                                                                                \r"
     ]
    },
    {
     "name": "stdout",
     "output_type": "stream",
     "text": [
      "MCD 데이터가 성공적으로 저장....\n",
      "63/100번째 MCD 데이터 저장 완료!\n",
      "UPS 데이터 수집 시작...\n"
     ]
    },
    {
     "name": "stderr",
     "output_type": "stream",
     "text": [
      "[*********************100%***********************]  1 of 1 completed\n"
     ]
    },
    {
     "name": "stdout",
     "output_type": "stream",
     "text": [
      "UPS 데이터를 MySQL에 옮기는 중....\n"
     ]
    },
    {
     "name": "stderr",
     "output_type": "stream",
     "text": [
      "                                                                                \r"
     ]
    },
    {
     "name": "stdout",
     "output_type": "stream",
     "text": [
      "UPS 데이터가 성공적으로 저장....\n",
      "64/100번째 UPS 데이터 저장 완료!\n",
      "NEE 데이터 수집 시작...\n"
     ]
    },
    {
     "name": "stderr",
     "output_type": "stream",
     "text": [
      "[*********************100%***********************]  1 of 1 completed\n"
     ]
    },
    {
     "name": "stdout",
     "output_type": "stream",
     "text": [
      "NEE 데이터를 MySQL에 옮기는 중....\n"
     ]
    },
    {
     "name": "stderr",
     "output_type": "stream",
     "text": [
      "                                                                                \r"
     ]
    },
    {
     "name": "stdout",
     "output_type": "stream",
     "text": [
      "NEE 데이터가 성공적으로 저장....\n",
      "65/100번째 NEE 데이터 저장 완료!\n",
      "SO 데이터 수집 시작...\n"
     ]
    },
    {
     "name": "stderr",
     "output_type": "stream",
     "text": [
      "[*********************100%***********************]  1 of 1 completed\n"
     ]
    },
    {
     "name": "stdout",
     "output_type": "stream",
     "text": [
      "SO 데이터를 MySQL에 옮기는 중....\n"
     ]
    },
    {
     "name": "stderr",
     "output_type": "stream",
     "text": [
      "                                                                                \r"
     ]
    },
    {
     "name": "stdout",
     "output_type": "stream",
     "text": [
      "SO 데이터가 성공적으로 저장....\n",
      "66/100번째 SO 데이터 저장 완료!\n",
      "DUK 데이터 수집 시작...\n"
     ]
    },
    {
     "name": "stderr",
     "output_type": "stream",
     "text": [
      "[*********************100%***********************]  1 of 1 completed\n"
     ]
    },
    {
     "name": "stdout",
     "output_type": "stream",
     "text": [
      "DUK 데이터를 MySQL에 옮기는 중....\n"
     ]
    },
    {
     "name": "stderr",
     "output_type": "stream",
     "text": [
      "                                                                                \r"
     ]
    },
    {
     "name": "stdout",
     "output_type": "stream",
     "text": [
      "DUK 데이터가 성공적으로 저장....\n",
      "67/100번째 DUK 데이터 저장 완료!\n",
      "SCHW 데이터 수집 시작...\n"
     ]
    },
    {
     "name": "stderr",
     "output_type": "stream",
     "text": [
      "[*********************100%***********************]  1 of 1 completed\n"
     ]
    },
    {
     "name": "stdout",
     "output_type": "stream",
     "text": [
      "SCHW 데이터를 MySQL에 옮기는 중....\n"
     ]
    },
    {
     "name": "stderr",
     "output_type": "stream",
     "text": [
      "                                                                                \r"
     ]
    },
    {
     "name": "stdout",
     "output_type": "stream",
     "text": [
      "SCHW 데이터가 성공적으로 저장....\n",
      "68/100번째 SCHW 데이터 저장 완료!\n",
      "ZTS 데이터 수집 시작...\n"
     ]
    },
    {
     "name": "stderr",
     "output_type": "stream",
     "text": [
      "[*********************100%***********************]  1 of 1 completed\n"
     ]
    },
    {
     "name": "stdout",
     "output_type": "stream",
     "text": [
      "ZTS 데이터를 MySQL에 옮기는 중....\n"
     ]
    },
    {
     "name": "stderr",
     "output_type": "stream",
     "text": [
      "                                                                                \r"
     ]
    },
    {
     "name": "stdout",
     "output_type": "stream",
     "text": [
      "ZTS 데이터가 성공적으로 저장....\n",
      "69/100번째 ZTS 데이터 저장 완료!\n",
      "PYPL 데이터 수집 시작...\n"
     ]
    },
    {
     "name": "stderr",
     "output_type": "stream",
     "text": [
      "[*********************100%***********************]  1 of 1 completed\n"
     ]
    },
    {
     "name": "stdout",
     "output_type": "stream",
     "text": [
      "PYPL 데이터를 MySQL에 옮기는 중....\n"
     ]
    },
    {
     "name": "stderr",
     "output_type": "stream",
     "text": [
      "                                                                                \r"
     ]
    },
    {
     "name": "stdout",
     "output_type": "stream",
     "text": [
      "PYPL 데이터가 성공적으로 저장....\n",
      "70/100번째 PYPL 데이터 저장 완료!\n",
      "ADP 데이터 수집 시작...\n"
     ]
    },
    {
     "name": "stderr",
     "output_type": "stream",
     "text": [
      "[*********************100%***********************]  1 of 1 completed\n"
     ]
    },
    {
     "name": "stdout",
     "output_type": "stream",
     "text": [
      "ADP 데이터를 MySQL에 옮기는 중....\n"
     ]
    },
    {
     "name": "stderr",
     "output_type": "stream",
     "text": [
      "                                                                                \r"
     ]
    },
    {
     "name": "stdout",
     "output_type": "stream",
     "text": [
      "ADP 데이터가 성공적으로 저장....\n",
      "71/100번째 ADP 데이터 저장 완료!\n",
      "CI 데이터 수집 시작...\n"
     ]
    },
    {
     "name": "stderr",
     "output_type": "stream",
     "text": [
      "[*********************100%***********************]  1 of 1 completed\n"
     ]
    },
    {
     "name": "stdout",
     "output_type": "stream",
     "text": [
      "CI 데이터를 MySQL에 옮기는 중....\n"
     ]
    },
    {
     "name": "stderr",
     "output_type": "stream",
     "text": [
      "                                                                                \r"
     ]
    },
    {
     "name": "stdout",
     "output_type": "stream",
     "text": [
      "CI 데이터가 성공적으로 저장....\n",
      "72/100번째 CI 데이터 저장 완료!\n",
      "MMC 데이터 수집 시작...\n"
     ]
    },
    {
     "name": "stderr",
     "output_type": "stream",
     "text": [
      "[*********************100%***********************]  1 of 1 completed\n"
     ]
    },
    {
     "name": "stdout",
     "output_type": "stream",
     "text": [
      "MMC 데이터를 MySQL에 옮기는 중....\n"
     ]
    },
    {
     "name": "stderr",
     "output_type": "stream",
     "text": [
      "                                                                                \r"
     ]
    },
    {
     "name": "stdout",
     "output_type": "stream",
     "text": [
      "MMC 데이터가 성공적으로 저장....\n",
      "73/100번째 MMC 데이터 저장 완료!\n",
      "SYK 데이터 수집 시작...\n"
     ]
    },
    {
     "name": "stderr",
     "output_type": "stream",
     "text": [
      "[*********************100%***********************]  1 of 1 completed\n"
     ]
    },
    {
     "name": "stdout",
     "output_type": "stream",
     "text": [
      "SYK 데이터를 MySQL에 옮기는 중....\n"
     ]
    },
    {
     "name": "stderr",
     "output_type": "stream",
     "text": [
      "                                                                                \r"
     ]
    },
    {
     "name": "stdout",
     "output_type": "stream",
     "text": [
      "SYK 데이터가 성공적으로 저장....\n",
      "74/100번째 SYK 데이터 저장 완료!\n",
      "AMT 데이터 수집 시작...\n"
     ]
    },
    {
     "name": "stderr",
     "output_type": "stream",
     "text": [
      "[*********************100%***********************]  1 of 1 completed\n"
     ]
    },
    {
     "name": "stdout",
     "output_type": "stream",
     "text": [
      "AMT 데이터를 MySQL에 옮기는 중....\n"
     ]
    },
    {
     "name": "stderr",
     "output_type": "stream",
     "text": [
      "                                                                                \r"
     ]
    },
    {
     "name": "stdout",
     "output_type": "stream",
     "text": [
      "AMT 데이터가 성공적으로 저장....\n",
      "75/100번째 AMT 데이터 저장 완료!\n",
      "PLD 데이터 수집 시작...\n"
     ]
    },
    {
     "name": "stderr",
     "output_type": "stream",
     "text": [
      "[*********************100%***********************]  1 of 1 completed\n"
     ]
    },
    {
     "name": "stdout",
     "output_type": "stream",
     "text": [
      "PLD 데이터를 MySQL에 옮기는 중....\n"
     ]
    },
    {
     "name": "stderr",
     "output_type": "stream",
     "text": [
      "                                                                                \r"
     ]
    },
    {
     "name": "stdout",
     "output_type": "stream",
     "text": [
      "PLD 데이터가 성공적으로 저장....\n",
      "76/100번째 PLD 데이터 저장 완료!\n",
      "ISRG 데이터 수집 시작...\n"
     ]
    },
    {
     "name": "stderr",
     "output_type": "stream",
     "text": [
      "[*********************100%***********************]  1 of 1 completed\n"
     ]
    },
    {
     "name": "stdout",
     "output_type": "stream",
     "text": [
      "ISRG 데이터를 MySQL에 옮기는 중....\n"
     ]
    },
    {
     "name": "stderr",
     "output_type": "stream",
     "text": [
      "                                                                                \r"
     ]
    },
    {
     "name": "stdout",
     "output_type": "stream",
     "text": [
      "ISRG 데이터가 성공적으로 저장....\n",
      "77/100번째 ISRG 데이터 저장 완료!\n",
      "ADI 데이터 수집 시작...\n"
     ]
    },
    {
     "name": "stderr",
     "output_type": "stream",
     "text": [
      "[*********************100%***********************]  1 of 1 completed\n"
     ]
    },
    {
     "name": "stdout",
     "output_type": "stream",
     "text": [
      "ADI 데이터를 MySQL에 옮기는 중....\n"
     ]
    },
    {
     "name": "stderr",
     "output_type": "stream",
     "text": [
      "                                                                                \r"
     ]
    },
    {
     "name": "stdout",
     "output_type": "stream",
     "text": [
      "ADI 데이터가 성공적으로 저장....\n",
      "78/100번째 ADI 데이터 저장 완료!\n",
      "GILD 데이터 수집 시작...\n"
     ]
    },
    {
     "name": "stderr",
     "output_type": "stream",
     "text": [
      "[*********************100%***********************]  1 of 1 completed\n"
     ]
    },
    {
     "name": "stdout",
     "output_type": "stream",
     "text": [
      "GILD 데이터를 MySQL에 옮기는 중....\n"
     ]
    },
    {
     "name": "stderr",
     "output_type": "stream",
     "text": [
      "                                                                                \r"
     ]
    },
    {
     "name": "stdout",
     "output_type": "stream",
     "text": [
      "GILD 데이터가 성공적으로 저장....\n",
      "79/100번째 GILD 데이터 저장 완료!\n",
      "MDLZ 데이터 수집 시작...\n"
     ]
    },
    {
     "name": "stderr",
     "output_type": "stream",
     "text": [
      "[*********************100%***********************]  1 of 1 completed\n"
     ]
    },
    {
     "name": "stdout",
     "output_type": "stream",
     "text": [
      "MDLZ 데이터를 MySQL에 옮기는 중....\n"
     ]
    },
    {
     "name": "stderr",
     "output_type": "stream",
     "text": [
      "                                                                                \r"
     ]
    },
    {
     "name": "stdout",
     "output_type": "stream",
     "text": [
      "MDLZ 데이터가 성공적으로 저장....\n",
      "80/100번째 MDLZ 데이터 저장 완료!\n",
      "NOW 데이터 수집 시작...\n"
     ]
    },
    {
     "name": "stderr",
     "output_type": "stream",
     "text": [
      "[*********************100%***********************]  1 of 1 completed\n"
     ]
    },
    {
     "name": "stdout",
     "output_type": "stream",
     "text": [
      "NOW 데이터를 MySQL에 옮기는 중....\n"
     ]
    },
    {
     "name": "stderr",
     "output_type": "stream",
     "text": [
      "                                                                                \r"
     ]
    },
    {
     "name": "stdout",
     "output_type": "stream",
     "text": [
      "NOW 데이터가 성공적으로 저장....\n",
      "81/100번째 NOW 데이터 저장 완료!\n",
      "BKNG 데이터 수집 시작...\n"
     ]
    },
    {
     "name": "stderr",
     "output_type": "stream",
     "text": [
      "[*********************100%***********************]  1 of 1 completed\n"
     ]
    },
    {
     "name": "stdout",
     "output_type": "stream",
     "text": [
      "BKNG 데이터를 MySQL에 옮기는 중....\n"
     ]
    },
    {
     "name": "stderr",
     "output_type": "stream",
     "text": [
      "                                                                                \r"
     ]
    },
    {
     "name": "stdout",
     "output_type": "stream",
     "text": [
      "BKNG 데이터가 성공적으로 저장....\n",
      "82/100번째 BKNG 데이터 저장 완료!\n",
      "REGN 데이터 수집 시작...\n"
     ]
    },
    {
     "name": "stderr",
     "output_type": "stream",
     "text": [
      "[*********************100%***********************]  1 of 1 completed\n"
     ]
    },
    {
     "name": "stdout",
     "output_type": "stream",
     "text": [
      "REGN 데이터를 MySQL에 옮기는 중....\n"
     ]
    },
    {
     "name": "stderr",
     "output_type": "stream",
     "text": [
      "                                                                                \r"
     ]
    },
    {
     "name": "stdout",
     "output_type": "stream",
     "text": [
      "REGN 데이터가 성공적으로 저장....\n",
      "83/100번째 REGN 데이터 저장 완료!\n",
      "TFC 데이터 수집 시작...\n"
     ]
    },
    {
     "name": "stderr",
     "output_type": "stream",
     "text": [
      "[*********************100%***********************]  1 of 1 completed\n"
     ]
    },
    {
     "name": "stdout",
     "output_type": "stream",
     "text": [
      "TFC 데이터를 MySQL에 옮기는 중....\n"
     ]
    },
    {
     "name": "stderr",
     "output_type": "stream",
     "text": [
      "                                                                                \r"
     ]
    },
    {
     "name": "stdout",
     "output_type": "stream",
     "text": [
      "TFC 데이터가 성공적으로 저장....\n",
      "84/100번째 TFC 데이터 저장 완료!\n",
      "EW 데이터 수집 시작...\n"
     ]
    },
    {
     "name": "stderr",
     "output_type": "stream",
     "text": [
      "[*********************100%***********************]  1 of 1 completed\n"
     ]
    },
    {
     "name": "stdout",
     "output_type": "stream",
     "text": [
      "EW 데이터를 MySQL에 옮기는 중....\n"
     ]
    },
    {
     "name": "stderr",
     "output_type": "stream",
     "text": [
      "                                                                                \r"
     ]
    },
    {
     "name": "stdout",
     "output_type": "stream",
     "text": [
      "EW 데이터가 성공적으로 저장....\n",
      "85/100번째 EW 데이터 저장 완료!\n",
      "BSX 데이터 수집 시작...\n"
     ]
    },
    {
     "name": "stderr",
     "output_type": "stream",
     "text": [
      "[*********************100%***********************]  1 of 1 completed\n"
     ]
    },
    {
     "name": "stdout",
     "output_type": "stream",
     "text": [
      "BSX 데이터를 MySQL에 옮기는 중....\n"
     ]
    },
    {
     "name": "stderr",
     "output_type": "stream",
     "text": [
      "                                                                                \r"
     ]
    },
    {
     "name": "stdout",
     "output_type": "stream",
     "text": [
      "BSX 데이터가 성공적으로 저장....\n",
      "86/100번째 BSX 데이터 저장 완료!\n",
      "APD 데이터 수집 시작...\n"
     ]
    },
    {
     "name": "stderr",
     "output_type": "stream",
     "text": [
      "[*********************100%***********************]  1 of 1 completed\n"
     ]
    },
    {
     "name": "stdout",
     "output_type": "stream",
     "text": [
      "APD 데이터를 MySQL에 옮기는 중....\n"
     ]
    },
    {
     "name": "stderr",
     "output_type": "stream",
     "text": [
      "                                                                                \r"
     ]
    },
    {
     "name": "stdout",
     "output_type": "stream",
     "text": [
      "APD 데이터가 성공적으로 저장....\n",
      "87/100번째 APD 데이터 저장 완료!\n",
      "VRTX 데이터 수집 시작...\n"
     ]
    },
    {
     "name": "stderr",
     "output_type": "stream",
     "text": [
      "[*********************100%***********************]  1 of 1 completed\n"
     ]
    },
    {
     "name": "stdout",
     "output_type": "stream",
     "text": [
      "VRTX 데이터를 MySQL에 옮기는 중....\n"
     ]
    },
    {
     "name": "stderr",
     "output_type": "stream",
     "text": [
      "                                                                                \r"
     ]
    },
    {
     "name": "stdout",
     "output_type": "stream",
     "text": [
      "VRTX 데이터가 성공적으로 저장....\n",
      "88/100번째 VRTX 데이터 저장 완료!\n",
      "BMY 데이터 수집 시작...\n"
     ]
    },
    {
     "name": "stderr",
     "output_type": "stream",
     "text": [
      "[*********************100%***********************]  1 of 1 completed\n"
     ]
    },
    {
     "name": "stdout",
     "output_type": "stream",
     "text": [
      "BMY 데이터를 MySQL에 옮기는 중....\n"
     ]
    },
    {
     "name": "stderr",
     "output_type": "stream",
     "text": [
      "                                                                                \r"
     ]
    },
    {
     "name": "stdout",
     "output_type": "stream",
     "text": [
      "BMY 데이터가 성공적으로 저장....\n",
      "89/100번째 BMY 데이터 저장 완료!\n",
      "WM 데이터 수집 시작...\n"
     ]
    },
    {
     "name": "stderr",
     "output_type": "stream",
     "text": [
      "[*********************100%***********************]  1 of 1 completed\n"
     ]
    },
    {
     "name": "stdout",
     "output_type": "stream",
     "text": [
      "WM 데이터를 MySQL에 옮기는 중....\n"
     ]
    },
    {
     "name": "stderr",
     "output_type": "stream",
     "text": [
      "                                                                                \r"
     ]
    },
    {
     "name": "stdout",
     "output_type": "stream",
     "text": [
      "WM 데이터가 성공적으로 저장....\n",
      "90/100번째 WM 데이터 저장 완료!\n",
      "F 데이터 수집 시작...\n"
     ]
    },
    {
     "name": "stderr",
     "output_type": "stream",
     "text": [
      "[*********************100%***********************]  1 of 1 completed\n"
     ]
    },
    {
     "name": "stdout",
     "output_type": "stream",
     "text": [
      "F 데이터를 MySQL에 옮기는 중....\n"
     ]
    },
    {
     "name": "stderr",
     "output_type": "stream",
     "text": [
      "                                                                                \r"
     ]
    },
    {
     "name": "stdout",
     "output_type": "stream",
     "text": [
      "F 데이터가 성공적으로 저장....\n",
      "91/100번째 F 데이터 저장 완료!\n",
      "GM 데이터 수집 시작...\n"
     ]
    },
    {
     "name": "stderr",
     "output_type": "stream",
     "text": [
      "[*********************100%***********************]  1 of 1 completed\n"
     ]
    },
    {
     "name": "stdout",
     "output_type": "stream",
     "text": [
      "GM 데이터를 MySQL에 옮기는 중....\n"
     ]
    },
    {
     "name": "stderr",
     "output_type": "stream",
     "text": [
      "                                                                                \r"
     ]
    },
    {
     "name": "stdout",
     "output_type": "stream",
     "text": [
      "GM 데이터가 성공적으로 저장....\n",
      "92/100번째 GM 데이터 저장 완료!\n",
      "NOC 데이터 수집 시작...\n"
     ]
    },
    {
     "name": "stderr",
     "output_type": "stream",
     "text": [
      "[*********************100%***********************]  1 of 1 completed\n"
     ]
    },
    {
     "name": "stdout",
     "output_type": "stream",
     "text": [
      "NOC 데이터를 MySQL에 옮기는 중....\n"
     ]
    },
    {
     "name": "stderr",
     "output_type": "stream",
     "text": [
      "                                                                                \r"
     ]
    },
    {
     "name": "stdout",
     "output_type": "stream",
     "text": [
      "NOC 데이터가 성공적으로 저장....\n",
      "93/100번째 NOC 데이터 저장 완료!\n",
      "PANW 데이터 수집 시작...\n"
     ]
    },
    {
     "name": "stderr",
     "output_type": "stream",
     "text": [
      "[*********************100%***********************]  1 of 1 completed\n"
     ]
    },
    {
     "name": "stdout",
     "output_type": "stream",
     "text": [
      "PANW 데이터를 MySQL에 옮기는 중....\n"
     ]
    },
    {
     "name": "stderr",
     "output_type": "stream",
     "text": [
      "                                                                                \r"
     ]
    },
    {
     "name": "stdout",
     "output_type": "stream",
     "text": [
      "PANW 데이터가 성공적으로 저장....\n",
      "94/100번째 PANW 데이터 저장 완료!\n",
      "DE 데이터 수집 시작...\n"
     ]
    },
    {
     "name": "stderr",
     "output_type": "stream",
     "text": [
      "[*********************100%***********************]  1 of 1 completed\n"
     ]
    },
    {
     "name": "stdout",
     "output_type": "stream",
     "text": [
      "DE 데이터를 MySQL에 옮기는 중....\n"
     ]
    },
    {
     "name": "stderr",
     "output_type": "stream",
     "text": [
      "                                                                                \r"
     ]
    },
    {
     "name": "stdout",
     "output_type": "stream",
     "text": [
      "DE 데이터가 성공적으로 저장....\n",
      "95/100번째 DE 데이터 저장 완료!\n",
      "EOG 데이터 수집 시작...\n"
     ]
    },
    {
     "name": "stderr",
     "output_type": "stream",
     "text": [
      "[*********************100%***********************]  1 of 1 completed\n"
     ]
    },
    {
     "name": "stdout",
     "output_type": "stream",
     "text": [
      "EOG 데이터를 MySQL에 옮기는 중....\n"
     ]
    },
    {
     "name": "stderr",
     "output_type": "stream",
     "text": [
      "                                                                                \r"
     ]
    },
    {
     "name": "stdout",
     "output_type": "stream",
     "text": [
      "EOG 데이터가 성공적으로 저장....\n",
      "96/100번째 EOG 데이터 저장 완료!\n",
      "ETN 데이터 수집 시작...\n"
     ]
    },
    {
     "name": "stderr",
     "output_type": "stream",
     "text": [
      "[*********************100%***********************]  1 of 1 completed\n"
     ]
    },
    {
     "name": "stdout",
     "output_type": "stream",
     "text": [
      "ETN 데이터를 MySQL에 옮기는 중....\n"
     ]
    },
    {
     "name": "stderr",
     "output_type": "stream",
     "text": [
      "                                                                                \r"
     ]
    },
    {
     "name": "stdout",
     "output_type": "stream",
     "text": [
      "ETN 데이터가 성공적으로 저장....\n",
      "97/100번째 ETN 데이터 저장 완료!\n",
      "AON 데이터 수집 시작...\n"
     ]
    },
    {
     "name": "stderr",
     "output_type": "stream",
     "text": [
      "[*********************100%***********************]  1 of 1 completed\n"
     ]
    },
    {
     "name": "stdout",
     "output_type": "stream",
     "text": [
      "AON 데이터를 MySQL에 옮기는 중....\n"
     ]
    },
    {
     "name": "stderr",
     "output_type": "stream",
     "text": [
      "                                                                                \r"
     ]
    },
    {
     "name": "stdout",
     "output_type": "stream",
     "text": [
      "AON 데이터가 성공적으로 저장....\n",
      "98/100번째 AON 데이터 저장 완료!\n",
      "SHW 데이터 수집 시작...\n"
     ]
    },
    {
     "name": "stderr",
     "output_type": "stream",
     "text": [
      "[*********************100%***********************]  1 of 1 completed\n"
     ]
    },
    {
     "name": "stdout",
     "output_type": "stream",
     "text": [
      "SHW 데이터를 MySQL에 옮기는 중....\n"
     ]
    },
    {
     "name": "stderr",
     "output_type": "stream",
     "text": [
      "                                                                                \r"
     ]
    },
    {
     "name": "stdout",
     "output_type": "stream",
     "text": [
      "SHW 데이터가 성공적으로 저장....\n",
      "99/100번째 SHW 데이터 저장 완료!\n",
      "LIN 데이터 수집 시작...\n"
     ]
    },
    {
     "name": "stderr",
     "output_type": "stream",
     "text": [
      "[*********************100%***********************]  1 of 1 completed\n"
     ]
    },
    {
     "name": "stdout",
     "output_type": "stream",
     "text": [
      "LIN 데이터를 MySQL에 옮기는 중....\n"
     ]
    },
    {
     "name": "stderr",
     "output_type": "stream",
     "text": [
      "[Stage 349:===============================================>     (178 + 2) / 200]\r"
     ]
    },
    {
     "name": "stdout",
     "output_type": "stream",
     "text": [
      "LIN 데이터가 성공적으로 저장....\n",
      "100/100번째 LIN 데이터 저장 완료!\n",
      "\n",
      "===== 결과 요약 =====\n",
      "전체 종목: 100개\n",
      "성공한 종목: 100개\n",
      "실패한 종목: 0개\n"
     ]
    },
    {
     "name": "stderr",
     "output_type": "stream",
     "text": [
      "                                                                                \r"
     ]
    }
   ],
   "source": [
    "# 시작 및 종료 날짜(10년정도로 지정)\n",
    "start_date = \"2014-10-30\"\n",
    "end_date = \"2024-10-30\"\n",
    "\n",
    "# 성공/실패 기록용 리스트\n",
    "success_list = []\n",
    "failure_list = []\n",
    "idx = 1\n",
    "\n",
    "# 각 종목 데이터를 가져와 저장\n",
    "for ticker in tickers:\n",
    "    try:\n",
    "        print(f\"{ticker} 데이터 수집 시작...\")\n",
    "        fetch_and_save_data(ticker, start_date, end_date)\n",
    "        print(f\"{idx}/100번째 {ticker} 데이터 저장 완료!\")\n",
    "        print('=' * 30)\n",
    "        success_list.append(ticker)  # 성공한 종목 추가\n",
    "        idx+=1\n",
    "    except Exception as e:\n",
    "        print(f\"{idx}/100번째 {ticker} 데이터 수집 중 오류 발생: {e}\")\n",
    "        print('*' * 30)\n",
    "        failure_list.append(ticker)  # 실패한 종목 추가\n",
    "        idx+=1\n",
    "\n",
    "# 결과 출력\n",
    "print(\"\\n===== 결과 요약 =====\")\n",
    "print(f\"전체 종목: {len(tickers)}개\")\n",
    "print(f\"성공한 종목: {len(success_list)}개\")\n",
    "print(f\"실패한 종목: {len(failure_list)}개\")\n",
    "if failure_list:\n",
    "    print(f\"실패한 종목 목록: {failure_list}\")"
   ]
  },
  {
   "attachments": {
    "206b8ed8-a582-4695-8e28-5796fb557c0d.png": {
     "image/png": "[encoded data removed]"
    },
    "2a850bd1-e32d-453c-a2e1-8e178871931f.png": {
     "image/png": "[encoded data removed]"
    }
   },
   "cell_type": "markdown",
   "id": "55f54d7d-a0ae-4d60-a6b9-bae07d088cb4",
   "metadata": {},
   "source": [
    "![image.png](attachment:206b8ed8-a582-4695-8e28-5796fb557c0d.png)\n",
    "![image.png](attachment:2a850bd1-e32d-453c-a2e1-8e178871931f.png)\n",
    "#### 확인 결과, 총 데이터는 약 25만개이며 중복 데이터는 없는 것으로 확인되었다."
   ]
  },
  {
   "cell_type": "code",
   "execution_count": 54,
   "id": "f842f88b-e70b-48b2-8633-996862592dde",
   "metadata": {},
   "outputs": [
    {
     "name": "stderr",
     "output_type": "stream",
     "text": [
      "                                                                                \r"
     ]
    },
    {
     "name": "stdout",
     "output_type": "stream",
     "text": [
      "기존 CSV 데이터 로드 완료.\n",
      "최종 결과 리스트에 변화가 없습니다(전부 중복되는 데이터).\n"
     ]
    }
   ],
   "source": [
    "# 학습 가능한 형태로 변환\n",
    "create_final_dataset_from_sql(\"final_data.csv\",\"final_data.csv\") #정상적으로 생성된 것을 확인"
   ]
  },
  {
   "attachments": {
    "43dcda54-7527-49e1-b416-d286c414ab72.png": {
     "image/png": "[encoded data removed]"
    }
   },
   "cell_type": "markdown",
   "id": "aa2c6891-8b27-495a-8ac3-5935e7870cd3",
   "metadata": {},
   "source": [
    "![image.png](attachment:43dcda54-7527-49e1-b416-d286c414ab72.png)"
   ]
  },
  {
   "cell_type": "markdown",
   "id": "e565363e-f015-4d09-90bf-d52a2f6e0123",
   "metadata": {},
   "source": [
    "# **👍데이터 탐색 및 예측 모델 생성👍**"
   ]
  },
  {
   "cell_type": "code",
   "execution_count": 88,
   "id": "a1c2c14d-df8d-473d-853d-42299d6873d7",
   "metadata": {},
   "outputs": [],
   "source": [
    "# 전처리 해야할 것\n",
    "#1. 추세가 초기인 데이터는 그날의 등락률이 양수면 상승, 음수면 하락으로 변경\n",
    "#2. 결측값 존재 확인"
   ]
  },
  {
   "cell_type": "code",
   "execution_count": 20,
   "id": "c80b0572-425f-434b-a959-3084eefc424d",
   "metadata": {
    "scrolled": true
   },
   "outputs": [
    {
     "name": "stderr",
     "output_type": "stream",
     "text": [
      "                                                                                \r"
     ]
    }
   ],
   "source": [
    "from pyspark.sql import SparkSession\n",
    "from pyspark.sql.functions import col, when\n",
    "spark.stop()\n",
    "# 스파크 세션 생성\n",
    "spark = SparkSession.builder \\\n",
    "    .appName(\"Stock Prediction\") \\\n",
    "    .config(\"spark.some.config.option\", \"some-value\") \\\n",
    "    .getOrCreate()\n",
    "\n",
    "# CSV 파일 로드\n",
    "data_path = \"final_data.csv\"\n",
    "df = spark.read.csv(data_path, header=True, inferSchema=True)\n",
    "\n",
    "df.createOrReplaceTempView(\"stock_data\") # Spark DataFrame을 SQL 테이블로 등록"
   ]
  },
  {
   "cell_type": "markdown",
   "id": "7ffb1d82-729b-4f8c-93ae-b6ea86828542",
   "metadata": {},
   "source": [
    "## **👍추가적으로 필요한 전처리 하기👍**"
   ]
  },
  {
   "cell_type": "code",
   "execution_count": 21,
   "id": "4ffe2925-4801-4374-acb3-6d4e767e71db",
   "metadata": {},
   "outputs": [
    {
     "name": "stderr",
     "output_type": "stream",
     "text": [
      "                                                                                \r"
     ]
    },
    {
     "name": "stdout",
     "output_type": "stream",
     "text": [
      "컬럼 '종목명'의 결측값 개수: 0\n",
      "컬럼 '날짜'의 결측값 개수: 0\n"
     ]
    },
    {
     "name": "stderr",
     "output_type": "stream",
     "text": [
      "                                                                                \r"
     ]
    },
    {
     "name": "stdout",
     "output_type": "stream",
     "text": [
      "컬럼 '등락률'의 결측값 개수: 0\n",
      "컬럼 '거래량'의 결측값 개수: 0\n",
      "컬럼 '단기 추세'의 결측값 개수: 0\n",
      "컬럼 '단기 추세 거래량 비율'의 결측값 개수: 0\n",
      "컬럼 '단기 추세 누적 거래량'의 결측값 개수: 0\n",
      "컬럼 '20일 거래량 비율'의 결측값 개수: 0\n",
      "컬럼 '목표'의 결측값 개수: 0\n"
     ]
    },
    {
     "name": "stderr",
     "output_type": "stream",
     "text": [
      "[Stage 20:=============================>                            (1 + 1) / 2]\r"
     ]
    },
    {
     "name": "stdout",
     "output_type": "stream",
     "text": [
      "+------+----------+----------+-------+---------+---------------------+---------------------+----------------+----+\n",
      "|종목명|      날짜|    등락률| 거래량|단기 추세|단기 추세 거래량 비율|단기 추세 누적 거래량|20일 거래량 비율|목표|\n",
      "+------+----------+----------+-------+---------+---------------------+---------------------+----------------+----+\n",
      "|  SPGI|2014-11-04| -0.687051| 927700|        0|                  1.0|               927700|            0.72|   1|\n",
      "|  SPGI|2014-11-05|   1.02655|1882900|        1|                 2.03|              1882900|             1.3|   0|\n",
      "|  SPGI|2014-11-06|  -0.60747|1267700|        1|                  3.4|              3150600|             0.9|   0|\n",
      "|  SPGI|2014-11-07|-0.0555566|1073200|        0|                 0.34|              1073200|            0.79|   1|\n",
      "|  SPGI|2014-11-10|  0.733818| 843300|        0|                 0.61|              1916500|            0.66|   0|\n",
      "|  SPGI|2014-11-11|  -1.31346|1356900|        0|                 1.04|              3273400|            1.05|   1|\n",
      "|  SPGI|2014-11-12|   1.23029|1257200|        0|                 1.44|              4530600|            0.98|   1|\n",
      "|  SPGI|2014-11-13|  0.209916|1222000|        0|                 1.83|              5752600|            0.96|   1|\n",
      "|  SPGI|2014-11-14|  0.474091| 818100|        0|                 2.09|              6570700|            0.66|   1|\n",
      "|  SPGI|2014-11-17|  0.153626| 900400|        0|                 2.37|              7471100|            0.74|   1|\n",
      "|  SPGI|2014-11-18|   1.19426|1112900|        0|                 2.72|              8584000|            0.93|   0|\n",
      "|  SPGI|2014-11-19|  -1.38588|1344600|        0|                 3.15|              9928600|            1.11|   0|\n",
      "|  SPGI|2014-11-20| -0.230566|1320400|        0|                 3.57|             11249000|            1.08|   1|\n",
      "|  SPGI|2014-11-21|   1.23252|1135200|        1|                  0.1|              1135200|            0.93|   1|\n",
      "|  SPGI|2014-11-24|  0.489189|1002300|        1|                 0.19|              2137500|            0.83|   1|\n",
      "|  SPGI|2014-11-25|  0.389442| 987600|        1|                 0.28|              3125100|            0.83|   1|\n",
      "|  SPGI|2014-11-26|  0.377154| 787800|        1|                 0.35|              3912900|            0.67|   1|\n",
      "|  SPGI|2014-11-28|  0.332794| 808800|        1|                 0.42|              4721700|             0.7|   0|\n",
      "|  SPGI|2014-12-01| -0.577788| 910400|        0|                 0.19|               910400|            0.81|   1|\n",
      "|  SPGI|2014-12-02|  0.215244| 911000|        0|                 0.39|              1821400|            0.83|   0|\n",
      "|  SPGI|2014-12-03|-0.0966537| 638800|        0|                 0.52|              2460200|            0.59|   1|\n",
      "|  SPGI|2014-12-04|  0.354726|1536500|        0|                 0.85|              3996700|            1.45|   1|\n",
      "|  SPGI|2014-12-05|  0.374891| 711100|        0|                  1.0|              4707800|            0.69|   0|\n",
      "|  SPGI|2014-12-08|   -2.0382|2577400|        0|                 1.54|              7285200|            2.32|   1|\n",
      "|  SPGI|2014-12-09| 0.0108873|1758100|        0|                 1.92|              9043300|            1.52|   0|\n",
      "|  SPGI|2014-12-10| -0.283188|2075500|        0|                 2.35|             11118800|            1.74|   0|\n",
      "|  SPGI|2014-12-11| -0.895685|1026600|        0|                 2.57|             12145400|            0.87|   0|\n",
      "|  SPGI|2014-12-12|  -2.43581| 878300|        0|                 2.76|             13023700|            0.76|   0|\n",
      "|  SPGI|2014-12-15| -0.598733| 976000|        0|                 2.96|             13999700|            0.83|   0|\n",
      "|  SPGI|2014-12-16|  -1.62519|1145900|        0|                 3.21|             15145600|            0.97|   1|\n",
      "+------+----------+----------+-------+---------+---------------------+---------------------+----------------+----+\n",
      "only showing top 30 rows\n",
      "\n"
     ]
    },
    {
     "name": "stderr",
     "output_type": "stream",
     "text": [
      "                                                                                \r"
     ]
    }
   ],
   "source": [
    "# 다음날의 등락률 기준으로 상승/하락 구분하는 목표(라벨)컬럼 추가\n",
    "from pyspark.sql.window import Window\n",
    "from pyspark.sql.functions import *\n",
    "\n",
    "window_spec = Window.partitionBy(\"종목명\").orderBy(\"날짜\") # 종목별 날짜 순서로 정렬\n",
    "df = df.withColumn(\"다음날 등락률\", lead(\"등락률\", 1).over(window_spec)) # 다음날 등락률 계산\n",
    "df = df.withColumn(\"목표\", when(col(\"다음날 등락률\") > 0, 1).otherwise(0)) # 목표 컬럼 업데이트 (다음날 등락률 기반으로 상승/하락 여부 설정)\n",
    "df = df.drop(\"다음날 등락률\") # \"다음날 등락률\" 컬럼 삭제 (필요 시)\n",
    "\n",
    "# 추세=초기(해당 종목의 가장 오래된 데이터)인 데이터의 초기 값을 그날의 등락률에 따라 상승 혹은 하락으로 조정\n",
    "# '단기 추세' 컬럼 업데이트: '초기'인 경우 등락률 기준으로 변경\n",
    "df = df.withColumn(\n",
    "    \"단기 추세\",\n",
    "    when((col(\"단기 추세\") == \"초기\") & (col(\"등락률\") >= 0), \"상승\")\n",
    "    .when((col(\"단기 추세\") == \"초기\") & (col(\"등락률\") < 0), \"하락\")\n",
    "    .otherwise(col(\"단기 추세\"))  # 기존 값 유지\n",
    ")\n",
    "\n",
    "# 기존 \"단기 추세\" 컬럼 값을 인코딩 (상승 -> 1, 하락 -> 0)\n",
    "df = df.withColumn(\"단기 추세\", when(col(\"단기 추세\") == \"상승\", 1).otherwise(0))\n",
    "\n",
    "# 각 컬럼에서 결측값이 있는 행의 수를 확인 : 없음. \n",
    "for column in df.columns : print(f\"컬럼 '{column}'의 결측값 개수: {df.filter(col(column).isNull()).count()}\")\n",
    "\n",
    "# 결과 확인\n",
    "df.show(30)"
   ]
  },
  {
   "cell_type": "code",
   "execution_count": 23,
   "id": "f38f4189-e77a-403f-b1c3-cf149bcaec08",
   "metadata": {},
   "outputs": [
    {
     "name": "stdout",
     "output_type": "stream",
     "text": [
      "+--------+\n",
      "|count(1)|\n",
      "+--------+\n",
      "|  253644|\n",
      "+--------+\n",
      "\n"
     ]
    }
   ],
   "source": [
    "# TempView 생성 및 간단하게 데이터 개수만 확인\n",
    "df.createOrReplaceTempView(\"stock_data\")\n",
    "spark.sql(\"SELECT count(*) FROM stock_data\").show()"
   ]
  },
  {
   "cell_type": "code",
   "execution_count": 24,
   "id": "e4375c4b-3ca2-4125-a9be-687a0603e311",
   "metadata": {},
   "outputs": [
    {
     "name": "stderr",
     "output_type": "stream",
     "text": [
      "                                                                                \r"
     ]
    },
    {
     "name": "stdout",
     "output_type": "stream",
     "text": [
      "+----+-----+------------------+\n",
      "|목표|count|        avg_return|\n",
      "+----+-----+------------------+\n",
      "|   1| 1880|  2.24628465425532|\n",
      "|   0| 1929|2.4472705221876607|\n",
      "+----+-----+------------------+\n",
      "\n"
     ]
    }
   ],
   "source": [
    "# 추세가 실질적인 영향을 주는 지 확인해보기\n",
    "\n",
    "query = \"\"\"\n",
    "    SELECT \n",
    "        `목표`, \n",
    "        COUNT(*) AS count, \n",
    "        AVG(`등락률`) AS avg_return\n",
    "    FROM stock_data\n",
    "    WHERE `단기 추세` = 1\n",
    "      AND `20일 거래량 비율` >= 1.5 \n",
    "      AND `단기 추세 거래량 비율` >= 1.2\n",
    "    GROUP BY `목표`\n",
    "\"\"\"\n",
    "\n",
    "# 쿼리 실행\n",
    "result = spark.sql(query)\n",
    "\n",
    "# 결과 확인 : 거의 정확히 반반...\n",
    "result.show()"
   ]
  },
  {
   "cell_type": "code",
   "execution_count": 25,
   "id": "e2802d04-0fba-4979-a816-89d9be3227b9",
   "metadata": {
    "scrolled": true
   },
   "outputs": [
    {
     "name": "stderr",
     "output_type": "stream",
     "text": [
      "                                                                                \r"
     ]
    },
    {
     "name": "stdout",
     "output_type": "stream",
     "text": [
      "ROC-AUC 점수: 0.5162\n",
      "+--------------------+----+----------+\n",
      "|            features|목표|prediction|\n",
      "+--------------------+----+----------+\n",
      "|[1.23029,1257200....|   1|       1.0|\n",
      "|[0.474091,818100....|   1|       1.0|\n",
      "|[-2.0382,2577400....|   1|       1.0|\n",
      "|[0.376269,745500....|   0|       1.0|\n",
      "|[-1.42528,766100....|   1|       1.0|\n",
      "|[5.98181,3777400....|   0|       0.0|\n",
      "|[-0.686165,109110...|   1|       1.0|\n",
      "|[0.209323,2370600...|   0|       1.0|\n",
      "|[0.424743,935700....|   0|       1.0|\n",
      "|[0.915081,2016200...|   1|       1.0|\n",
      "|[0.0,1760400.0,1....|   1|       1.0|\n",
      "|[-0.183259,130520...|   0|       1.0|\n",
      "|[-1.81369,1400300...|   1|       1.0|\n",
      "|[0.968827,1027000...|   1|       1.0|\n",
      "|[0.921529,951600....|   0|       1.0|\n",
      "|[-1.38514,1044100...|   0|       1.0|\n",
      "|[-0.163933,837900...|   1|       1.0|\n",
      "|[-0.606058,868300...|   1|       1.0|\n",
      "|[0.99552,1039100....|   1|       1.0|\n",
      "|[-0.958121,217270...|   1|       1.0|\n",
      "|[3.13008,2266000....|   1|       0.0|\n",
      "|[-0.984252,100410...|   1|       1.0|\n",
      "|[2.92926,1899100....|   1|       1.0|\n",
      "|[-1.95619,1720300...|   1|       1.0|\n",
      "|[-0.0672618,12427...|   0|       1.0|\n",
      "|[0.442521,696100....|   0|       1.0|\n",
      "|[-1.34049,952100....|   0|       1.0|\n",
      "|[-0.104938,185160...|   1|       1.0|\n",
      "|[0.927179,1475600...|   0|       1.0|\n",
      "|[-0.0309649,24540...|   0|       1.0|\n",
      "+--------------------+----+----------+\n",
      "only showing top 30 rows\n",
      "\n"
     ]
    }
   ],
   "source": [
    "# 등락 여부를 구분하는 모델 생성 - 50대 50\n",
    "from pyspark.ml.feature import VectorAssembler\n",
    "from pyspark.ml.classification import RandomForestClassifier\n",
    "from pyspark.ml.evaluation import BinaryClassificationEvaluator\n",
    "from pyspark.sql.functions import col\n",
    "\n",
    "# 피처 컬럼 설정\n",
    "feature_columns = [\"등락률\", \"거래량\", \"단기 추세\", \"단기 추세 거래량 비율\", \"단기 추세 누적 거래량\", \"20일 거래량 비율\"]\n",
    "df = df.drop(\"features\")  # 기존 features 칼럼 제거\n",
    "assembler = VectorAssembler(inputCols=feature_columns, outputCol=\"features\")\n",
    "df = assembler.transform(df)\n",
    "\n",
    " \n",
    "train_data, test_data = df.randomSplit([0.85, 0.15], seed=42) # 데이터 분리\n",
    "rf = RandomForestClassifier(featuresCol=\"features\", labelCol=\"목표\", numTrees=100, maxDepth=5) # RandomForest 모델 생성 및 학습\n",
    "rf_model = rf.fit(train_data)\n",
    "\n",
    "predictions = rf_model.transform(test_data) # 테스트 데이터 예측\n",
    "\n",
    "evaluator = BinaryClassificationEvaluator(labelCol=\"목표\", rawPredictionCol=\"rawPrediction\", metricName=\"areaUnderROC\") # 평가 (ROC-AUC)\n",
    "roc_auc = evaluator.evaluate(predictions)\n",
    "print(f\"ROC-AUC 점수: {roc_auc:.4f}\")\n",
    "\n",
    "# 결과 출력\n",
    "predictions.select(\"features\", \"목표\", \"prediction\").show(30)"
   ]
  },
  {
   "attachments": {},
   "cell_type": "markdown",
   "id": "564c6d97-2b9c-4cca-8308-127e148c12a1",
   "metadata": {},
   "source": [
    "# **📚1차 결과 분석 및 프로젝트 변경 내용**\n",
    "\n",
    "### **변경 내용**\n",
    "기존에는 익일의 상승 혹은 하락 여부를 분류하는 분류형 문제로 접근했으나, 모델 학습 및 조건식 적용 결과, **상승 혹은 하락 확률이 50대 50에 수렴**했으며 **학습 결과 역시 ROC정확도가 0.51정도로 익일의 단순 상승 하락 여부의 구분이 매우 어려운 것으로 확인**되었다. 이에 따라 **라벨값을 추세 누적 등락률 합으로 변경**하여 **회귀 형태의 문제**로 프로젝트 계획을 수정.\n",
    "\n",
    "### **새로 만든 컬럼: `추세_기대_등락률`**\n",
    "- **내용**: 동일한 단기 추세(상승 또는 하락)가 지속되는 동안의 등락률을 누적하여 계산한 컬럼. 추세가 유지되는 동안 투자를 지속할때 기대 가능한 수익률을 계산해 Label값으로 활용"
   ]
  },
  {
   "cell_type": "code",
   "execution_count": null,
   "id": "bbdefa26-f1ad-4523-a176-935c35cb7501",
   "metadata": {},
   "outputs": [],
   "source": [
    "from pyspark.sql.functions import *\n",
    "from pyspark.sql.window import Window\n",
    "\n",
    "# 추세 변화 감지\n",
    "window_spec = Window.partitionBy(\"종목명\").orderBy(\"날짜\")\n",
    "df = df.withColumn(\"추세_변화\", when(lag(\"단기 추세\", 1).over(window_spec) != col(\"단기 추세\"), 1).otherwise(0))\n",
    "\n",
    "# 추세별로 그룹 생성\n",
    "window_cumsum = Window.partitionBy(\"종목명\").orderBy(\"날짜\")\n",
    "df = df.withColumn(\"추세_그룹\", _sum(\"추세_변화\").over(window_cumsum))\n",
    "\n",
    "# 추세 그룹 내 누적 등락률 계산\n",
    "window_group = Window.partitionBy(\"종목명\", \"추세_그룹\")\n",
    "df = df.withColumn(\"추세_누적_등락률\",round(_sum(\"등락률\").over(window_group),2))\n",
    "\n",
    "# 추세 그룹 내 최대 누적 등락률 추세_누적_등락률 컬럼의 값을 추가\n",
    "df = df.withColumn(\"추세_누적_등락률\",round(_max(\"추세_누적_등락률\").over(window_group),2))\n",
    "\n",
    "# Step 5: 추세 변화와 추세 그룹 컬럼 삭제\n",
    "df = df.drop(\"추세_변화\", \"추세_그룹\")\n",
    "\n",
    "# 결과 확인\n",
    "df.show(30)\n"
   ]
  },
  {
   "cell_type": "code",
   "execution_count": 268,
   "id": "bb2cc28b-7cec-43cd-b228-9e55aae94eee",
   "metadata": {},
   "outputs": [
    {
     "name": "stdout",
     "output_type": "stream",
     "text": [
      "+------+----------+----------+-------+---------+---------------------+---------------------+----------------+----------------+----------------+\n",
      "|종목명|날짜      |등락률    |거래량 |단기 추세|단기 추세 거래량 비율|단기 추세 누적 거래량|20일 거래량 비율|추세_전체_등락률|추세_누적_등락률|\n",
      "+------+----------+----------+-------+---------+---------------------+---------------------+----------------+----------------+----------------+\n",
      "|SPGI  |2014-11-04|-0.687051 |927700 |0        |1.0                  |927700               |0.72            |-0.69           |-0.69           |\n",
      "|SPGI  |2014-11-05|1.02655   |1882900|1        |2.03                 |1882900              |1.3             |0.42            |1.03            |\n",
      "|SPGI  |2014-11-06|-0.60747  |1267700|1        |3.4                  |3150600              |0.9             |0.42            |0.42            |\n",
      "|SPGI  |2014-11-07|-0.0555566|1073200|0        |0.34                 |1073200              |0.79            |1.01            |-0.06           |\n",
      "|SPGI  |2014-11-10|0.733818  |843300 |0        |0.61                 |1916500              |0.66            |1.01            |0.68            |\n",
      "|SPGI  |2014-11-11|-1.31346  |1356900|0        |1.04                 |3273400              |1.05            |1.01            |-0.64           |\n",
      "|SPGI  |2014-11-12|1.23029   |1257200|0        |1.44                 |4530600              |0.98            |1.01            |0.6             |\n",
      "|SPGI  |2014-11-13|0.209916  |1222000|0        |1.83                 |5752600              |0.96            |1.01            |0.81            |\n",
      "|SPGI  |2014-11-14|0.474091  |818100 |0        |2.09                 |6570700              |0.66            |1.01            |1.28            |\n",
      "|SPGI  |2014-11-17|0.153626  |900400 |0        |2.37                 |7471100              |0.74            |1.01            |1.43            |\n",
      "|SPGI  |2014-11-18|1.19426   |1112900|0        |2.72                 |8584000              |0.93            |1.01            |2.63            |\n",
      "|SPGI  |2014-11-19|-1.38588  |1344600|0        |3.15                 |9928600              |1.11            |1.01            |1.24            |\n",
      "|SPGI  |2014-11-20|-0.230566 |1320400|0        |3.57                 |11249000             |1.08            |1.01            |1.01            |\n",
      "|SPGI  |2014-11-21|1.23252   |1135200|1        |0.1                  |1135200              |0.93            |2.82            |1.23            |\n",
      "|SPGI  |2014-11-24|0.489189  |1002300|1        |0.19                 |2137500              |0.83            |2.82            |1.72            |\n",
      "|SPGI  |2014-11-25|0.389442  |987600 |1        |0.28                 |3125100              |0.83            |2.82            |2.11            |\n",
      "|SPGI  |2014-11-26|0.377154  |787800 |1        |0.35                 |3912900              |0.67            |2.82            |2.49            |\n",
      "|SPGI  |2014-11-28|0.332794  |808800 |1        |0.42                 |4721700              |0.7             |2.82            |2.82            |\n",
      "|SPGI  |2014-12-01|-0.577788 |910400 |0        |0.19                 |910400               |0.81            |-7.6            |-0.58           |\n",
      "|SPGI  |2014-12-02|0.215244  |911000 |0        |0.39                 |1821400              |0.83            |-7.6            |-0.36           |\n",
      "|SPGI  |2014-12-03|-0.0966537|638800 |0        |0.52                 |2460200              |0.59            |-7.6            |-0.46           |\n",
      "|SPGI  |2014-12-04|0.354726  |1536500|0        |0.85                 |3996700              |1.45            |-7.6            |-0.1            |\n",
      "|SPGI  |2014-12-05|0.374891  |711100 |0        |1.0                  |4707800              |0.69            |-7.6            |0.27            |\n",
      "|SPGI  |2014-12-08|-2.0382   |2577400|0        |1.54                 |7285200              |2.32            |-7.6            |-1.77           |\n",
      "|SPGI  |2014-12-09|0.0108873 |1758100|0        |1.92                 |9043300              |1.52            |-7.6            |-1.76           |\n",
      "|SPGI  |2014-12-10|-0.283188 |2075500|0        |2.35                 |11118800             |1.74            |-7.6            |-2.04           |\n",
      "|SPGI  |2014-12-11|-0.895685 |1026600|0        |2.57                 |12145400             |0.87            |-7.6            |-2.94           |\n",
      "|SPGI  |2014-12-12|-2.43581  |878300 |0        |2.76                 |13023700             |0.76            |-7.6            |-5.37           |\n",
      "|SPGI  |2014-12-15|-0.598733 |976000 |0        |2.96                 |13999700             |0.83            |-7.6            |-5.97           |\n",
      "|SPGI  |2014-12-16|-1.62519  |1145900|0        |3.21                 |15145600             |0.97            |-7.6            |-7.6            |\n",
      "+------+----------+----------+-------+---------+---------------------+---------------------+----------------+----------------+----------------+\n",
      "only showing top 30 rows\n",
      "\n"
     ]
    }
   ],
   "source": [
    "from pyspark.sql import Window\n",
    "from pyspark.sql.functions import col, when, lag, sum as _sum, round\n",
    "\n",
    "# Step 1: 추세 변경 감지 (단기 추세가 변할 때 마다 그룹 시작)\n",
    "window_spec = Window.partitionBy(\"종목명\").orderBy(\"날짜\")\n",
    "df = df.withColumn(\n",
    "    \"추세_변화\", \n",
    "    when(lag(\"단기 추세\").over(window_spec) != col(\"단기 추세\"), 1).otherwise(0)\n",
    ")\n",
    "\n",
    "# Step 2: 추세 그룹 번호 생성\n",
    "window_cumsum = Window.partitionBy(\"종목명\").orderBy(\"날짜\")\n",
    "df = df.withColumn(\n",
    "    \"추세_그룹\", \n",
    "    _sum(\"추세_변화\").over(window_cumsum)\n",
    ")\n",
    "\n",
    "# Step 3: 추세 누적 등락률 계산 (새 컬럼 추가)\n",
    "window_group = Window.partitionBy(\"종목명\", \"추세_그룹\").orderBy(\"날짜\")\n",
    "df = df.withColumn(\n",
    "    \"추세_누적_등락률\", \n",
    "    round(_sum(\"등락률\").over(window_group), 2)\n",
    ")\n",
    "\n",
    "# Step 4: 임시 컬럼 삭제 (데이터 깔끔하게 유지)\n",
    "df = df.drop(\"추세_변화\", \"추세_그룹\", \"목표\")\n",
    "\n",
    "# Step 5: 결과 확인\n",
    "df.show(30, truncate=False)"
   ]
  },
  {
   "cell_type": "code",
   "execution_count": 269,
   "id": "89a694ab-067f-443b-b509-b29f3ff2cbb0",
   "metadata": {},
   "outputs": [
    {
     "name": "stdout",
     "output_type": "stream",
     "text": [
      "+------+----------+----------+-------+---------+---------------------+---------------------+----------------+----------------+----------------+-----+\n",
      "|종목명|날짜      |등락률    |거래량 |단기 추세|단기 추세 거래량 비율|단기 추세 누적 거래량|20일 거래량 비율|추세_전체_등락률|추세_누적_등락률|목표 |\n",
      "+------+----------+----------+-------+---------+---------------------+---------------------+----------------+----------------+----------------+-----+\n",
      "|SPGI  |2014-11-04|-0.687051 |927700 |0        |1.0                  |927700               |0.72            |-0.69           |-0.69           |0.0  |\n",
      "|SPGI  |2014-11-05|1.02655   |1882900|1        |2.03                 |1882900              |1.3             |0.42            |1.03            |-0.61|\n",
      "|SPGI  |2014-11-06|-0.60747  |1267700|1        |3.4                  |3150600              |0.9             |0.42            |0.42            |0.0  |\n",
      "|SPGI  |2014-11-07|-0.0555566|1073200|0        |0.34                 |1073200              |0.79            |1.01            |-0.06           |1.07 |\n",
      "|SPGI  |2014-11-10|0.733818  |843300 |0        |0.61                 |1916500              |0.66            |1.01            |0.68            |0.33 |\n",
      "|SPGI  |2014-11-11|-1.31346  |1356900|0        |1.04                 |3273400              |1.05            |1.01            |-0.64           |1.65 |\n",
      "|SPGI  |2014-11-12|1.23029   |1257200|0        |1.44                 |4530600              |0.98            |1.01            |0.6             |0.41 |\n",
      "|SPGI  |2014-11-13|0.209916  |1222000|0        |1.83                 |5752600              |0.96            |1.01            |0.81            |0.2  |\n",
      "|SPGI  |2014-11-14|0.474091  |818100 |0        |2.09                 |6570700              |0.66            |1.01            |1.28            |-0.27|\n",
      "|SPGI  |2014-11-17|0.153626  |900400 |0        |2.37                 |7471100              |0.74            |1.01            |1.43            |-0.42|\n",
      "|SPGI  |2014-11-18|1.19426   |1112900|0        |2.72                 |8584000              |0.93            |1.01            |2.63            |-1.62|\n",
      "|SPGI  |2014-11-19|-1.38588  |1344600|0        |3.15                 |9928600              |1.11            |1.01            |1.24            |-0.23|\n",
      "|SPGI  |2014-11-20|-0.230566 |1320400|0        |3.57                 |11249000             |1.08            |1.01            |1.01            |0.0  |\n",
      "|SPGI  |2014-11-21|1.23252   |1135200|1        |0.1                  |1135200              |0.93            |2.82            |1.23            |1.59 |\n",
      "|SPGI  |2014-11-24|0.489189  |1002300|1        |0.19                 |2137500              |0.83            |2.82            |1.72            |1.1  |\n",
      "|SPGI  |2014-11-25|0.389442  |987600 |1        |0.28                 |3125100              |0.83            |2.82            |2.11            |0.71 |\n",
      "|SPGI  |2014-11-26|0.377154  |787800 |1        |0.35                 |3912900              |0.67            |2.82            |2.49            |0.33 |\n",
      "|SPGI  |2014-11-28|0.332794  |808800 |1        |0.42                 |4721700              |0.7             |2.82            |2.82            |0.0  |\n",
      "|SPGI  |2014-12-01|-0.577788 |910400 |0        |0.19                 |910400               |0.81            |-7.6            |-0.58           |-7.02|\n",
      "|SPGI  |2014-12-02|0.215244  |911000 |0        |0.39                 |1821400              |0.83            |-7.6            |-0.36           |-7.24|\n",
      "|SPGI  |2014-12-03|-0.0966537|638800 |0        |0.52                 |2460200              |0.59            |-7.6            |-0.46           |-7.14|\n",
      "|SPGI  |2014-12-04|0.354726  |1536500|0        |0.85                 |3996700              |1.45            |-7.6            |-0.1            |-7.5 |\n",
      "|SPGI  |2014-12-05|0.374891  |711100 |0        |1.0                  |4707800              |0.69            |-7.6            |0.27            |-7.87|\n",
      "|SPGI  |2014-12-08|-2.0382   |2577400|0        |1.54                 |7285200              |2.32            |-7.6            |-1.77           |-5.83|\n",
      "|SPGI  |2014-12-09|0.0108873 |1758100|0        |1.92                 |9043300              |1.52            |-7.6            |-1.76           |-5.84|\n",
      "|SPGI  |2014-12-10|-0.283188 |2075500|0        |2.35                 |11118800             |1.74            |-7.6            |-2.04           |-5.56|\n",
      "|SPGI  |2014-12-11|-0.895685 |1026600|0        |2.57                 |12145400             |0.87            |-7.6            |-2.94           |-4.66|\n",
      "|SPGI  |2014-12-12|-2.43581  |878300 |0        |2.76                 |13023700             |0.76            |-7.6            |-5.37           |-2.23|\n",
      "|SPGI  |2014-12-15|-0.598733 |976000 |0        |2.96                 |13999700             |0.83            |-7.6            |-5.97           |-1.63|\n",
      "|SPGI  |2014-12-16|-1.62519  |1145900|0        |3.21                 |15145600             |0.97            |-7.6            |-7.6            |0.0  |\n",
      "+------+----------+----------+-------+---------+---------------------+---------------------+----------------+----------------+----------------+-----+\n",
      "only showing top 30 rows\n",
      "\n"
     ]
    }
   ],
   "source": [
    "from pyspark.sql.functions import col, round\n",
    "\n",
    "# '남은 추세 등락률' 컬럼 추가\n",
    "df = df.withColumn(\n",
    "    \"목표\",\n",
    "    round(col(\"추세_전체_등락률\") - col(\"추세_누적_등락률\"), 2)  # 두 값의 차이를 계산\n",
    ")\n",
    "\n",
    "# 결과 확인\n",
    "df.show(30, truncate=False)"
   ]
  },
  {
   "cell_type": "markdown",
   "id": "a73bc0cf-4fdd-4bfb-aa52-38df827057e1",
   "metadata": {},
   "source": [
    "# **👍2차 모델 학습 및 결과 분석👍**"
   ]
  },
  {
   "cell_type": "code",
   "execution_count": 270,
   "id": "edd34615-154c-427e-9d77-2a2ae202fb9f",
   "metadata": {
    "scrolled": true
   },
   "outputs": [
    {
     "name": "stderr",
     "output_type": "stream",
     "text": [
      "                                                                                \r"
     ]
    },
    {
     "name": "stdout",
     "output_type": "stream",
     "text": [
      "RMSE: 3.1094\n",
      "+--------------------+-----+-------------------+\n",
      "|            features| 목표|         prediction|\n",
      "+--------------------+-----+-------------------+\n",
      "|[1.23029,1257200....| 0.41| -1.234952933228647|\n",
      "|[0.474091,818100....|-0.27|-1.2606479446785512|\n",
      "|[-2.0382,2577400....|-5.83| -1.486845013759442|\n",
      "|[0.376269,745500....|  0.0| 1.1982654264177348|\n",
      "|[-1.42528,766100....|  0.0|-1.5511370285055355|\n",
      "|[5.98181,3777400....|-2.19| 1.5553402921926864|\n",
      "|[-0.686165,109110...|  0.0|-1.3800051327735186|\n",
      "|[0.209323,2370600...| 1.37| 1.1429853776024979|\n",
      "|[0.424743,935700....|  0.0|  1.191784610735047|\n",
      "|[0.915081,2016200...| 9.95| 1.2360578208822381|\n",
      "|[0.0,1760400.0,1....| 2.38| 1.3839401253266235|\n",
      "|[-0.183259,130520...|-0.85|-1.3615313330328507|\n",
      "|[-1.81369,1400300...| 1.02|-1.4749220944631736|\n",
      "|[0.968827,1027000...| 0.03|  1.168341000407213|\n",
      "|[0.921529,951600....|-0.89| 1.1900097889941998|\n",
      "|[-1.38514,1044100...|-0.35| -1.438996962176224|\n",
      "|[-0.163933,837900...|  0.0| -1.335744251054897|\n",
      "|[-0.606058,868300...|-2.32|-1.4029596455216924|\n",
      "|[0.99552,1039100....|-0.54|  -1.35755314695195|\n",
      "|[-0.958121,217270...| 0.62|-1.5013074925947305|\n",
      "|[3.13008,2266000....| 0.28| 1.3148178749813757|\n",
      "|[-0.984252,100410...| 0.12|-1.4089157916837902|\n",
      "|[2.92926,1899100....| 0.36| 1.2978987072962587|\n",
      "|[-1.95619,1720300...|-7.56|-1.5038536965320928|\n",
      "|[-0.0672618,12427...| -4.2| -1.483740497700458|\n",
      "|[0.442521,696100....|-0.04| 1.1389644710922944|\n",
      "|[-1.34049,952100....| 0.08|-1.4350884296608135|\n",
      "|[-0.104938,185160...| 0.58|-1.3768965223827772|\n",
      "|[0.927179,1475600...|-1.15| -1.268398342334864|\n",
      "|[-0.0309649,24540...|-1.12|-1.3246059641965229|\n",
      "+--------------------+-----+-------------------+\n",
      "only showing top 30 rows\n",
      "\n"
     ]
    },
    {
     "name": "stderr",
     "output_type": "stream",
     "text": [
      "                                                                                \r"
     ]
    }
   ],
   "source": [
    "from pyspark.ml.feature import VectorAssembler\n",
    "from pyspark.ml.regression import LinearRegression\n",
    "from pyspark.ml.evaluation import RegressionEvaluator\n",
    "from pyspark.sql.functions import col\n",
    "\n",
    "# '추세 전체 등락률' 제외하고 사용할 특성 컬럼 정의\n",
    "feature_columns = [\n",
    "    \"등락률\", \"거래량\", \"단기 추세\", \"단기 추세 거래량 비율\", \n",
    "    \"단기 추세 누적 거래량\", \"20일 거래량 비율\", \"추세_누적_등락률\"\n",
    "]\n",
    "\n",
    "# VectorAssembler를 사용하여 입력 피처 생성\n",
    "assembler = VectorAssembler(inputCols=feature_columns, outputCol=\"features\")\n",
    "df = assembler.transform(df)\n",
    "\n",
    "# 데이터 분리 (학습 데이터와 테스트 데이터)\n",
    "train_data, test_data = df.randomSplit([0.85, 0.15], seed=42)\n",
    "\n",
    "# 선형 회귀 모델 생성 및 학습\n",
    "lr = LinearRegression(featuresCol=\"features\", labelCol=\"목표\", maxIter=100, regParam=0.1, elasticNetParam=0.8)\n",
    "lr_model = lr.fit(train_data)\n",
    "\n",
    "# 테스트 데이터 예측\n",
    "predictions = lr_model.transform(test_data)\n",
    "\n",
    "# 평가\n",
    "evaluator = RegressionEvaluator(labelCol=\"목표\", predictionCol=\"prediction\", metricName=\"rmse\")\n",
    "rmse = evaluator.evaluate(predictions)\n",
    "print(f\"RMSE: {rmse:.4f}\")\n",
    "\n",
    "df= df.drop(\"features\")\n",
    "\n",
    "# 결과 확인\n",
    "predictions.select(\"목표\", \"prediction\").show(30)\n"
   ]
  },
  {
   "cell_type": "code",
   "execution_count": 331,
   "id": "eb889527-7e3c-4d89-8088-8fb94dc1716a",
   "metadata": {},
   "outputs": [
    {
     "name": "stderr",
     "output_type": "stream",
     "text": [
      "                                                                                \r"
     ]
    },
    {
     "name": "stdout",
     "output_type": "stream",
     "text": [
      "1.1 초과 조건 - 항목 수: 12261, 추세 기대 수익률 : 1.35 %\n"
     ]
    },
    {
     "name": "stderr",
     "output_type": "stream",
     "text": [
      "                                                                                \r"
     ]
    },
    {
     "name": "stdout",
     "output_type": "stream",
     "text": [
      "1.2 초과 조건 - 항목 수: 6025, 추세 기대 수익률 : 1.51 %\n"
     ]
    },
    {
     "name": "stderr",
     "output_type": "stream",
     "text": [
      "                                                                                \r"
     ]
    },
    {
     "name": "stdout",
     "output_type": "stream",
     "text": [
      "1.3 초과 조건 - 항목 수: 2562, 추세 기대 수익률 : 1.58 %\n"
     ]
    },
    {
     "name": "stderr",
     "output_type": "stream",
     "text": [
      "                                                                                \r"
     ]
    },
    {
     "name": "stdout",
     "output_type": "stream",
     "text": [
      "1.5 초과 조건 - 항목 수: 553, 추세 기대 수익률 : 1.69 %\n"
     ]
    },
    {
     "name": "stderr",
     "output_type": "stream",
     "text": [
      "                                                                                \r"
     ]
    },
    {
     "name": "stdout",
     "output_type": "stream",
     "text": [
      "1.8 초과 조건 - 항목 수: 110, 추세 기대 수익률 : 2.57 %\n"
     ]
    },
    {
     "name": "stderr",
     "output_type": "stream",
     "text": [
      "[Stage 341:================================================>    (182 + 2) / 200]\r"
     ]
    },
    {
     "name": "stdout",
     "output_type": "stream",
     "text": [
      "2.0 초과 조건 - 항목 수: 62, 추세 기대 수익률 : 3.09 %\n"
     ]
    },
    {
     "name": "stderr",
     "output_type": "stream",
     "text": [
      "                                                                                \r"
     ]
    }
   ],
   "source": [
    "# 증가 예측 조건별 데이터 필터링\n",
    "conditions = [\n",
    "    (predictions.filter(col(\"prediction\") > 1.1), \"1.1 초과\"),\n",
    "    (predictions.filter(col(\"prediction\") > 1.2), \"1.2 초과\"),\n",
    "    (predictions.filter(col(\"prediction\") > 1.3), \"1.3 초과\"),\n",
    "    (predictions.filter(col(\"prediction\") > 1.5), \"1.5 초과\"),\n",
    "    (predictions.filter(col(\"prediction\") > 1.8), \"1.8 초과\"),\n",
    "    (predictions.filter(col(\"prediction\") > 2.0), \"2.0 초과\")\n",
    "]\n",
    "\n",
    "# 결과 계산 및 출력\n",
    "for condition, label in conditions:\n",
    "    count = condition.count()  # 조건에 맞는 항목 수\n",
    "    if count > 0:\n",
    "        avg_goal = condition.select(\"목표\").groupBy().avg(\"목표\").collect()[0][0]\n",
    "        print(f\"{label} 조건 - 항목 수: {count}, 추세 기대 수익률 : {avg_goal:.2f} %\")\n",
    "    else:\n",
    "        print(f\"{label} 조건 - 항목 수: 0, 목표 평균: N/A\")"
   ]
  },
  {
   "cell_type": "code",
   "execution_count": 298,
   "id": "66bb231e-9218-4ac4-913c-b1a3aef61768",
   "metadata": {},
   "outputs": [
    {
     "name": "stderr",
     "output_type": "stream",
     "text": [
      "                                                                                \r"
     ]
    },
    {
     "name": "stdout",
     "output_type": "stream",
     "text": [
      "-1.3 미만 조건 - 항목 수: 20028, 추세 기대 수익률 : -1.50 %\n"
     ]
    },
    {
     "name": "stderr",
     "output_type": "stream",
     "text": [
      "                                                                                \r"
     ]
    },
    {
     "name": "stdout",
     "output_type": "stream",
     "text": [
      "-1.5 미만 조건 - 항목 수: 5578, 추세 기대 수익률 : -1.82 %\n"
     ]
    },
    {
     "name": "stderr",
     "output_type": "stream",
     "text": [
      "                                                                                \r"
     ]
    },
    {
     "name": "stdout",
     "output_type": "stream",
     "text": [
      "-1.8 미만 조건 - 항목 수: 721, 추세 기대 수익률 : -2.48 %\n"
     ]
    },
    {
     "name": "stderr",
     "output_type": "stream",
     "text": [
      "[Stage 223:==================================================>  (189 + 2) / 200]\r"
     ]
    },
    {
     "name": "stdout",
     "output_type": "stream",
     "text": [
      "-2.0 미만 조건 - 항목 수: 242, 추세 기대 수익률 : -3.20 %\n"
     ]
    },
    {
     "name": "stderr",
     "output_type": "stream",
     "text": [
      "                                                                                \r"
     ]
    }
   ],
   "source": [
    "# 하락 예측 조건별 데이터 필터링\n",
    "negative_conditions = [\n",
    "    (predictions.filter(col(\"prediction\") < -1.3), \"-1.3 미만\"),\n",
    "    (predictions.filter(col(\"prediction\") < -1.5), \"-1.5 미만\"),\n",
    "    (predictions.filter(col(\"prediction\") < -1.8), \"-1.8 미만\"),\n",
    "    (predictions.filter(col(\"prediction\") < -2.0), \"-2.0 미만\")\n",
    "]\n",
    "\n",
    "# 결과 계산 및 출력\n",
    "for condition, label in negative_conditions:\n",
    "    count = condition.count()  # 조건에 맞는 항목 수\n",
    "    if count > 0:\n",
    "        avg_goal = condition.select(\"목표\").groupBy().avg(\"목표\").collect()[0][0]\n",
    "        print(f\"{label} 조건 - 항목 수: {count}, 추세 기대 수익률 : {avg_goal:.2f} %\")\n",
    "    else:\n",
    "        print(f\"{label} 조건 - 항목 수: 0, 추세 기대 수익률 : N/A\")"
   ]
  },
  {
   "cell_type": "code",
   "execution_count": 329,
   "id": "868af464-d0e7-4538-88c0-17f0d44fbd32",
   "metadata": {},
   "outputs": [
    {
     "name": "stderr",
     "output_type": "stream",
     "text": [
      "                                                                                \r"
     ]
    },
    {
     "name": "stdout",
     "output_type": "stream",
     "text": [
      "조건 1: 20일 거래량 비율 >= 1.5, 등락률 >= 5%, 예측값 > 1.3 조건 - 항목 수: 178, 추세 기대 수익률: 1.62%\n"
     ]
    },
    {
     "name": "stderr",
     "output_type": "stream",
     "text": [
      "                                                                                \r"
     ]
    },
    {
     "name": "stdout",
     "output_type": "stream",
     "text": [
      "조건 2: 20일 거래량 비율 >= 1.5, 등락률 <= -5%, 예측값 < -1.3 조건 - 항목 수: 202, 추세 기대 수익률: -2.54%\n"
     ]
    },
    {
     "name": "stderr",
     "output_type": "stream",
     "text": [
      "                                                                                \r"
     ]
    },
    {
     "name": "stdout",
     "output_type": "stream",
     "text": [
      "조건 3: 단기 추세 거래량 비율 > 0.3, < 0.8, 등락률 >= 5%, 예측값 > 1.3 조건 - 항목 수: 98, 추세 기대 수익률: 1.96%\n"
     ]
    },
    {
     "name": "stderr",
     "output_type": "stream",
     "text": [
      "                                                                                \r"
     ]
    },
    {
     "name": "stdout",
     "output_type": "stream",
     "text": [
      "조건 4: 단기 추세 거래량 비율 > 0.3, < 0.8, 등락률 <= -5%, 예측값 < -1.3 조건 - 항목 수: 52, 추세 기대 수익률: -2.89%\n"
     ]
    },
    {
     "name": "stderr",
     "output_type": "stream",
     "text": [
      "                                                                                \r"
     ]
    },
    {
     "name": "stdout",
     "output_type": "stream",
     "text": [
      "조건 5: 20일 거래량 비율 >= 2, 등락률 >= 8%, 예측값 > 1 조건 - 항목 수: 46, 추세 기대 수익률: 1.51%\n"
     ]
    },
    {
     "name": "stderr",
     "output_type": "stream",
     "text": [
      "[Stage 275:================================================>    (182 + 2) / 200]\r"
     ]
    },
    {
     "name": "stdout",
     "output_type": "stream",
     "text": [
      "조건 6: 20일 거래량 비율 >= 2, 등락률 <= -8%, 예측값 < -1 조건 - 항목 수: 44, 추세 기대 수익률: -2.91%\n"
     ]
    },
    {
     "name": "stderr",
     "output_type": "stream",
     "text": [
      "                                                                                \r"
     ]
    }
   ],
   "source": [
    "# 몇가지 추가 조건\n",
    "'''\n",
    "조건1. 20일 거래량 비율이 1.5이상이면서 등락률이 5%이상이고 예측값이 1.3초과인 경우\n",
    "조건2. 20일 거래량 비율이 1.5이상이면서 등락률이 -5%이하이고 예측값이 -1.3미만인 경우\n",
    "조건3. 단기 추세 거래량 비율이 0.3초과 0.8미만이면서 등락률이 5%이상이고 예측값이 1.3초과인 경우\n",
    "조건4. 단기 추세 거래량 비율이 0.3초과 0.8미만이면서 등락률이 -5%이하이고 예측값이 -1.3미만인 경우\n",
    "조건5. 20일 거래량 비율이 2이상이면서 등락률이 8%이상이고 예측값이 1 초과인 경우\n",
    "조건6. 20일 거래량 비율이 2이상이면서 등락률이 -8%이하이고 예측값이 -1미만인 경우\n",
    "'''\n",
    "\n",
    "\n",
    "custom_conditions = [\n",
    "    (predictions.filter((col(\"20일 거래량 비율\") >= 1.5) & \n",
    "                        (col(\"등락률\") >= 5) & \n",
    "                        (col(\"prediction\") > 1.3)), \n",
    "     \"조건 1: 20일 거래량 비율 >= 1.5, 등락률 >= 5%, 예측값 > 1.3\"),\n",
    "     \n",
    "    (predictions.filter((col(\"20일 거래량 비율\") >= 1.5) & \n",
    "                        (col(\"등락률\") <= -5) & \n",
    "                        (col(\"prediction\") < -1.3)), \n",
    "     \"조건 2: 20일 거래량 비율 >= 1.5, 등락률 <= -5%, 예측값 < -1.3\"),\n",
    "     \n",
    "    (predictions.filter((col(\"단기 추세 거래량 비율\") > 0.3) & \n",
    "                        (col(\"단기 추세 거래량 비율\") < 0.8) & \n",
    "                        (col(\"등락률\") >= 5) & \n",
    "                        (col(\"prediction\") > 1.3)), \n",
    "     \"조건 3: 단기 추세 거래량 비율 > 0.3, < 0.8, 등락률 >= 5%, 예측값 > 1.3\"),\n",
    "     \n",
    "    (predictions.filter((col(\"단기 추세 거래량 비율\") > 0.3) & \n",
    "                        (col(\"단기 추세 거래량 비율\") < 0.8) & \n",
    "                        (col(\"등락률\") <= -5) & \n",
    "                        (col(\"prediction\") < -1.3)), \n",
    "     \"조건 4: 단기 추세 거래량 비율 > 0.3, < 0.8, 등락률 <= -5%, 예측값 < -1.3\"),\n",
    "     \n",
    "    (predictions.filter((col(\"20일 거래량 비율\") >= 2) & \n",
    "                        (col(\"등락률\") >= 8) & \n",
    "                        (col(\"prediction\") > 1)), \n",
    "     \"조건 5: 20일 거래량 비율 >= 2, 등락률 >= 15%, 예측값 > 1\"),\n",
    "     \n",
    "    (predictions.filter((col(\"20일 거래량 비율\") >= 2) & \n",
    "                        (col(\"등락률\") <= -8) & \n",
    "                        (col(\"prediction\") < -1)), \n",
    "     \"조건 6: 20일 거래량 비율 >= 2, 등락률 <= -8%, 예측값 < -1\")\n",
    "]\n",
    "\n",
    "# 결과 계산 및 출력\n",
    "for condition, label in custom_conditions:\n",
    "    count = condition.count()  # 조건에 맞는 항목 수 계산\n",
    "    if count > 0:\n",
    "        avg_goal = condition.select(\"목표\").groupBy().avg(\"목표\").collect()[0][0]  # 목표 평균 계산\n",
    "        print(f\"{label} 조건 - 항목 수: {count}, 추세 기대 수익률: {avg_goal:.2f}%\")\n",
    "    else:\n",
    "        print(f\"{label} 조건 - 항목 수: 0, 추세 기대 수익률: N/A\")\n"
   ]
  },
  {
   "cell_type": "markdown",
   "id": "1663d4da-c9c0-45a1-9e3f-0fdbe0e8d040",
   "metadata": {},
   "source": [
    "## **📚2차 모델의 예측 패턴 분석**:\n",
    "  - **단순 음수 예측 (`prediction < 0`)**:\n",
    "| **조건**         | **항목 수** | **추세 기대 수익률 (평균)** |\n",
    "|------------------|-------------|----------------------------|\n",
    "| `prediction > 1.3` | 2562        | 1.58%                     |\n",
    "| `prediction > 1.5` | 553         | 1.69%                     |\n",
    "| `prediction > 1.8` | 193         | 2.57%                     |\n",
    "| `prediction > 2.0` | 62          | 3.09%                     |\n",
    "    - `목표` 값도 음수로 나타나는 경향이 강함.\n",
    "    - 예측값이 `-1.5 이하`일 경우, 평균적으로 더 큰 음수 수익률을 기록함.  \n",
    "      → **공매도**와 같은 하락 추세 활용 전략에 도움을 기대.\n",
    "---\n",
    "  - **단순 양수 예측 (`prediction > 0`)**:\n",
    "| **조건**         | **항목 수** | **추세 기대 수익률 (평균)** |\n",
    "|------------------|-------------|----------------------------|\n",
    "| `prediction < -1.3` | 20028       | -1.50%                    |\n",
    "| `prediction < -1.5` | 5578        | -1.82%                    |\n",
    "| `prediction < -1.8` | 721         | -2.48%                    |\n",
    "| `prediction < -2.0` | 242         | -3.20%                    |\n",
    "    - `목표` 값이 양수로 나타나는 경향이 있으며, 예측값이 `1.5 이상`일 때 수익률 상승 가능성이 높음.\n",
    "      → **상승 투자 전략**에서 활용 가능하나 경우의 수가 조금 적은 부분이 아쉬움.\n",
    "---\n",
    "  - **이제 실제 활용방안을 모색해보고 프로젝트를 마무리할 예정**:"
   ]
  },
  {
   "cell_type": "code",
   "execution_count": 306,
   "id": "e2b1b9da-e557-4b0b-b199-15a9a8a0d73d",
   "metadata": {},
   "outputs": [
    {
     "name": "stdout",
     "output_type": "stream",
     "text": [
      "모델이 저장되었습니다: 전체예측모델_2024-12-20_14-29-42.csv\n"
     ]
    }
   ],
   "source": [
    "current_time = datetime.datetime.now().strftime(\"%Y-%m-%d_%H-%M-%S\") # 현재 날짜와 시간 가져오기\n",
    "model_path = f\"전체예측모델_{current_time}\" # 저장 경로 설정\n",
    "lr_model.save(model_path) # 모델 저장\n",
    "\n",
    "print(f\"모델이 저장되었습니다: {model_path}\")"
   ]
  },
  {
   "cell_type": "code",
   "execution_count": null,
   "id": "9ee4a256-b78d-4b9f-bedc-08e5c0c4a763",
   "metadata": {},
   "outputs": [],
   "source": [
    "# PySpark DataFrame을 Pandas DataFrame으로 변환\n",
    "pandas_df = df.toPandas()\n",
    "\n",
    "# CSV 파일 저장 경로\n",
    "output_path = \"final_data(24.10.30).csv\"\n",
    "\n",
    "# CSV 파일 저장\n",
    "pandas_df.to_csv(output_path, index=False, encoding=\"utf-8-sig\")\n",
    "\n",
    "print(f\"CSV 파일이 저장되었습니다: {output_path}\")"
   ]
  },
  {
   "cell_type": "markdown",
   "id": "8aad263f-95c2-4d40-af56-b51db4eda8c1",
   "metadata": {},
   "source": [
    "# 📈 최종 활용 방안 및 마무리 보고서 : 데이터 기반 미국 주식 투자 전략\n",
    "\n",
    "---\n",
    "## 🔍 **분석 과정 요약**\n",
    "\n",
    "1️⃣ **데이터 수집**  \n",
    "- Yahoo Finance API를 통해 주식 데이터를 수집.  \n",
    "- 종목명, 날짜, 종가, 고가, 저가, 등락률, 거래량 등 주요 지표 활용.\n",
    "\n",
    "2️⃣ **데이터 전처리**  \n",
    "- 결측치 제거, 불필요한 컬럼 삭제\n",
    "- 추세, 거래량 비율 등 파생 변수 생성, 파생 변수는 투자서적 참고\n",
    "\n",
    "3️⃣ **모델 학습**  \n",
    "- 선형 회귀 모델로 전체 데이터 기반 예측을 진행.  \n",
    "\n",
    "4️⃣ **조건별 분석**  \n",
    "- 상승/하락 예측값에 따라 수익률 및 위험도 평가.\n",
    "\n",
    "5️⃣ **활용 방안 및 향후 계획**  \n",
    "- 상승 가능성이 높은 종목 자동 추천.  \n",
    "- 공매도 활용으로 하락 위험 종목 관리.\n",
    "- 자동화된 데이터 업데이트와 모델 학습 시스템 구축.\n",
    "\n",
    "\n",
    "---\n",
    "\n",
    "## 🔍 **분석 결과 요약**\n",
    "\n",
    "### 1️⃣ **예측값 기준 상승/하락 구간 분석**\n",
    "| 조건                          | 항목 수  | 추세 기대 수익률 (평균) |\n",
    "|-------------------------------|----------|--------------------------|\n",
    "| **예측값 > 1.3**              | 2,562    | 1.58%                   |\n",
    "| **예측값 > 1.5**              | 553      | 1.69%                   |\n",
    "| **예측값 > 1.8**              | 193      | 2.57%                   |\n",
    "| **예측값 > 2.0**              | 62       | 3.09%                   |\n",
    "\n",
    "| 조건                          | 항목 수  | 추세 기대 수익률 (평균) |\n",
    "|-------------------------------|----------|--------------------------|\n",
    "| **예측값 < -1.3**             | 20,028   | -1.50%                  |\n",
    "| **예측값 < -1.5**             | 5,578    | -1.82%                  |\n",
    "| **예측값 < -1.8**             | 721      | -2.48%                  |\n",
    "| **예측값 < -2.0**             | 242      | -3.20%                  |\n",
    "\n",
    "---\n",
    "\n",
    "### 2️⃣ **복합 조건별 분석**\n",
    "| 조건                                                         | 항목 수 | 추세 기대 수익률 |\n",
    "|--------------------------------------------------------------|---------|------------------|\n",
    "| **20일 거래량 비율 ≥ 1.5, 등락률 ≥ 5%, 예측값 > 1.3**        | 178     | 1.62%           |\n",
    "| **20일 거래량 비율 ≥ 1.5, 등락률 ≤ -5%, 예측값 < -1.3**      | 202     | -2.54%          |\n",
    "| **단기 추세 거래량 비율 0.3 ~ 0.8, 등락률 ≥ 5%, 예측값 > 1.3**| 98      | 1.96%           |\n",
    "| **단기 추세 거래량 비율 0.3 ~ 0.8, 등락률 ≤ -5%, 예측값 < -1.3**| 52      | -2.89%          |\n",
    "| **20일 거래량 비율 ≥ 2, 등락률 ≥ 8%, 예측값 > 1.0**          | 46      | 1.51%           |\n",
    "| **20일 거래량 비율 ≥ 2, 등락률 ≤ -8%, 예측값 < -1.0**        | 44      | -2.91%          |\n",
    "\n",
    "---\n",
    "\n",
    "## 🛠️ 활용 방안\n",
    "\n",
    "1. **📊 투자 시뮬레이션**\n",
    "   - 상승 구간: **예측값 > 1.3** 또는 **20일 거래량 비율 ≥ 1.5 & 등락률 ≥ 5%** 조건을 활용해 매수 전략 설계.\n",
    "   - 하락 구간: **예측값 < -1.3** 또는 **20일 거래량 비율 ≥ 1.5 & 등락률 ≤ -5%** 조건을 활용해 공매도 전략 설계.\n",
    "\n",
    "2. **📈 종목 선택 기준**\n",
    "   - 단기 추세와 거래량 비율의 조합을 바탕으로 상승 가능성이 높은 종목 선별.\n",
    "   - 복합 조건을 통해 데이터 기반 종목 포트폴리오 구성 가능.\n",
    "\n",
    "3. **🔄 리스크 관리**\n",
    "   - 예측값이 극단적으로 높은 구간(예: **예측값 > 2.0**)에서 추가적인 상승을 기대하며 비중 투자.\n",
    "   - 하락 구간(예: **예측값 < -2.0**)에서는 적극적인 손실 방어를 고려하고 공매도 고려. \n",
    "\n",
    "---\n"
   ]
  },
  {
   "cell_type": "code",
   "execution_count": 34,
   "id": "d5301b21-8516-4d93-8314-27ea4ea4cff5",
   "metadata": {},
   "outputs": [],
   "source": [
    "spark.stop() #마무리"
   ]
  },
  {
   "cell_type": "code",
   "execution_count": null,
   "id": "316f2847-55c4-4cbf-a88e-df9bd659a1ac",
   "metadata": {},
   "outputs": [],
   "source": []
  },
  {
   "cell_type": "code",
   "execution_count": null,
   "id": "b53e7652-c887-42b7-953a-091b2e260fec",
   "metadata": {},
   "outputs": [],
   "source": []
  }
 ],
 "metadata": {
  "kernelspec": {
   "display_name": "Python (spark_start)",
   "language": "python",
   "name": "spark_start"
  },
  "language_info": {
   "codemirror_mode": {
    "name": "ipython",
    "version": 3
   },
   "file_extension": ".py",
   "mimetype": "text/x-python",
   "name": "python",
   "nbconvert_exporter": "python",
   "pygments_lexer": "ipython3",
   "version": "3.8.2"
  }
 },
 "nbformat": 4,
 "nbformat_minor": 5
}
