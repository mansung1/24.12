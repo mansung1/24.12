{
 "cells": [
  {
   "cell_type": "markdown",
   "id": "6169b71f-4269-46a9-b7a4-dc6844b75b22",
   "metadata": {},
   "source": [
    "# 데이터 프로파일링 진행 (Spark 사용)\n",
    "\n",
    "### 문제 해결 주제\n",
    "- 71페이지까지의 일반적인 의문 + 내가 궁금한 것들까지 추가하여 진행해보기"
   ]
  },
  {
   "cell_type": "code",
   "execution_count": 12,
   "id": "486a6574-f843-476f-85c8-bf043a3adeba",
   "metadata": {},
   "outputs": [],
   "source": [
    "spark.stop()"
   ]
  },
  {
   "cell_type": "code",
   "execution_count": 13,
   "id": "d5c92275-b810-4cca-9fb9-5a4a7e743c0d",
   "metadata": {},
   "outputs": [],
   "source": [
    "from pyspark.sql import SparkSession\n",
    "spark = SparkSession.builder.appName(\"firecall\").getOrCreate()"
   ]
  },
  {
   "cell_type": "code",
   "execution_count": 14,
   "id": "f8529ebf-448e-45a7-98f7-0fa4c0fd9f20",
   "metadata": {},
   "outputs": [
    {
     "name": "stderr",
     "output_type": "stream",
     "text": [
      "                                                                                \r"
     ]
    }
   ],
   "source": [
    "df = spark.read.format('csv').load('sf-fire-calls.csv', inferSchema=True, header=True)"
   ]
  },
  {
   "cell_type": "code",
   "execution_count": 15,
   "id": "92dea5e2-a68b-475c-b1c3-7dd3fb3752eb",
   "metadata": {},
   "outputs": [
    {
     "data": {
      "text/plain": [
       "DataFrame[CallNumber: int, UnitID: string, IncidentNumber: int, CallType: string, CallDate: string, WatchDate: string, CallFinalDisposition: string, AvailableDtTm: string, Address: string, City: string, Zipcode: int, Battalion: string, StationArea: string, Box: string, OriginalPriority: string, Priority: string, FinalPriority: int, ALSUnit: boolean, CallTypeGroup: string, NumAlarms: int, UnitType: string, UnitSequenceInCallDispatch: int, FirePreventionDistrict: string, SupervisorDistrict: string, Neighborhood: string, Location: string, RowID: string, Delay: double]"
      ]
     },
     "execution_count": 15,
     "metadata": {},
     "output_type": "execute_result"
    }
   ],
   "source": [
    "df"
   ]
  },
  {
   "cell_type": "code",
   "execution_count": 16,
   "id": "f76f4bd7-afdd-47f2-ad4d-c89ce5ade0b3",
   "metadata": {},
   "outputs": [
    {
     "name": "stdout",
     "output_type": "stream",
     "text": [
      "root\n",
      " |-- CallNumber: integer (nullable = true)\n",
      " |-- UnitID: string (nullable = true)\n",
      " |-- IncidentNumber: integer (nullable = true)\n",
      " |-- CallType: string (nullable = true)\n",
      " |-- CallDate: string (nullable = true)\n",
      " |-- WatchDate: string (nullable = true)\n",
      " |-- CallFinalDisposition: string (nullable = true)\n",
      " |-- AvailableDtTm: string (nullable = true)\n",
      " |-- Address: string (nullable = true)\n",
      " |-- City: string (nullable = true)\n",
      " |-- Zipcode: integer (nullable = true)\n",
      " |-- Battalion: string (nullable = true)\n",
      " |-- StationArea: string (nullable = true)\n",
      " |-- Box: string (nullable = true)\n",
      " |-- OriginalPriority: string (nullable = true)\n",
      " |-- Priority: string (nullable = true)\n",
      " |-- FinalPriority: integer (nullable = true)\n",
      " |-- ALSUnit: boolean (nullable = true)\n",
      " |-- CallTypeGroup: string (nullable = true)\n",
      " |-- NumAlarms: integer (nullable = true)\n",
      " |-- UnitType: string (nullable = true)\n",
      " |-- UnitSequenceInCallDispatch: integer (nullable = true)\n",
      " |-- FirePreventionDistrict: string (nullable = true)\n",
      " |-- SupervisorDistrict: string (nullable = true)\n",
      " |-- Neighborhood: string (nullable = true)\n",
      " |-- Location: string (nullable = true)\n",
      " |-- RowID: string (nullable = true)\n",
      " |-- Delay: double (nullable = true)\n",
      "\n"
     ]
    }
   ],
   "source": [
    "df.printSchema() #컬럼 확인"
   ]
  },
  {
   "cell_type": "code",
   "execution_count": 17,
   "id": "1fa4c437-10a5-4f3a-bad8-1269d7126f08",
   "metadata": {},
   "outputs": [
    {
     "name": "stderr",
     "output_type": "stream",
     "text": [
      "                                                                                \r"
     ]
    },
    {
     "data": {
      "text/plain": [
       "30"
      ]
     },
     "execution_count": 17,
     "metadata": {},
     "output_type": "execute_result"
    }
   ],
   "source": [
    "df.select('CallType').distinct().count() #신고타입의 종류수"
   ]
  },
  {
   "cell_type": "code",
   "execution_count": 20,
   "id": "e54b6690-9ca9-47a2-8b2d-56956dabebd6",
   "metadata": {},
   "outputs": [
    {
     "name": "stderr",
     "output_type": "stream",
     "text": [
      "[Stage 6:==========================================>            (154 + 3) / 200]\r"
     ]
    },
    {
     "name": "stdout",
     "output_type": "stream",
     "text": [
      "+-----------------+\n",
      "|DistinctCallTypes|\n",
      "+-----------------+\n",
      "|               30|\n",
      "+-----------------+\n",
      "\n"
     ]
    },
    {
     "name": "stderr",
     "output_type": "stream",
     "text": [
      "                                                                                \r"
     ]
    }
   ],
   "source": [
    "df.createOrReplaceTempView(\"fireDF\") # 데이터프레임을 SQL 테이블로 등록\n",
    "spark.sql(\"\"\"\n",
    "    SELECT COUNT(DISTINCT CallType) AS DistinctCallTypes\n",
    "    FROM fireDF\n",
    "\"\"\").show() #신고타입의 종류수2"
   ]
  },
  {
   "cell_type": "code",
   "execution_count": 21,
   "id": "3e30bf95-47a2-479f-8532-2ab03af3e9da",
   "metadata": {},
   "outputs": [
    {
     "name": "stdout",
     "output_type": "stream",
     "text": [
      "+----------+--------------+-------------------+\n",
      "|CallNumber|IncidentNumber|ResponseDelayedMins|\n",
      "+----------+--------------+-------------------+\n",
      "|  20110315|       2003409|               5.35|\n",
      "|  20120147|       2003642|               6.25|\n",
      "|  20130013|       2003818|                5.2|\n",
      "|  20140067|       2004152|                5.6|\n",
      "|  20140177|       2004216|               7.25|\n",
      "|  20150056|       2004408|          11.916667|\n",
      "|  20150254|       2004521|           5.116667|\n",
      "|  20150265|       2004528|           8.633333|\n",
      "|  20150265|       2004528|           95.28333|\n",
      "|  20150380|       2004610|               5.45|\n",
      "|  20150414|       2004641|                7.6|\n",
      "|  20160059|       2004721|           6.133333|\n",
      "|  20160064|       2004724|          5.1833334|\n",
      "|  20170118|       2005038|          6.9166665|\n",
      "|  20170342|       2005173|                5.2|\n",
      "|  20180129|       2005321|               6.35|\n",
      "|  20180191|       2005353|           7.983333|\n",
      "|  20180382|       2005480|              13.55|\n",
      "|  20190062|       2005599|               5.15|\n",
      "|  20190097|       2005623|          13.583333|\n",
      "+----------+--------------+-------------------+\n",
      "only showing top 20 rows\n",
      "\n"
     ]
    }
   ],
   "source": [
    "# 컬럼 이름 변경 및 특정 조건에 따라 출력\n",
    "df = df.withColumnRenamed('Delay', 'ResponseDelayedMins')\n",
    "df.createOrReplaceTempView(\"fireDF\") # SQL 테이블 등록\n",
    "spark.sql(\"\"\"\n",
    "    SELECT CallNumber, IncidentNumber, ResponseDelayedMins\n",
    "    FROM fireDF\n",
    "    WHERE ResponseDelayedMins >= 5\n",
    "\"\"\").show()"
   ]
  },
  {
   "cell_type": "markdown",
   "id": "9b14e00d-5c50-49da-bbfb-ad2b3b9be409",
   "metadata": {},
   "source": [
    "# 여기부턴 데이터 내용 분석"
   ]
  },
  {
   "cell_type": "code",
   "execution_count": 24,
   "id": "11fd45d5-9c9a-4c73-a4c0-f72b675b4e54",
   "metadata": {},
   "outputs": [
    {
     "name": "stderr",
     "output_type": "stream",
     "text": [
      "[Stage 11:=======================================>              (147 + 2) / 200]\r"
     ]
    },
    {
     "name": "stdout",
     "output_type": "stream",
     "text": [
      "+--------------------+---------+\n",
      "|            CallType|CallCount|\n",
      "+--------------------+---------+\n",
      "|                null|   175296|\n",
      "|    Medical Incident|   113794|\n",
      "|      Structure Fire|    23319|\n",
      "|              Alarms|    19406|\n",
      "|   Traffic Collision|     7013|\n",
      "|Citizen Assist / ...|     2524|\n",
      "|               Other|     2166|\n",
      "|        Outside Fire|     2094|\n",
      "|        Vehicle Fire|      854|\n",
      "|Gas Leak (Natural...|      764|\n",
      "|        Water Rescue|      755|\n",
      "|Odor (Strange / U...|      490|\n",
      "|   Electrical Hazard|      482|\n",
      "|Elevator / Escala...|      453|\n",
      "|Smoke Investigati...|      391|\n",
      "|          Fuel Spill|      193|\n",
      "|              HazMat|      124|\n",
      "|Industrial Accidents|       94|\n",
      "|           Explosion|       89|\n",
      "|Train / Rail Inci...|       57|\n",
      "+--------------------+---------+\n",
      "only showing top 20 rows\n",
      "\n"
     ]
    },
    {
     "name": "stderr",
     "output_type": "stream",
     "text": [
      "                                                                                \r"
     ]
    }
   ],
   "source": [
    "# 신고 타입별 신고 건수\n",
    "from pyspark.sql.functions import count\n",
    "\n",
    "df.rollup('CallType').agg(count('*').alias('CallCount')).orderBy('CallCount', ascending=False).show()"
   ]
  },
  {
   "cell_type": "code",
   "execution_count": 53,
   "id": "068af74d-2dd4-40e6-b982-6878da98916c",
   "metadata": {},
   "outputs": [
    {
     "name": "stdout",
     "output_type": "stream",
     "text": [
      "+--------------------+---------+\n",
      "|            CallType|CallCount|\n",
      "+--------------------+---------+\n",
      "|                null|   175296|\n",
      "|    Medical Incident|   113794|\n",
      "|      Structure Fire|    23319|\n",
      "|              Alarms|    19406|\n",
      "|   Traffic Collision|     7013|\n",
      "|Citizen Assist / ...|     2524|\n",
      "|               Other|     2166|\n",
      "|        Outside Fire|     2094|\n",
      "|        Vehicle Fire|      854|\n",
      "|Gas Leak (Natural...|      764|\n",
      "|        Water Rescue|      755|\n",
      "|Odor (Strange / U...|      490|\n",
      "|   Electrical Hazard|      482|\n",
      "|Elevator / Escala...|      453|\n",
      "|Smoke Investigati...|      391|\n",
      "|          Fuel Spill|      193|\n",
      "|              HazMat|      124|\n",
      "|Industrial Accidents|       94|\n",
      "|           Explosion|       89|\n",
      "|Train / Rail Inci...|       57|\n",
      "+--------------------+---------+\n",
      "only showing top 20 rows\n",
      "\n"
     ]
    }
   ],
   "source": [
    "# 가장 흔한 형태의 신고를 포함한 Rollup 형태 결과(SQL문으로)\n",
    "spark.sql(\"\"\"\n",
    "    SELECT \n",
    "        CallType,\n",
    "        COUNT(*) AS CallCount\n",
    "    FROM fireDF\n",
    "    GROUP BY ROLLUP(CallType)\n",
    "    ORDER BY CallCount DESC\n",
    "\"\"\").show()"
   ]
  },
  {
   "cell_type": "markdown",
   "id": "7f3fd36a-b134-4f84-9198-74b90973b042",
   "metadata": {},
   "source": [
    "### 신고 타입별 분석\n",
    "- 의료 사건(Medical Incident)이 가장 많았고, 화재 관련(Structure Fire) 신고가 그 뒤를 이음."
   ]
  },
  {
   "cell_type": "code",
   "execution_count": 54,
   "id": "153799cb-5358-484e-964e-09361c12c47f",
   "metadata": {},
   "outputs": [
    {
     "name": "stdout",
     "output_type": "stream",
     "text": [
      "+--------------------+\n",
      "|AverageResponseDelay|\n",
      "+--------------------+\n",
      "|  3.8923641541750342|\n",
      "+--------------------+\n",
      "\n"
     ]
    }
   ],
   "source": [
    "# 응답 대기 시간의 평균\n",
    "from pyspark.sql.functions import avg\n",
    "df.select(avg('ResponseDelayedMins').alias('AverageResponseDelay')).show()"
   ]
  },
  {
   "cell_type": "code",
   "execution_count": 52,
   "id": "88bded42-b83f-472d-8d53-a5bf5782654c",
   "metadata": {},
   "outputs": [
    {
     "name": "stdout",
     "output_type": "stream",
     "text": [
      "+--------------------+------------------+\n",
      "|            CallType|   AvgResponseTime|\n",
      "+--------------------+------------------+\n",
      "|Mutual Aid / Assi...| 38.41666631111111|\n",
      "|       Assist Police|26.981903994285716|\n",
      "|Train / Rail Inci...|16.452046763157895|\n",
      "|      Administrative|12.261111333333332|\n",
      "|              HazMat| 7.527016126612902|\n",
      "|         Marine Fire| 6.928571314285715|\n",
      "|Confined Space / ...| 6.915384576923078|\n",
      "|Watercraft in Dis...| 6.886904817857142|\n",
      "|  Suspicious Package|6.5766667199999995|\n",
      "|   High Angle Rescue|6.0489583750000016|\n",
      "|        Water Rescue| 5.507748342145695|\n",
      "|               Other| 5.505155432421978|\n",
      "|          Fuel Spill| 5.492227982383421|\n",
      "|Citizen Assist / ...| 5.473342576604596|\n",
      "|   Electrical Hazard| 5.178112038174274|\n",
      "|Industrial Accidents| 5.014716334042553|\n",
      "|           Oil Spill| 4.977777761904762|\n",
      "|Odor (Strange / U...| 4.947959182000003|\n",
      "|Gas Leak (Natural...|  4.58339877840314|\n",
      "|Smoke Investigati...| 4.466069897851662|\n",
      "|Extrication / Ent...| 4.391666678571427|\n",
      "|Elevator / Escala...| 4.337821933487857|\n",
      "|        Outside Fire| 4.181948425367714|\n",
      "|           Explosion| 4.110674168539326|\n",
      "|        Vehicle Fire|3.9039227134074928|\n",
      "|    Medical Incident| 3.874868183815825|\n",
      "|   Traffic Collision| 3.789132088873234|\n",
      "|  Aircraft Emergency|3.7731481500000004|\n",
      "|      Structure Fire| 3.679561015471928|\n",
      "|              Alarms|3.5427290545084076|\n",
      "+--------------------+------------------+\n",
      "\n"
     ]
    },
    {
     "name": "stderr",
     "output_type": "stream",
     "text": [
      "                                                                                \r"
     ]
    }
   ],
   "source": [
    "# 신고 유형별 처리 시간 분석(각 타입에 따라 처리되는 시간값 구하기)\n",
    "df.groupBy(\"CallType\").agg(avg(\"ResponseDelayedMins\").alias(\"AvgResponseTime\")).orderBy(\"AvgResponseTime\", ascending=False).show(100)"
   ]
  },
  {
   "cell_type": "markdown",
   "id": "6e377ba4-3e98-47e8-9c47-56696399a467",
   "metadata": {},
   "source": [
    "### 신고유형별 분석\n",
    "- 전체 평균 대비 높은 대기 시간이 소량의 일부 유형에서 발생, 자원 배분 효율화 필요.\n",
    "- **Medical Incident**는 현재도 대기 시간이 짧으나 신고 비중이 높은 만큼, 현 상태를 유지하기 위한 지속적 자원 확보 필요."
   ]
  },
  {
   "cell_type": "markdown",
   "id": "a357b8fc-f796-4008-a896-7a6104936741",
   "metadata": {},
   "source": [
    "# 시간대별 분석"
   ]
  },
  {
   "cell_type": "code",
   "execution_count": 27,
   "id": "9269c8ca-4b37-465c-b6b9-2874f86f1fa2",
   "metadata": {},
   "outputs": [
    {
     "name": "stderr",
     "output_type": "stream",
     "text": [
      "[Stage 17:==============================================>       (171 + 2) / 200]\r"
     ]
    },
    {
     "name": "stdout",
     "output_type": "stream",
     "text": [
      "+-----+---------+\n",
      "|Month|CallCount|\n",
      "+-----+---------+\n",
      "|   10|    15410|\n",
      "|    8|    15126|\n",
      "|    5|    15099|\n",
      "|    9|    14991|\n",
      "|   12|    14782|\n",
      "|    7|    14762|\n",
      "|    1|    14586|\n",
      "|    3|    14582|\n",
      "|    6|    14553|\n",
      "|    4|    14140|\n",
      "|   11|    13863|\n",
      "|    2|    13402|\n",
      "+-----+---------+\n",
      "\n"
     ]
    },
    {
     "name": "stderr",
     "output_type": "stream",
     "text": [
      "                                                                                \r"
     ]
    }
   ],
   "source": [
    "# 신고가 가장 많은 달은? 10월\n",
    "from pyspark.sql.functions import month, count, to_timestamp\n",
    "\n",
    "#달만 출력하여 진행\n",
    "df.withColumn(\"IncidentDate\", to_timestamp(\"CallDate\", \"MM/dd/yyyy\")) \\\n",
    "    .withColumn(\"Month\", month(\"IncidentDate\")) \\\n",
    "    .groupBy(\"Month\").agg(count(\"*\").alias(\"CallCount\")).orderBy(\"CallCount\", ascending=False).show() "
   ]
  },
  {
   "cell_type": "code",
   "execution_count": 42,
   "id": "41b55f65-fdbd-4d51-a3d4-30b7cd08b8f4",
   "metadata": {},
   "outputs": [
    {
     "name": "stdout",
     "output_type": "stream",
     "text": [
      "+-----+---------+\n",
      "|Month|CallCount|\n",
      "+-----+---------+\n",
      "|    5|     9962|\n",
      "|   10|     9937|\n",
      "|    8|     9869|\n",
      "|    9|     9772|\n",
      "|    3|     9659|\n",
      "|   12|     9474|\n",
      "|    1|     9469|\n",
      "|    6|     9434|\n",
      "|    7|     9320|\n",
      "|    4|     9181|\n",
      "|   11|     8860|\n",
      "|    2|     8857|\n",
      "+-----+---------+\n",
      "\n"
     ]
    },
    {
     "name": "stderr",
     "output_type": "stream",
     "text": [
      "                                                                                \r"
     ]
    }
   ],
   "source": [
    "# 의료사고가 가장 많은 달은? 5월\n",
    "\n",
    "df.filter(df[\"CallType\"] == \"Medical Incident\").withColumn(\"IncidentDate\", to_timestamp(\"CallDate\", \"MM/dd/yyyy\")) \\\n",
    "    .withColumn(\"Month\", month(\"IncidentDate\")) \\\n",
    "    .groupBy(\"Month\").agg(count(\"*\").alias(\"CallCount\")).orderBy(\"CallCount\", ascending=False).show() "
   ]
  },
  {
   "cell_type": "markdown",
   "id": "d91d13cf-9e2b-4f4e-9045-24a4658a026c",
   "metadata": {},
   "source": [
    "### 의료사고가 가장 많은 달 분석\n",
    "-  5월과 10월이 의료사고 신고가 집중되는 경향을 보이나 큰 차이는 없음, 2월엔 상대적으로 적은 의료사고량 추정"
   ]
  },
  {
   "cell_type": "code",
   "execution_count": 43,
   "id": "a312182c-8a2b-4553-93f6-9e9ff344b1f7",
   "metadata": {},
   "outputs": [
    {
     "name": "stdout",
     "output_type": "stream",
     "text": [
      "The history saving thread hit an unexpected error (OperationalError('attempt to write a readonly database')).History will not be written to the database.\n",
      "+-----+---------+\n",
      "|Month|CallCount|\n",
      "+-----+---------+\n",
      "|    7|     2116|\n",
      "|    6|     2053|\n",
      "|   10|     2027|\n",
      "|    5|     2017|\n",
      "|    9|     1996|\n",
      "|   12|     1946|\n",
      "|    8|     1920|\n",
      "|    1|     1916|\n",
      "|    4|     1909|\n",
      "|   11|     1898|\n",
      "|    3|     1821|\n",
      "|    2|     1700|\n",
      "+-----+---------+\n",
      "\n"
     ]
    },
    {
     "name": "stderr",
     "output_type": "stream",
     "text": [
      "                                                                                \r"
     ]
    }
   ],
   "source": [
    "# 화재사고가 가장 많은 달은? 7월\n",
    "\n",
    "df.filter(df[\"CallType\"] == \"Structure Fire\").withColumn(\"IncidentDate\", to_timestamp(\"CallDate\", \"MM/dd/yyyy\")) \\\n",
    "    .withColumn(\"Month\", month(\"IncidentDate\")) \\\n",
    "    .groupBy(\"Month\").agg(count(\"*\").alias(\"CallCount\")).orderBy(\"CallCount\", ascending=False).show() "
   ]
  },
  {
   "cell_type": "markdown",
   "id": "09ea2fa0-57e7-4b45-a294-41d5741b1b70",
   "metadata": {},
   "source": [
    "### 화재 사고가 가장 많은 달 분석\n",
    "- 여름철(6월~7월)에 화재사고 신고가 급증하는 경향을 보임.여름철에 구조 관련 장비 및 인력을 증대하여 효율적인 대처를 준비."
   ]
  },
  {
   "cell_type": "code",
   "execution_count": 37,
   "id": "f93cc2b5-5ee0-4c11-9aef-f677f49a0f70",
   "metadata": {},
   "outputs": [
    {
     "name": "stderr",
     "output_type": "stream",
     "text": [
      "[Stage 27:====================================>                 (137 + 2) / 200]\r"
     ]
    },
    {
     "name": "stdout",
     "output_type": "stream",
     "text": [
      "+----+---------+\n",
      "|Year|CallCount|\n",
      "+----+---------+\n",
      "|2000|     5459|\n",
      "|2001|     7713|\n",
      "|2002|     8090|\n",
      "|2003|     8499|\n",
      "|2004|     8283|\n",
      "|2005|     8282|\n",
      "|2006|     8174|\n",
      "|2007|     8255|\n",
      "|2008|     8869|\n",
      "|2009|     8789|\n",
      "|2010|     9341|\n",
      "|2011|     9735|\n",
      "|2012|     9674|\n",
      "|2013|    10020|\n",
      "|2014|    10775|\n",
      "|2015|    11458|\n",
      "|2016|    11609|\n",
      "|2017|    12135|\n",
      "|2018|    10136|\n",
      "+----+---------+\n",
      "\n"
     ]
    },
    {
     "name": "stderr",
     "output_type": "stream",
     "text": [
      "                                                                                \r"
     ]
    }
   ],
   "source": [
    "# 연도별 신고 추세\n",
    "from pyspark.sql.functions import year\n",
    "\n",
    "df.withColumn(\"IncidentDate\", to_timestamp(\"CallDate\", \"MM/dd/yyyy\")).withColumn(\"Year\", year(\"IncidentDate\")) \\\n",
    "    .groupBy(\"Year\").agg(count(\"*\").alias(\"CallCount\")).orderBy(\"Year\").show()"
   ]
  },
  {
   "cell_type": "markdown",
   "id": "700130ff-821e-4edc-8c8f-becc0fb12db6",
   "metadata": {},
   "source": [
    "### 연도별 신고 추세 분석\n",
    "- 2000년부터 2017년까지 신고 건수가 꾸준히 증가하는 추세를 보임, 증가하는 신고 수요에 대비해 지속적인 인프라 확충"
   ]
  },
  {
   "cell_type": "code",
   "execution_count": 55,
   "id": "a37ccc4d-0a7d-40c7-b712-8cba54c68ac3",
   "metadata": {},
   "outputs": [
    {
     "name": "stderr",
     "output_type": "stream",
     "text": [
      "[Stage 62:>                                                         (0 + 2) / 2]\r"
     ]
    },
    {
     "name": "stdout",
     "output_type": "stream",
     "text": [
      "+----+---------+\n",
      "|Hour|CallCount|\n",
      "+----+---------+\n",
      "|null|     1794|\n",
      "|   0|     5851|\n",
      "|   1|     5418|\n",
      "|   2|     5144|\n",
      "|   3|     4291|\n",
      "|   4|     3573|\n",
      "|   5|     3265|\n",
      "|   6|     3455|\n",
      "|   7|     4589|\n",
      "|   8|     5930|\n",
      "|   9|     7325|\n",
      "|  10|     8419|\n",
      "|  11|     8989|\n",
      "|  12|     9476|\n",
      "|  13|     9515|\n",
      "|  14|     9535|\n",
      "|  15|     9538|\n",
      "|  16|     9574|\n",
      "|  17|     9720|\n",
      "|  18|     9637|\n",
      "|  19|     9375|\n",
      "|  20|     8814|\n",
      "|  21|     8009|\n",
      "|  22|     7440|\n",
      "|  23|     6620|\n",
      "+----+---------+\n",
      "\n"
     ]
    },
    {
     "name": "stderr",
     "output_type": "stream",
     "text": [
      "                                                                                \r"
     ]
    }
   ],
   "source": [
    "# 시간대별 신고추세, 사람들이 주로 활동하는 시간에 많은 신고량\n",
    "from pyspark.sql.functions import hour\n",
    "\n",
    "df.withColumn(\"AvailableDtTS\", to_timestamp(\"AvailableDtTm\", \"MM/dd/yyyy hh:mm:ss a\")).withColumn(\"Hour\", hour(\"AvailableDtTS\")) \\\n",
    "    .groupBy(\"Hour\").agg(count(\"*\").alias(\"CallCount\")).orderBy(\"Hour\").show(25)"
   ]
  },
  {
   "cell_type": "markdown",
   "id": "50fe3ecb-d900-419c-94b2-174eadd64c61",
   "metadata": {},
   "source": [
    "# 지역별 분석"
   ]
  },
  {
   "cell_type": "code",
   "execution_count": 45,
   "id": "761a376d-f225-4bbf-b4cf-a861acafe428",
   "metadata": {},
   "outputs": [
    {
     "name": "stdout",
     "output_type": "stream",
     "text": [
      "+--------------------+---------+\n",
      "|        Neighborhood|CallCount|\n",
      "+--------------------+---------+\n",
      "|          Tenderloin|    22785|\n",
      "|     South of Market|    16623|\n",
      "|             Mission|    15912|\n",
      "|Financial Distric...|    11912|\n",
      "|Bayview Hunters P...|     9616|\n",
      "|     Sunset/Parkside|     6984|\n",
      "|    Western Addition|     6591|\n",
      "|            Nob Hill|     5810|\n",
      "|      Outer Richmond|     4604|\n",
      "|        Hayes Valley|     4357|\n",
      "| Castro/Upper Market|     4176|\n",
      "|  West of Twin Peaks|     4005|\n",
      "|         North Beach|     3800|\n",
      "|           Chinatown|     3731|\n",
      "|           Excelsior|     3643|\n",
      "|     Pacific Heights|     3622|\n",
      "|              Marina|     3415|\n",
      "|        Potrero Hill|     3321|\n",
      "|      Bernal Heights|     3260|\n",
      "|        Inner Sunset|     2959|\n",
      "+--------------------+---------+\n",
      "only showing top 20 rows\n",
      "\n"
     ]
    },
    {
     "name": "stderr",
     "output_type": "stream",
     "text": [
      "                                                                                \r"
     ]
    }
   ],
   "source": [
    "# 가장 신고가 많은 지역은? Tenderloin\n",
    "df.groupBy(\"Neighborhood\").agg(count(\"*\").alias(\"CallCount\")).orderBy(\"CallCount\", ascending=False).show()"
   ]
  },
  {
   "cell_type": "code",
   "execution_count": 46,
   "id": "4668c1ea-8927-4ed0-b6a0-42b36e89793d",
   "metadata": {},
   "outputs": [
    {
     "name": "stdout",
     "output_type": "stream",
     "text": [
      "+--------------------+---------+\n",
      "|        Neighborhood|CallCount|\n",
      "+--------------------+---------+\n",
      "|          Tenderloin|     2385|\n",
      "|             Mission|     2348|\n",
      "|     South of Market|     1666|\n",
      "|Bayview Hunters P...|     1613|\n",
      "|Financial Distric...|     1242|\n",
      "|            Nob Hill|      938|\n",
      "|    Western Addition|      820|\n",
      "|     Sunset/Parkside|      798|\n",
      "| Castro/Upper Market|      686|\n",
      "|        Hayes Valley|      649|\n",
      "|           Excelsior|      628|\n",
      "|              Marina|      618|\n",
      "|           Chinatown|      598|\n",
      "|      Outer Richmond|      589|\n",
      "|     Pacific Heights|      586|\n",
      "|  West of Twin Peaks|      526|\n",
      "|        Potrero Hill|      507|\n",
      "|      Bernal Heights|      504|\n",
      "|        Russian Hill|      487|\n",
      "|      Haight Ashbury|      468|\n",
      "+--------------------+---------+\n",
      "only showing top 20 rows\n",
      "\n"
     ]
    },
    {
     "name": "stderr",
     "output_type": "stream",
     "text": [
      "                                                                                \r"
     ]
    }
   ],
   "source": [
    "# 화재사고가 가장 많은 지역은?\n",
    "df.filter(df[\"CallType\"] == \"Structure Fire\").groupBy(\"Neighborhood\").agg(count(\"*\").alias(\"CallCount\")).orderBy(\"CallCount\", ascending=False).show()"
   ]
  },
  {
   "cell_type": "markdown",
   "id": "eec121b6-aeb2-44d1-a8be-90187f0188b0",
   "metadata": {},
   "source": [
    "### 지역별 화재 사고 비율\n",
    "- Tenderloin 지역은 **전체 신고**와 **화재사고** 모두에서 가장 높은 신고 건수를 기록. 인구가 가장 많을 수도 있어보임. 충분한 인프라 확보 필요\n",
    "- 전체 신고량 대비 화재사고의 비중이 높은 지역은 **Mission**과 **Bayview Hunters Point**, 건조하거나 상업 지역일 확률 높아보이며 집중 관찰"
   ]
  },
  {
   "cell_type": "code",
   "execution_count": 47,
   "id": "3e927eb7-b3de-4f30-9b49-5aafdc48bde5",
   "metadata": {},
   "outputs": [
    {
     "name": "stdout",
     "output_type": "stream",
     "text": [
      "+--------------------+---------+\n",
      "|        Neighborhood|CallCount|\n",
      "+--------------------+---------+\n",
      "|          Tenderloin|    17109|\n",
      "|     South of Market|    12181|\n",
      "|             Mission|    10796|\n",
      "|Financial Distric...|     6532|\n",
      "|Bayview Hunters P...|     6099|\n",
      "|     Sunset/Parkside|     4936|\n",
      "|    Western Addition|     4191|\n",
      "|            Nob Hill|     3516|\n",
      "|      Outer Richmond|     3075|\n",
      "|        Hayes Valley|     2731|\n",
      "| Castro/Upper Market|     2666|\n",
      "|  West of Twin Peaks|     2545|\n",
      "|           Excelsior|     2535|\n",
      "|         North Beach|     2377|\n",
      "|           Chinatown|     2215|\n",
      "|      Bernal Heights|     2096|\n",
      "|        Potrero Hill|     1956|\n",
      "|     Pacific Heights|     1913|\n",
      "|              Marina|     1835|\n",
      "|        Inner Sunset|     1800|\n",
      "+--------------------+---------+\n",
      "only showing top 20 rows\n",
      "\n"
     ]
    }
   ],
   "source": [
    "# 의료 사고가 가장 많았던 지역은? \n",
    "df.filter(df[\"CallType\"] == \"Medical Incident\").groupBy(\"Neighborhood\").agg(count(\"*\").alias(\"CallCount\")).orderBy(\"CallCount\", ascending=False).show()"
   ]
  },
  {
   "cell_type": "markdown",
   "id": "6b3434e6-0f19-4a25-8b09-eb0a2c0b7aee",
   "metadata": {},
   "source": [
    "### 지역별 의료 사고 비율\n",
    "- **Tenderloin**과 **South of Market** 지역은 전체 신고량 중 의료 사고의 비중이 가장 높아, 해당 지역은 의료 관련 응급 서비스 수요가 매우 클듯.\n",
    "- **Financial District/South Beach**는 의료 사고 비중이 비교적 낮으나 여전히 주요 신고 유형으로 확인됨. 이는 상업지역의 특성으로 보임. "
   ]
  },
  {
   "cell_type": "code",
   "execution_count": 50,
   "id": "4ac3e0b2-213d-4422-a391-8e993547c8f9",
   "metadata": {},
   "outputs": [
    {
     "name": "stdout",
     "output_type": "stream",
     "text": [
      "+---------------+---------+\n",
      "|           City|CallCount|\n",
      "+---------------+---------+\n",
      "|             SF|   120072|\n",
      "|  San Francisco|    51739|\n",
      "|  SAN FRANCISCO|     1676|\n",
      "|             TI|      486|\n",
      "|       Presidio|      281|\n",
      "|             PR|      257|\n",
      "|  Treasure Isla|      228|\n",
      "|           null|      207|\n",
      "|    Yerba Buena|       41|\n",
      "|             DC|       41|\n",
      "|            SFO|       37|\n",
      "|     Fort Mason|       36|\n",
      "|             FM|       36|\n",
      "|             YB|       34|\n",
      "|             HP|       31|\n",
      "|  Hunters Point|       27|\n",
      "|       PRESIDIO|       13|\n",
      "|Treasure Island|       12|\n",
      "|            OAK|       11|\n",
      "|             BN|        9|\n",
      "+---------------+---------+\n",
      "only showing top 20 rows\n",
      "\n"
     ]
    },
    {
     "name": "stderr",
     "output_type": "stream",
     "text": [
      "                                                                                \r"
     ]
    }
   ],
   "source": [
    "# 어떤 주에서 가장 신고가 많았는가? SF\n",
    "df.groupBy(\"City\").agg(count(\"*\").alias(\"CallCount\")).orderBy(\"CallCount\", ascending=False).show()"
   ]
  },
  {
   "cell_type": "code",
   "execution_count": null,
   "id": "8acbca05-2334-4f5d-adcb-f7620776cbd9",
   "metadata": {},
   "outputs": [],
   "source": []
  },
  {
   "cell_type": "code",
   "execution_count": null,
   "id": "5cb880b8-4dfc-40b5-9d36-e18bf99981f0",
   "metadata": {},
   "outputs": [],
   "source": []
  },
  {
   "cell_type": "code",
   "execution_count": null,
   "id": "68c0d521-1ca6-490a-9c8b-3633e5f7168f",
   "metadata": {},
   "outputs": [],
   "source": []
  },
  {
   "cell_type": "code",
   "execution_count": null,
   "id": "3a67cf7e-0805-478d-a386-52ac52f10814",
   "metadata": {},
   "outputs": [],
   "source": []
  },
  {
   "cell_type": "code",
   "execution_count": null,
   "id": "3371090a-cc40-4b26-a4ce-164a9166b12a",
   "metadata": {},
   "outputs": [],
   "source": []
  },
  {
   "cell_type": "code",
   "execution_count": null,
   "id": "8aab758c-25d1-431b-9c35-9ae551f087ef",
   "metadata": {},
   "outputs": [],
   "source": []
  },
  {
   "cell_type": "code",
   "execution_count": 56,
   "id": "ff08faac-d5df-4877-86e3-3ad27ac8123b",
   "metadata": {},
   "outputs": [],
   "source": [
    "spark.stop()"
   ]
  }
 ],
 "metadata": {
  "kernelspec": {
   "display_name": "Python (spark_start)",
   "language": "python",
   "name": "spark_start"
  },
  "language_info": {
   "codemirror_mode": {
    "name": "ipython",
    "version": 3
   },
   "file_extension": ".py",
   "mimetype": "text/x-python",
   "name": "python",
   "nbconvert_exporter": "python",
   "pygments_lexer": "ipython3",
   "version": "3.8.2"
  }
 },
 "nbformat": 4,
 "nbformat_minor": 5
}
