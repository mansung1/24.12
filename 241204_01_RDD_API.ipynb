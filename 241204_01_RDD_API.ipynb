{
 "cells": [
  {
   "cell_type": "code",
   "execution_count": 4,
   "id": "f853f696-091e-443b-858b-78850b5e3c4c",
   "metadata": {},
   "outputs": [],
   "source": [
    "spark.stop() #안하면 메모리에 계속 있음."
   ]
  },
  {
   "cell_type": "code",
   "execution_count": 5,
   "id": "31825ecc-ade6-43e9-ac67-ed027fe67378",
   "metadata": {},
   "outputs": [
    {
     "data": {
      "text/html": [
       "\n",
       "        <div>\n",
       "            <p><b>SparkContext</b></p>\n",
       "\n",
       "            <p><a href=\"http://ip-172-31-1-11.ap-northeast-3.compute.internal:4040\">Spark UI</a></p>\n",
       "\n",
       "            <dl>\n",
       "              <dt>Version</dt>\n",
       "                <dd><code>v3.1.2</code></dd>\n",
       "              <dt>Master</dt>\n",
       "                <dd><code>local</code></dd>\n",
       "              <dt>AppName</dt>\n",
       "                <dd><code>241204_01_RDD_API</code></dd>\n",
       "            </dl>\n",
       "        </div>\n",
       "        "
      ],
      "text/plain": [
       "<SparkContext master=local appName=241204_01_RDD_API>"
      ]
     },
     "execution_count": 5,
     "metadata": {},
     "output_type": "execute_result"
    }
   ],
   "source": [
    "from pyspark import SparkConf, SparkContext\n",
    "\n",
    "conf = SparkConf().setMaster(\"local\").setAppName(\"241204_01_RDD_API\")\n",
    "spark = SparkContext(conf = conf).getOrCreate()\n",
    "spark"
   ]
  },
  {
   "cell_type": "code",
   "execution_count": 7,
   "id": "0f91060e-6b02-4f80-8b3b-8a58bc404a40",
   "metadata": {},
   "outputs": [
    {
     "data": {
      "text/plain": [
       "ParallelCollectionRDD[0] at readRDDFromFile at PythonRDD.scala:274"
      ]
     },
     "execution_count": 7,
     "metadata": {},
     "output_type": "execute_result"
    }
   ],
   "source": [
    "foods = spark.parallelize([\"짜장면\", \"마라탕\", \"짬뽕\", \"떡볶이\", \"쌀국수\", \"짬뽕\", \"짜장면\", \"짜장면\", \"짜장면\", \"라면\", \"우동\", \"라면\"])\n",
    "foods"
   ]
  },
  {
   "cell_type": "code",
   "execution_count": 8,
   "id": "1b58f750-4aab-489a-847c-21a4c81c55c5",
   "metadata": {},
   "outputs": [
    {
     "name": "stderr",
     "output_type": "stream",
     "text": [
      "                                                                                \r"
     ]
    },
    {
     "data": {
      "text/plain": [
       "['짜장면', '마라탕', '짬뽕', '떡볶이', '쌀국수', '짬뽕', '짜장면', '짜장면', '짜장면', '라면', '우동', '라면']"
      ]
     },
     "execution_count": 8,
     "metadata": {},
     "output_type": "execute_result"
    }
   ],
   "source": [
    "foods.collect() #전부 메모리에 올림"
   ]
  },
  {
   "cell_type": "code",
   "execution_count": 9,
   "id": "69ad71c1-0375-4fac-8154-fd6a8c52aed0",
   "metadata": {},
   "outputs": [
    {
     "name": "stderr",
     "output_type": "stream",
     "text": [
      "                                                                                \r"
     ]
    },
    {
     "data": {
      "text/plain": [
       "defaultdict(int,\n",
       "            {'짜장면': 4,\n",
       "             '마라탕': 1,\n",
       "             '짬뽕': 2,\n",
       "             '떡볶이': 1,\n",
       "             '쌀국수': 1,\n",
       "             '라면': 2,\n",
       "             '우동': 1})"
      ]
     },
     "execution_count": 9,
     "metadata": {},
     "output_type": "execute_result"
    }
   ],
   "source": [
    "foods.countByValue() #값을 기준으로 카운트"
   ]
  },
  {
   "cell_type": "code",
   "execution_count": 10,
   "id": "98080043-63b4-40c3-b56b-902e883a4d95",
   "metadata": {},
   "outputs": [
    {
     "data": {
      "text/plain": [
       "['짜장면', '마라탕', '짬뽕']"
      ]
     },
     "execution_count": 10,
     "metadata": {},
     "output_type": "execute_result"
    }
   ],
   "source": [
    "foods.take(3) #상위 3개만, collect에 비해 효율적인편"
   ]
  },
  {
   "cell_type": "code",
   "execution_count": 11,
   "id": "18b30e86-8723-48c8-8797-95700403355b",
   "metadata": {},
   "outputs": [
    {
     "data": {
      "text/plain": [
       "'짜장면'"
      ]
     },
     "execution_count": 11,
     "metadata": {},
     "output_type": "execute_result"
    }
   ],
   "source": [
    "foods.first() #상위 1개만"
   ]
  },
  {
   "cell_type": "code",
   "execution_count": 12,
   "id": "7532e248-2996-40b2-a210-c84d9f1e8226",
   "metadata": {},
   "outputs": [
    {
     "data": {
      "text/plain": [
       "12"
      ]
     },
     "execution_count": 12,
     "metadata": {},
     "output_type": "execute_result"
    }
   ],
   "source": [
    "foods.count() #RDD의 개수 = 12개를 구해올것"
   ]
  },
  {
   "cell_type": "code",
   "execution_count": 14,
   "id": "9731a346-7a35-4c6e-bbe1-2eaacb9c323e",
   "metadata": {},
   "outputs": [
    {
     "data": {
      "text/plain": [
       "PythonRDD[14] at RDD at PythonRDD.scala:53"
      ]
     },
     "execution_count": 14,
     "metadata": {},
     "output_type": "execute_result"
    }
   ],
   "source": [
    "fd_dist = foods.distinct()\n",
    "fd_dist"
   ]
  },
  {
   "cell_type": "code",
   "execution_count": 15,
   "id": "75545aac-0fe5-44b7-b47a-7c1c3dceca25",
   "metadata": {},
   "outputs": [
    {
     "data": {
      "text/plain": [
       "['짜장면', '마라탕', '짬뽕', '떡볶이', '쌀국수', '라면', '우동']"
      ]
     },
     "execution_count": 15,
     "metadata": {},
     "output_type": "execute_result"
    }
   ],
   "source": [
    "fd_dist.collect() #action연산 : 결과를 직접 반환하는 연산을 의미"
   ]
  },
  {
   "cell_type": "code",
   "execution_count": 17,
   "id": "3e855419-ba1b-450e-8566-8a6bda4ec44a",
   "metadata": {},
   "outputs": [
    {
     "name": "stderr",
     "output_type": "stream",
     "text": [
      "짜장면\n",
      "마라탕\n",
      "짬뽕\n",
      "떡볶이\n",
      "쌀국수\n",
      "짬뽕\n",
      "짜장면\n",
      "짜장면\n",
      "짜장면\n",
      "라면\n",
      "우동\n",
      "라면\n"
     ]
    }
   ],
   "source": [
    "#워커노드에서 실행하는 기능\n",
    "foods.foreach(lambda x : print(x))"
   ]
  },
  {
   "cell_type": "code",
   "execution_count": null,
   "id": "f31970fa-66c6-4bfe-8e9a-5224db954c7a",
   "metadata": {},
   "outputs": [],
   "source": [
    "# narrow operation 1:1연산!\n",
    "# filter(), map(), flatMap(), sample(), union()"
   ]
  },
  {
   "cell_type": "code",
   "execution_count": 18,
   "id": "60002de3-5286-457f-9e5f-a95d1dec4f95",
   "metadata": {},
   "outputs": [],
   "source": [
    "sample_rdd = spark.parallelize([1,2,3,4,5])"
   ]
  },
  {
   "cell_type": "code",
   "execution_count": 19,
   "id": "f73f5dbf-c0ca-4e56-9525-36b07146d098",
   "metadata": {},
   "outputs": [
    {
     "data": {
      "text/plain": [
       "[3, 4, 5, 6, 7]"
      ]
     },
     "execution_count": 19,
     "metadata": {},
     "output_type": "execute_result"
    }
   ],
   "source": [
    "sample_rdd2 = sample_rdd.map(lambda x: x+2)\n",
    "sample_rdd2.collect() #2씩 더해져서 출력"
   ]
  },
  {
   "cell_type": "code",
   "execution_count": 20,
   "id": "302f2b6b-9d21-48d7-baf1-b7b8ecf27241",
   "metadata": {},
   "outputs": [],
   "source": [
    "# 영화제목 리스트 생성(예시)\n",
    "movies = [\n",
    "    \"그린 북\",\n",
    "    \"매트릭스\",\n",
    "    \"토이 스토리\",\n",
    "    \"캐스트 어웨이\",\n",
    "    \"포드 V 페라리\",\n",
    "    \"보헤미안 랩소디\",\n",
    "    \"빽 투 더 퓨처\",\n",
    "    \"반지의 제왕\",\n",
    "    \"죽은 시인의 사회\"\n",
    "]"
   ]
  },
  {
   "cell_type": "code",
   "execution_count": 21,
   "id": "21c2efc5-8c6d-4d57-a3d5-6059e19a9ad8",
   "metadata": {},
   "outputs": [],
   "source": [
    "moviesRDD = spark.parallelize(movies)"
   ]
  },
  {
   "cell_type": "code",
   "execution_count": 23,
   "id": "d99e7418-67fe-486b-9cf6-c0e0cdd28699",
   "metadata": {},
   "outputs": [
    {
     "data": {
      "text/plain": [
       "[['그린', '북'],\n",
       " ['매트릭스'],\n",
       " ['토이', '스토리'],\n",
       " ['캐스트', '어웨이'],\n",
       " ['포드', 'V', '페라리'],\n",
       " ['보헤미안', '랩소디'],\n",
       " ['빽', '투', '더', '퓨처'],\n",
       " ['반지의', '제왕'],\n",
       " ['죽은', '시인의', '사회']]"
      ]
     },
     "execution_count": 23,
     "metadata": {},
     "output_type": "execute_result"
    }
   ],
   "source": [
    "mapMovies = moviesRDD.map(lambda x: x.split(\" \")) #공백을 기준으로 쪼개기\n",
    "mapMovies.collect()"
   ]
  },
  {
   "cell_type": "code",
   "execution_count": 24,
   "id": "4ff64c95-78a8-46f1-9176-702af6877262",
   "metadata": {},
   "outputs": [
    {
     "data": {
      "text/plain": [
       "['그린',\n",
       " '북',\n",
       " '매트릭스',\n",
       " '토이',\n",
       " '스토리',\n",
       " '캐스트',\n",
       " '어웨이',\n",
       " '포드',\n",
       " 'V',\n",
       " '페라리',\n",
       " '보헤미안',\n",
       " '랩소디',\n",
       " '빽',\n",
       " '투',\n",
       " '더',\n",
       " '퓨처',\n",
       " '반지의',\n",
       " '제왕',\n",
       " '죽은',\n",
       " '시인의',\n",
       " '사회']"
      ]
     },
     "execution_count": 24,
     "metadata": {},
     "output_type": "execute_result"
    }
   ],
   "source": [
    "flatmapMovies = moviesRDD.flatMap(lambda x: x.split(\" \")) #공백을 기준으로 쪼개기\n",
    "flatmapMovies.collect() #map과의 차이점 확인"
   ]
  },
  {
   "cell_type": "code",
   "execution_count": 27,
   "id": "06ef89ab-14d9-43dc-886a-246ee5d4eb4b",
   "metadata": {},
   "outputs": [
    {
     "data": {
      "text/plain": [
       "['그린',\n",
       " '북',\n",
       " '토이',\n",
       " '스토리',\n",
       " '캐스트',\n",
       " '어웨이',\n",
       " '포드',\n",
       " 'V',\n",
       " '페라리',\n",
       " '보헤미안',\n",
       " '랩소디',\n",
       " '빽',\n",
       " '투',\n",
       " '더',\n",
       " '퓨처',\n",
       " '반지의',\n",
       " '제왕',\n",
       " '죽은',\n",
       " '시인의',\n",
       " '사회']"
      ]
     },
     "execution_count": 27,
     "metadata": {},
     "output_type": "execute_result"
    }
   ],
   "source": [
    "filteredMovies = flatmapMovies.filter(lambda x: x != \"매트릭스\")\n",
    "filteredMovies.collect()"
   ]
  },
  {
   "cell_type": "code",
   "execution_count": 28,
   "id": "162bce33-db00-44ba-9ff9-5395ebfa44f3",
   "metadata": {},
   "outputs": [],
   "source": [
    "# 집합연산\n",
    "num1 = spark.parallelize([1,2,3,4,5])\n",
    "num2 = spark.parallelize([4,5,6,7,8,9,10])"
   ]
  },
  {
   "cell_type": "code",
   "execution_count": 32,
   "id": "42f1493e-944d-421c-96e8-90da4b89cd10",
   "metadata": {},
   "outputs": [
    {
     "data": {
      "text/plain": [
       "[4, 5]"
      ]
     },
     "execution_count": 32,
     "metadata": {},
     "output_type": "execute_result"
    }
   ],
   "source": [
    "# intersection\n",
    "num1.intersection(num2).collect()"
   ]
  },
  {
   "cell_type": "code",
   "execution_count": 35,
   "id": "a6ddc0a1-ec38-4e34-ada7-0a39ec3a84ee",
   "metadata": {},
   "outputs": [
    {
     "data": {
      "text/plain": [
       "[2, 1, 3]"
      ]
     },
     "execution_count": 35,
     "metadata": {},
     "output_type": "execute_result"
    }
   ],
   "source": [
    "num1.subtract(num2).collect()"
   ]
  },
  {
   "cell_type": "code",
   "execution_count": 36,
   "id": "c71226e6-f186-4f99-9da7-fac87f0e672b",
   "metadata": {},
   "outputs": [
    {
     "data": {
      "text/plain": [
       "[6, 8, 10, 7, 9]"
      ]
     },
     "execution_count": 36,
     "metadata": {},
     "output_type": "execute_result"
    }
   ],
   "source": [
    "num2.subtract(num1).collect()"
   ]
  },
  {
   "cell_type": "code",
   "execution_count": 42,
   "id": "807866cf-fbac-4d27-8646-cc45d1144a22",
   "metadata": {},
   "outputs": [
    {
     "data": {
      "text/plain": [
       "[1, 2, 3, 4, 5, 4, 5, 6, 7, 8, 9, 10]"
      ]
     },
     "execution_count": 42,
     "metadata": {},
     "output_type": "execute_result"
    }
   ],
   "source": [
    "numlist = num1.union(num2)\n",
    "numlist.collect()"
   ]
  },
  {
   "cell_type": "code",
   "execution_count": 37,
   "id": "16e1ea33-b808-4038-92ca-43a535441911",
   "metadata": {},
   "outputs": [],
   "source": [
    "# sample  : 데이터의 일부를 샘플링해서 추출\n",
    "# sample(withReplacement, fraction, seed))\n",
    "\n",
    "# withReplacement : 비복원, 복원 추출\n",
    "# fraction : 기대값\n",
    "# seed : 난수 추출을 위한 시드값"
   ]
  },
  {
   "cell_type": "code",
   "execution_count": 58,
   "id": "c7ba8791-2775-4142-a493-9c5a0f686afe",
   "metadata": {},
   "outputs": [
    {
     "data": {
      "text/plain": [
       "[1, 1, 4, 4, 7, 7, 10]"
      ]
     },
     "execution_count": 58,
     "metadata": {},
     "output_type": "execute_result"
    }
   ],
   "source": [
    "numlist.sample(True, 0.5).collect() #시드가 없어 출력할때마가 다름"
   ]
  },
  {
   "cell_type": "code",
   "execution_count": 59,
   "id": "d4b1925e-21c6-4b2b-9673-e3b9081a5742",
   "metadata": {},
   "outputs": [
    {
     "data": {
      "text/plain": [
       "[5, 6, 6]"
      ]
     },
     "execution_count": 59,
     "metadata": {},
     "output_type": "execute_result"
    }
   ],
   "source": [
    "numlist.sample(True, 0.5, seed=42).collect() #시드가 있어 항상 같은 값 출력"
   ]
  },
  {
   "cell_type": "code",
   "execution_count": 60,
   "id": "c1963e5a-44d4-4b81-94de-48a05d1fc2c2",
   "metadata": {},
   "outputs": [
    {
     "data": {
      "text/plain": [
       "['짜장면', '마라탕', '짬뽕', '떡볶이', '쌀국수', '짬뽕', '짜장면', '짜장면', '짜장면', '라면', '우동', '라면']"
      ]
     },
     "execution_count": 60,
     "metadata": {},
     "output_type": "execute_result"
    }
   ],
   "source": [
    "# WIDE TRANSFORMATION\n",
    "# groupby reduce\n",
    "foods.collect() #위에서 썼던 것 가져오기 "
   ]
  },
  {
   "cell_type": "code",
   "execution_count": 63,
   "id": "5b1054a6-4a23-4b04-8ed3-788ba180e082",
   "metadata": {},
   "outputs": [],
   "source": [
    "foodsGroup = foods.groupBy(lambda x: x[0]) #c첫번째 글자로 묶기\n",
    "res = foodsGroup.collect()"
   ]
  },
  {
   "cell_type": "code",
   "execution_count": 67,
   "id": "7b252050-bc04-4342-a18f-21df6b2947be",
   "metadata": {},
   "outputs": [
    {
     "name": "stdout",
     "output_type": "stream",
     "text": [
      "짜 ['짜장면', '짜장면', '짜장면', '짜장면']\n",
      "마 ['마라탕']\n",
      "짬 ['짬뽕', '짬뽕']\n",
      "떡 ['떡볶이']\n",
      "쌀 ['쌀국수']\n",
      "라 ['라면', '라면']\n",
      "우 ['우동']\n"
     ]
    }
   ],
   "source": [
    "for (k,v) in res: print(k, list(v))"
   ]
  },
  {
   "cell_type": "code",
   "execution_count": 68,
   "id": "10cc4008-df8b-4444-b5fd-700c9b9db7e0",
   "metadata": {},
   "outputs": [],
   "source": [
    "spark.stop() #안하면 메모리에 계속 있음."
   ]
  },
  {
   "cell_type": "code",
   "execution_count": null,
   "id": "b2985cee-a868-4a13-b9ee-b1862bb3ed7d",
   "metadata": {},
   "outputs": [],
   "source": []
  },
  {
   "cell_type": "code",
   "execution_count": null,
   "id": "8a752047-f626-45b2-a450-472fd60e6903",
   "metadata": {},
   "outputs": [],
   "source": []
  },
  {
   "cell_type": "code",
   "execution_count": null,
   "id": "d1646f40-acab-48d5-a813-11870b325869",
   "metadata": {},
   "outputs": [],
   "source": []
  }
 ],
 "metadata": {
  "kernelspec": {
   "display_name": "Python (spark_start)",
   "language": "python",
   "name": "spark_start"
  },
  "language_info": {
   "codemirror_mode": {
    "name": "ipython",
    "version": 3
   },
   "file_extension": ".py",
   "mimetype": "text/x-python",
   "name": "python",
   "nbconvert_exporter": "python",
   "pygments_lexer": "ipython3",
   "version": "3.8.2"
  }
 },
 "nbformat": 4,
 "nbformat_minor": 5
}
