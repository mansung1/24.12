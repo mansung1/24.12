{
 "cells": [
  {
   "cell_type": "code",
   "execution_count": 3,
   "id": "d9046eff-174e-4e0c-8233-27aeb77c24a1",
   "metadata": {},
   "outputs": [],
   "source": [
    "from pyspark import SparkConf, SparkContext\n",
    "conf = SparkConf().setMaster(\"local\").setAppName(\"restaurant-review-average\")\n",
    "spark = SparkContext(conf = conf).getOrCreate()"
   ]
  },
  {
   "cell_type": "code",
   "execution_count": 2,
   "id": "0f6cb6d5-1deb-4637-bbcf-c97c2a392b97",
   "metadata": {},
   "outputs": [],
   "source": [
    "spark.stop() #그냥 오류나면 눌러보기~"
   ]
  },
  {
   "cell_type": "code",
   "execution_count": 4,
   "id": "906ecc5e-bfb4-4cfe-bfd6-99f6d936fda5",
   "metadata": {},
   "outputs": [],
   "source": [
    "import os"
   ]
  },
  {
   "cell_type": "code",
   "execution_count": 5,
   "id": "45977db4-8cc8-4e36-9e38-190857d48a91",
   "metadata": {},
   "outputs": [],
   "source": [
    "directory = os.path.join(os.getcwd(), \"data\") #현재 위치를 불러와 그 밑에 data폴더를 추가\n",
    "filename = \"restaurant_reviews.csv\"\n",
    "filepath = os.path.join(directory, filename)"
   ]
  },
  {
   "cell_type": "code",
   "execution_count": 6,
   "id": "3b7934a2-d979-4372-9dd3-11bc93c9a92b",
   "metadata": {},
   "outputs": [
    {
     "data": {
      "text/plain": [
       "file:////home/lab02/src/data/restaurant_reviews.csv MapPartitionsRDD[1] at textFile at NativeMethodAccessorImpl.java:0"
      ]
     },
     "execution_count": 6,
     "metadata": {},
     "output_type": "execute_result"
    }
   ],
   "source": [
    "# RDD 생성\n",
    "lines = spark.textFile(\"file:///\" + filepath.replace(\"\\\\\", \"/\"))\n",
    "lines"
   ]
  },
  {
   "cell_type": "code",
   "execution_count": 11,
   "id": "aa28d080-59a1-41ca-9609-ffaff29c34e2",
   "metadata": {},
   "outputs": [
    {
     "data": {
      "text/plain": [
       "['id,item,cateogry,reviews,',\n",
       " '0,짜장면,중식,125,',\n",
       " '1,짬뽕,중식,235,',\n",
       " '2,김밥,분식,32,',\n",
       " '3,떡볶이,분식,534,',\n",
       " '4,라멘,일식,223,',\n",
       " '5,돈가스,일식,52,',\n",
       " '6,우동,일식,12,',\n",
       " '7,쌀국수,아시안,312,',\n",
       " '8,햄버거,패스트푸드,12,']"
      ]
     },
     "execution_count": 11,
     "metadata": {},
     "output_type": "execute_result"
    }
   ],
   "source": [
    "lines.take(10)"
   ]
  },
  {
   "cell_type": "code",
   "execution_count": 12,
   "id": "5f10ccc6-a592-4ea7-bb84-e00bf60ea2f4",
   "metadata": {},
   "outputs": [
    {
     "data": {
      "text/plain": [
       "'id,item,cateogry,reviews,'"
      ]
     },
     "execution_count": 12,
     "metadata": {},
     "output_type": "execute_result"
    }
   ],
   "source": [
    "header = lines.first() #1번째 줄(컬럼명)만 출력\n",
    "header"
   ]
  },
  {
   "cell_type": "code",
   "execution_count": 41,
   "id": "314015ec-09e8-4063-929b-5c2bfda396f8",
   "metadata": {},
   "outputs": [
    {
     "data": {
      "text/plain": [
       "['0,짜장면,중식,125,',\n",
       " '1,짬뽕,중식,235,',\n",
       " '2,김밥,분식,32,',\n",
       " '3,떡볶이,분식,534,',\n",
       " '4,라멘,일식,223,',\n",
       " '5,돈가스,일식,52,',\n",
       " '6,우동,일식,12,',\n",
       " '7,쌀국수,아시안,312,',\n",
       " '8,햄버거,패스트푸드,12,']"
      ]
     },
     "execution_count": 41,
     "metadata": {},
     "output_type": "execute_result"
    }
   ],
   "source": [
    "datas = lines.filter(lambda row: row != header) #컬럼명인 1번째 줄을 제외하고 출력\n",
    "datas.take(9)"
   ]
  },
  {
   "cell_type": "code",
   "execution_count": 36,
   "id": "ad9963b0-56f2-4b65-8b44-7d6b9787c767",
   "metadata": {},
   "outputs": [],
   "source": [
    "# 함수로 따로 만들어서 진행!\n",
    "def parse(row):\n",
    "    fields = row.split(\",\")\n",
    "    food = fields[1]\n",
    "    #category = fields[2]\n",
    "    reviews = int(fields[3])\n",
    "    \n",
    "    return food, reviews"
   ]
  },
  {
   "cell_type": "code",
   "execution_count": 37,
   "id": "9f468e08-3a4c-485c-89bc-913f9f5a121c",
   "metadata": {},
   "outputs": [
    {
     "data": {
      "text/plain": [
       "('짜장면', 125)"
      ]
     },
     "execution_count": 37,
     "metadata": {},
     "output_type": "execute_result"
    }
   ],
   "source": [
    "parse('0,짜장면,중식,125,')"
   ]
  },
  {
   "cell_type": "code",
   "execution_count": 38,
   "id": "d477cb11-72f4-463f-832b-a5f9abbbc7a8",
   "metadata": {},
   "outputs": [],
   "source": [
    "category_reviews = datas.map(parse)"
   ]
  },
  {
   "cell_type": "code",
   "execution_count": 39,
   "id": "fe884e35-9da4-47b8-928f-d9e7fe2db9db",
   "metadata": {},
   "outputs": [
    {
     "data": {
      "text/plain": [
       "[('짜장면', 125), ('짬뽕', 235), ('김밥', 32), ('떡볶이', 534), ('라멘', 223)]"
      ]
     },
     "execution_count": 39,
     "metadata": {},
     "output_type": "execute_result"
    }
   ],
   "source": [
    "category_reviews.take(5)"
   ]
  },
  {
   "cell_type": "code",
   "execution_count": 40,
   "id": "bd032391-f974-4aee-aeea-a3c768e7c021",
   "metadata": {},
   "outputs": [
    {
     "data": {
      "text/plain": [
       "[('짜장면', (125, 1)), ('짬뽕', (235, 1)), ('김밥', (32, 1))]"
      ]
     },
     "execution_count": 40,
     "metadata": {},
     "output_type": "execute_result"
    }
   ],
   "source": [
    "category_review_count = category_reviews.mapValues(lambda x : (x,1))\n",
    "category_review_count.take(3) #데이터 형태가 변한 것을 확인"
   ]
  },
  {
   "cell_type": "markdown",
   "id": "6bc03b48-2e5c-42a3-9a37-24dc764042b9",
   "metadata": {},
   "source": [
    "## 공식 `(125,1)`\n",
    "\n",
    "- 첫번째 공식 `(125,1)` → `x`\n",
    "- 두번째 공식 `(235,1)` → `y`\n",
    "\n",
    "### 리뷰의 갯수의 합\n",
    "`x[0] + y[0]`\n",
    "\n",
    "### 건수의 합\n",
    "`x[1] + y[1]`"
   ]
  },
  {
   "cell_type": "code",
   "execution_count": 42,
   "id": "877938e0-4f7e-4f1a-b072-03987c301c21",
   "metadata": {},
   "outputs": [
    {
     "data": {
      "text/plain": [
       "[('짜장면', (125, 1)), ('짬뽕', (235, 1)), ('김밥', (32, 1))]"
      ]
     },
     "execution_count": 42,
     "metadata": {},
     "output_type": "execute_result"
    }
   ],
   "source": [
    "# 카테고리별 합계\n",
    "reduce_rdd = category_review_count.reduceByKey(lambda x,y : (x[0]+y[0], x[1]+y[1]))\n",
    "reduce_rdd.take(3)"
   ]
  },
  {
   "cell_type": "code",
   "execution_count": 43,
   "id": "981344a1-1dcb-4517-8c69-28b35df7b251",
   "metadata": {},
   "outputs": [
    {
     "data": {
      "text/plain": [
       "[('짜장면', (125, 1)),\n",
       " ('짬뽕', (235, 1)),\n",
       " ('김밥', (32, 1)),\n",
       " ('떡볶이', (534, 1)),\n",
       " ('라멘', (223, 1)),\n",
       " ('돈가스', (52, 1)),\n",
       " ('우동', (12, 1)),\n",
       " ('쌀국수', (312, 1)),\n",
       " ('햄버거', (12, 1)),\n",
       " ('치킨', (23, 1))]"
      ]
     },
     "execution_count": 43,
     "metadata": {},
     "output_type": "execute_result"
    }
   ],
   "source": [
    "reduce_rdd.collect()"
   ]
  },
  {
   "cell_type": "code",
   "execution_count": 44,
   "id": "e930014e-442f-49c9-b648-cf8553850dbc",
   "metadata": {},
   "outputs": [
    {
     "data": {
      "text/plain": [
       "[('짜장면', 125.0),\n",
       " ('짬뽕', 235.0),\n",
       " ('김밥', 32.0),\n",
       " ('떡볶이', 534.0),\n",
       " ('라멘', 223.0),\n",
       " ('돈가스', 52.0),\n",
       " ('우동', 12.0),\n",
       " ('쌀국수', 312.0),\n",
       " ('햄버거', 12.0),\n",
       " ('치킨', 23.0)]"
      ]
     },
     "execution_count": 44,
     "metadata": {},
     "output_type": "execute_result"
    }
   ],
   "source": [
    "# 평균\n",
    "average = reduce_rdd.mapValues(lambda x: x[0]/x[1])\n",
    "average.collect()"
   ]
  },
  {
   "cell_type": "code",
   "execution_count": 45,
   "id": "b8efa0a7-3341-41f4-9520-860fc635e088",
   "metadata": {},
   "outputs": [],
   "source": [
    "spark.stop() #마지막에 꼭 실행주어야함"
   ]
  },
  {
   "cell_type": "code",
   "execution_count": null,
   "id": "61ec0010-942a-43f9-9ad2-99f8d8d411c2",
   "metadata": {},
   "outputs": [],
   "source": []
  },
  {
   "cell_type": "code",
   "execution_count": null,
   "id": "877f3a2c-6245-495e-9dbd-67d5db168fb3",
   "metadata": {},
   "outputs": [],
   "source": []
  },
  {
   "cell_type": "code",
   "execution_count": null,
   "id": "fa03aa7b-5190-4ccd-819e-8f50cf232682",
   "metadata": {},
   "outputs": [],
   "source": []
  }
 ],
 "metadata": {
  "kernelspec": {
   "display_name": "Python (spark_start)",
   "language": "python",
   "name": "spark_start"
  },
  "language_info": {
   "codemirror_mode": {
    "name": "ipython",
    "version": 3
   },
   "file_extension": ".py",
   "mimetype": "text/x-python",
   "name": "python",
   "nbconvert_exporter": "python",
   "pygments_lexer": "ipython3",
   "version": "3.8.2"
  }
 },
 "nbformat": 4,
 "nbformat_minor": 5
}
