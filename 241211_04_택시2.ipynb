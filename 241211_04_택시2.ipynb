{
 "cells": [
  {
   "cell_type": "code",
   "execution_count": 57,
   "id": "1c66756e-85a4-4dc4-85e5-f4eccc8524c8",
   "metadata": {},
   "outputs": [],
   "source": [
    "spark.stop()"
   ]
  },
  {
   "cell_type": "code",
   "execution_count": 58,
   "id": "54943918-d25a-408f-a701-1d381043ca30",
   "metadata": {},
   "outputs": [],
   "source": [
    "from pyspark.sql import SparkSession\n",
    "spark = SparkSession.builder.appName(\"taxi\").getOrCreate()"
   ]
  },
  {
   "cell_type": "code",
   "execution_count": 59,
   "id": "a493c325-27d7-464f-b922-3dd5dd566d30",
   "metadata": {},
   "outputs": [
    {
     "name": "stderr",
     "output_type": "stream",
     "text": [
      "                                                                                \r"
     ]
    }
   ],
   "source": [
    "yellow202101 = spark.read.format('csv').load('data/yellow_tripdata_2021-01.csv', inferSchema=True, header=True)\n",
    "yellow202102 = spark.read.format('csv').load('data/yellow_tripdata_2021-02.csv', inferSchema=True, header=True)\n",
    "yellow202103 = spark.read.format('csv').load('data/yellow_tripdata_2021-03.csv', inferSchema=True, header=True)\n",
    "yellow202104 = spark.read.format('csv').load('data/yellow_tripdata_2021-04.csv', inferSchema=True, header=True)\n",
    "yellow202105 = spark.read.format('csv').load('data/yellow_tripdata_2021-05.csv', inferSchema=True, header=True)\n",
    "yellow202106 = spark.read.format('csv').load('data/yellow_tripdata_2021-06.csv', inferSchema=True, header=True)\n",
    "yellow202107 = spark.read.format('csv').load('data/yellow_tripdata_2021-07.csv', inferSchema=True, header=True)"
   ]
  },
  {
   "cell_type": "code",
   "execution_count": 60,
   "id": "1771fa0d-80fb-4afd-ae3a-b88f081b9f48",
   "metadata": {},
   "outputs": [],
   "source": [
    "zone_df = spark.read.format('csv').load('data/taxi+_zone_lookup.csv', inferSchema=True, header=True)"
   ]
  },
  {
   "cell_type": "code",
   "execution_count": 61,
   "id": "b94d1de9-af0d-4dfc-97f8-45e7b17a8b79",
   "metadata": {},
   "outputs": [
    {
     "name": "stdout",
     "output_type": "stream",
     "text": [
      "+----------+-------------+--------------------+------------+\n",
      "|LocationID|      Borough|                Zone|service_zone|\n",
      "+----------+-------------+--------------------+------------+\n",
      "|         1|          EWR|      Newark Airport|         EWR|\n",
      "|         2|       Queens|         Jamaica Bay|   Boro Zone|\n",
      "|         3|        Bronx|Allerton/Pelham G...|   Boro Zone|\n",
      "|         4|    Manhattan|       Alphabet City| Yellow Zone|\n",
      "|         5|Staten Island|       Arden Heights|   Boro Zone|\n",
      "|         6|Staten Island|Arrochar/Fort Wad...|   Boro Zone|\n",
      "|         7|       Queens|             Astoria|   Boro Zone|\n",
      "|         8|       Queens|        Astoria Park|   Boro Zone|\n",
      "|         9|       Queens|          Auburndale|   Boro Zone|\n",
      "|        10|       Queens|        Baisley Park|   Boro Zone|\n",
      "|        11|     Brooklyn|          Bath Beach|   Boro Zone|\n",
      "|        12|    Manhattan|        Battery Park| Yellow Zone|\n",
      "|        13|    Manhattan|   Battery Park City| Yellow Zone|\n",
      "|        14|     Brooklyn|           Bay Ridge|   Boro Zone|\n",
      "|        15|       Queens|Bay Terrace/Fort ...|   Boro Zone|\n",
      "|        16|       Queens|             Bayside|   Boro Zone|\n",
      "|        17|     Brooklyn|             Bedford|   Boro Zone|\n",
      "|        18|        Bronx|        Bedford Park|   Boro Zone|\n",
      "|        19|       Queens|           Bellerose|   Boro Zone|\n",
      "|        20|        Bronx|             Belmont|   Boro Zone|\n",
      "+----------+-------------+--------------------+------------+\n",
      "only showing top 20 rows\n",
      "\n"
     ]
    }
   ],
   "source": [
    "zone_df.show(20)"
   ]
  },
  {
   "cell_type": "code",
   "execution_count": 62,
   "id": "a06cf489-e4fc-41a1-9509-68930fb50b0a",
   "metadata": {},
   "outputs": [],
   "source": [
    "trips_df = yellow202101.union(yellow202102).union(yellow202103).union(yellow202104).union(yellow202105).union(yellow202106).union(yellow202107)"
   ]
  },
  {
   "cell_type": "code",
   "execution_count": 63,
   "id": "2221e1b3-a82a-4d0c-9ddf-b83691539b56",
   "metadata": {},
   "outputs": [
    {
     "name": "stdout",
     "output_type": "stream",
     "text": [
      "root\n",
      " |-- VendorID: integer (nullable = true)\n",
      " |-- tpep_pickup_datetime: string (nullable = true)\n",
      " |-- tpep_dropoff_datetime: string (nullable = true)\n",
      " |-- passenger_count: integer (nullable = true)\n",
      " |-- trip_distance: double (nullable = true)\n",
      " |-- RatecodeID: integer (nullable = true)\n",
      " |-- store_and_fwd_flag: string (nullable = true)\n",
      " |-- PULocationID: integer (nullable = true)\n",
      " |-- DOLocationID: integer (nullable = true)\n",
      " |-- payment_type: integer (nullable = true)\n",
      " |-- fare_amount: double (nullable = true)\n",
      " |-- extra: double (nullable = true)\n",
      " |-- mta_tax: double (nullable = true)\n",
      " |-- tip_amount: double (nullable = true)\n",
      " |-- tolls_amount: double (nullable = true)\n",
      " |-- improvement_surcharge: double (nullable = true)\n",
      " |-- total_amount: double (nullable = true)\n",
      " |-- congestion_surcharge: double (nullable = true)\n",
      "\n"
     ]
    }
   ],
   "source": [
    "trips_df.printSchema()"
   ]
  },
  {
   "cell_type": "code",
   "execution_count": 64,
   "id": "ef9d7183-05f7-4fbd-9af5-7ca62388eef1",
   "metadata": {},
   "outputs": [],
   "source": [
    "trips_df.createOrReplaceTempView('trips')\n",
    "zone_df.createOrReplaceTempView('zone')"
   ]
  },
  {
   "cell_type": "code",
   "execution_count": 65,
   "id": "fe343619-b85d-4387-bdbd-c44a7746217d",
   "metadata": {},
   "outputs": [],
   "source": [
    "#분석에 필요할 컬럼들만 따로 빼서 출력\n",
    "query = '''\n",
    "select\n",
    "t.VendorID,\n",
    "TO_DATE(t.tpep_pickup_datetime) as pickup_date,\n",
    "TO_DATE(t.tpep_dropoff_datetime) as dropoff_date,\n",
    "HOUR(t.tpep_pickup_datetime)  as pickup_time,\n",
    "HOUR(t.tpep_dropoff_datetime) as dropoff_time,\n",
    "t.passenger_count,\n",
    "t.trip_distance,\n",
    "t.tip_amount,\n",
    "t.total_amount,\n",
    "t.payment_type,\n",
    "pz.Zone as pickup_zone,\n",
    "dz.Zone as dropoff_zone\n",
    "from trips t\n",
    "LEFT JOIN zone pz ON t.PULocationID = pz.LocationID\n",
    "LEFT JOIN zone dz ON t.DOLocationID = dz.LocationID\n",
    "'''"
   ]
  },
  {
   "cell_type": "code",
   "execution_count": 66,
   "id": "bd06aabf-ccce-4efe-827c-fed17250ae44",
   "metadata": {},
   "outputs": [],
   "source": [
    "comb_df = spark.sql(query)"
   ]
  },
  {
   "cell_type": "code",
   "execution_count": 67,
   "id": "f6cf623a-11e2-4e83-98d9-6ff33bd6e677",
   "metadata": {},
   "outputs": [
    {
     "name": "stderr",
     "output_type": "stream",
     "text": [
      "                                                                                \r"
     ]
    },
    {
     "data": {
      "text/plain": [
       "15000700"
      ]
     },
     "execution_count": 67,
     "metadata": {},
     "output_type": "execute_result"
    }
   ],
   "source": [
    "comb_df.count() #1500만건의 데이터..."
   ]
  },
  {
   "cell_type": "code",
   "execution_count": 68,
   "id": "1164e3b9-2a0f-41df-9786-cd6aa6fd9f54",
   "metadata": {
    "scrolled": true
   },
   "outputs": [
    {
     "name": "stdout",
     "output_type": "stream",
     "text": [
      "+--------+-----------+------------+-----------+------------+---------------+-------------+----------+------------+------------+--------------------+----------------+\n",
      "|VendorID|pickup_date|dropoff_date|pickup_time|dropoff_time|passenger_count|trip_distance|tip_amount|total_amount|payment_type|         pickup_zone|    dropoff_zone|\n",
      "+--------+-----------+------------+-----------+------------+---------------+-------------+----------+------------+------------+--------------------+----------------+\n",
      "|       1| 2021-01-01|  2021-01-01|          0|           0|              1|          2.1|       0.0|        11.8|           2| Lincoln Square East|    Central Park|\n",
      "|       1| 2021-01-01|  2021-01-01|          0|           0|              1|          0.2|       0.0|         4.3|           2|Upper West Side N...|Manhattan Valley|\n",
      "|       1| 2021-01-01|  2021-01-01|          0|           1|              1|         14.7|      8.65|       51.95|           1|         JFK Airport|         Midwood|\n",
      "|       1| 2021-01-01|  2021-01-01|          0|           0|              0|         10.6|      6.05|       36.35|           1|   LaGuardia Airport|     JFK Airport|\n",
      "|       2| 2021-01-01|  2021-01-01|          0|           0|              1|         4.94|      4.06|       24.36|           1|        East Chelsea|Brooklyn Heights|\n",
      "+--------+-----------+------------+-----------+------------+---------------+-------------+----------+------------+------------+--------------------+----------------+\n",
      "only showing top 5 rows\n",
      "\n"
     ]
    }
   ],
   "source": [
    "comb_df.show(5)"
   ]
  },
  {
   "cell_type": "code",
   "execution_count": 69,
   "id": "0b098a30-4384-4f19-9b9e-0f9b93d89fa7",
   "metadata": {
    "scrolled": true
   },
   "outputs": [
    {
     "name": "stdout",
     "output_type": "stream",
     "text": [
      "+-----------+-----------+\n",
      "|pickup_date|pickup_time|\n",
      "+-----------+-----------+\n",
      "| 2020-12-31|         23|\n",
      "| 2020-12-31|         21|\n",
      "| 2020-12-31|         23|\n",
      "| 2020-12-31|         18|\n",
      "| 2021-01-01|          1|\n",
      "| 2021-01-01|          1|\n",
      "| 2020-12-31|         23|\n",
      "| 2020-12-31|         13|\n",
      "| 2020-12-31|         23|\n",
      "| 2021-01-01|          1|\n",
      "| 2021-01-01|          1|\n",
      "| 2021-01-01|          1|\n",
      "| 2021-01-01|          1|\n",
      "| 2021-01-01|          1|\n",
      "| 2021-01-01|          1|\n",
      "| 2021-01-01|          1|\n",
      "| 2021-01-01|          1|\n",
      "| 2021-01-01|          1|\n",
      "| 2021-01-01|          1|\n",
      "| 2021-01-01|          1|\n",
      "+-----------+-----------+\n",
      "only showing top 20 rows\n",
      "\n"
     ]
    }
   ],
   "source": [
    "comb_df.createOrReplaceTempView('comb')\n",
    "\n",
    "query = '''\n",
    "select pickup_date, pickup_time \n",
    "from comb \n",
    "where pickup_time>0\n",
    "'''\n",
    "\n",
    "spark.sql(query).show()"
   ]
  },
  {
   "cell_type": "code",
   "execution_count": 70,
   "id": "856d6fcb-99ad-4aff-9f29-2825ddfdfeb9",
   "metadata": {
    "scrolled": true
   },
   "outputs": [
    {
     "name": "stderr",
     "output_type": "stream",
     "text": [
      "[Stage 26:===========================================>              (3 + 1) / 4]\r"
     ]
    },
    {
     "name": "stdout",
     "output_type": "stream",
     "text": [
      "+-----------+-----------+\n",
      "|pickup_date|pickup_time|\n",
      "+-----------+-----------+\n",
      "| 2009-01-01|          0|\n",
      "| 2008-12-31|         23|\n",
      "| 2009-01-01|          0|\n",
      "| 2009-01-01|          0|\n",
      "| 2009-01-01|          0|\n",
      "| 2008-12-31|         23|\n",
      "| 2008-12-31|         23|\n",
      "| 2009-01-01|          0|\n",
      "| 2009-01-01|          0|\n",
      "| 2009-01-01|          0|\n",
      "| 2009-01-01|          0|\n",
      "| 2009-01-01|          1|\n",
      "| 2009-01-01|         17|\n",
      "| 2009-01-01|         17|\n",
      "| 2009-01-01|         18|\n",
      "| 2009-01-01|          1|\n",
      "| 2009-01-01|          1|\n",
      "| 2009-01-01|          2|\n",
      "| 2009-01-01|          2|\n",
      "| 2009-01-01|          0|\n",
      "+-----------+-----------+\n",
      "only showing top 20 rows\n",
      "\n"
     ]
    },
    {
     "name": "stderr",
     "output_type": "stream",
     "text": [
      "                                                                                \r"
     ]
    }
   ],
   "source": [
    "query = '''\n",
    "select pickup_date, pickup_time \n",
    "from comb \n",
    "where pickup_date<'2020-12-31'\n",
    "'''\n",
    "spark.sql(query).show()"
   ]
  },
  {
   "cell_type": "code",
   "execution_count": 71,
   "id": "1cb209c5-24d1-4d94-bcdb-a4ce995837b8",
   "metadata": {},
   "outputs": [
    {
     "name": "stderr",
     "output_type": "stream",
     "text": [
      "                                                                                \r"
     ]
    },
    {
     "data": {
      "text/plain": [
       "DataFrame[summary: string, VendorID: string, pickup_time: string, dropoff_time: string, passenger_count: string, trip_distance: string, tip_amount: string, total_amount: string, payment_type: string, pickup_zone: string, dropoff_zone: string]"
      ]
     },
     "execution_count": 71,
     "metadata": {},
     "output_type": "execute_result"
    }
   ],
   "source": [
    "comb_df.describe()"
   ]
  },
  {
   "cell_type": "code",
   "execution_count": 72,
   "id": "270de08e-263e-4811-8b2c-e873c9c528f1",
   "metadata": {},
   "outputs": [
    {
     "name": "stdout",
     "output_type": "stream",
     "text": [
      "== Physical Plan ==\n",
      "*(10) Project [cast(tpep_pickup_datetime#3685 as date) AS pickup_date#4185, hour(cast(tpep_pickup_datetime#3685 as timestamp), Some(Asia/Seoul)) AS pickup_time#4187]\n",
      "+- *(10) BroadcastHashJoin [DOLocationID#3692], [LocationID#4191], LeftOuter, BuildRight, false\n",
      "   :- *(10) Project [tpep_pickup_datetime#3685, DOLocationID#3692]\n",
      "   :  +- *(10) BroadcastHashJoin [PULocationID#3691], [LocationID#4048], LeftOuter, BuildRight, false\n",
      "   :     :- Union\n",
      "   :     :  :- *(1) Filter (isnotnull(tpep_pickup_datetime#3685) AND (cast(tpep_pickup_datetime#3685 as date) < 18627))\n",
      "   :     :  :  +- FileScan csv [tpep_pickup_datetime#3685,PULocationID#3691,DOLocationID#3692] Batched: false, DataFilters: [isnotnull(tpep_pickup_datetime#3685), (cast(tpep_pickup_datetime#3685 as date) < 18627)], Format: CSV, Location: InMemoryFileIndex[file:/home/lab02/src/data/yellow_tripdata_2021-01.csv], PartitionFilters: [], PushedFilters: [IsNotNull(tpep_pickup_datetime)], ReadSchema: struct<tpep_pickup_datetime:string,PULocationID:int,DOLocationID:int>\n",
      "   :     :  :- *(2) Filter (isnotnull(tpep_pickup_datetime#3737) AND (cast(tpep_pickup_datetime#3737 as date) < 18627))\n",
      "   :     :  :  +- FileScan csv [tpep_pickup_datetime#3737,PULocationID#3743,DOLocationID#3744] Batched: false, DataFilters: [isnotnull(tpep_pickup_datetime#3737), (cast(tpep_pickup_datetime#3737 as date) < 18627)], Format: CSV, Location: InMemoryFileIndex[file:/home/lab02/src/data/yellow_tripdata_2021-02.csv], PartitionFilters: [], PushedFilters: [IsNotNull(tpep_pickup_datetime)], ReadSchema: struct<tpep_pickup_datetime:string,PULocationID:int,DOLocationID:int>\n",
      "   :     :  :- *(3) Filter (isnotnull(tpep_pickup_datetime#3789) AND (cast(tpep_pickup_datetime#3789 as date) < 18627))\n",
      "   :     :  :  +- FileScan csv [tpep_pickup_datetime#3789,PULocationID#3795,DOLocationID#3796] Batched: false, DataFilters: [isnotnull(tpep_pickup_datetime#3789), (cast(tpep_pickup_datetime#3789 as date) < 18627)], Format: CSV, Location: InMemoryFileIndex[file:/home/lab02/src/data/yellow_tripdata_2021-03.csv], PartitionFilters: [], PushedFilters: [IsNotNull(tpep_pickup_datetime)], ReadSchema: struct<tpep_pickup_datetime:string,PULocationID:int,DOLocationID:int>\n",
      "   :     :  :- *(4) Filter (isnotnull(tpep_pickup_datetime#3841) AND (cast(tpep_pickup_datetime#3841 as date) < 18627))\n",
      "   :     :  :  +- FileScan csv [tpep_pickup_datetime#3841,PULocationID#3847,DOLocationID#3848] Batched: false, DataFilters: [isnotnull(tpep_pickup_datetime#3841), (cast(tpep_pickup_datetime#3841 as date) < 18627)], Format: CSV, Location: InMemoryFileIndex[file:/home/lab02/src/data/yellow_tripdata_2021-04.csv], PartitionFilters: [], PushedFilters: [IsNotNull(tpep_pickup_datetime)], ReadSchema: struct<tpep_pickup_datetime:string,PULocationID:int,DOLocationID:int>\n",
      "   :     :  :- *(5) Filter (isnotnull(tpep_pickup_datetime#3893) AND (cast(tpep_pickup_datetime#3893 as date) < 18627))\n",
      "   :     :  :  +- FileScan csv [tpep_pickup_datetime#3893,PULocationID#3899,DOLocationID#3900] Batched: false, DataFilters: [isnotnull(tpep_pickup_datetime#3893), (cast(tpep_pickup_datetime#3893 as date) < 18627)], Format: CSV, Location: InMemoryFileIndex[file:/home/lab02/src/data/yellow_tripdata_2021-05.csv], PartitionFilters: [], PushedFilters: [IsNotNull(tpep_pickup_datetime)], ReadSchema: struct<tpep_pickup_datetime:string,PULocationID:int,DOLocationID:int>\n",
      "   :     :  :- *(6) Filter (isnotnull(tpep_pickup_datetime#3945) AND (cast(tpep_pickup_datetime#3945 as date) < 18627))\n",
      "   :     :  :  +- FileScan csv [tpep_pickup_datetime#3945,PULocationID#3951,DOLocationID#3952] Batched: false, DataFilters: [isnotnull(tpep_pickup_datetime#3945), (cast(tpep_pickup_datetime#3945 as date) < 18627)], Format: CSV, Location: InMemoryFileIndex[file:/home/lab02/src/data/yellow_tripdata_2021-06.csv], PartitionFilters: [], PushedFilters: [IsNotNull(tpep_pickup_datetime)], ReadSchema: struct<tpep_pickup_datetime:string,PULocationID:int,DOLocationID:int>\n",
      "   :     :  +- *(7) Filter (isnotnull(tpep_pickup_datetime#3997) AND (cast(tpep_pickup_datetime#3997 as date) < 18627))\n",
      "   :     :     +- FileScan csv [tpep_pickup_datetime#3997,PULocationID#4003,DOLocationID#4004] Batched: false, DataFilters: [isnotnull(tpep_pickup_datetime#3997), (cast(tpep_pickup_datetime#3997 as date) < 18627)], Format: CSV, Location: InMemoryFileIndex[file:/home/lab02/src/data/yellow_tripdata_2021-07.csv], PartitionFilters: [], PushedFilters: [IsNotNull(tpep_pickup_datetime)], ReadSchema: struct<tpep_pickup_datetime:string,PULocationID:int,DOLocationID:int>\n",
      "   :     +- BroadcastExchange HashedRelationBroadcastMode(List(cast(input[0, int, false] as bigint)),false), [id=#6422]\n",
      "   :        +- *(8) Filter isnotnull(LocationID#4048)\n",
      "   :           +- FileScan csv [LocationID#4048] Batched: false, DataFilters: [isnotnull(LocationID#4048)], Format: CSV, Location: InMemoryFileIndex[file:/home/lab02/src/data/taxi+_zone_lookup.csv], PartitionFilters: [], PushedFilters: [IsNotNull(LocationID)], ReadSchema: struct<LocationID:int>\n",
      "   +- ReusedExchange [LocationID#4191], BroadcastExchange HashedRelationBroadcastMode(List(cast(input[0, int, false] as bigint)),false), [id=#6422]\n",
      "\n",
      "\n"
     ]
    }
   ],
   "source": [
    "spark.sql(query).explain()"
   ]
  },
  {
   "cell_type": "code",
   "execution_count": 73,
   "id": "8545c58d-5ba5-4801-b408-c5d663229c4b",
   "metadata": {
    "scrolled": true
   },
   "outputs": [
    {
     "name": "stderr",
     "output_type": "stream",
     "text": [
      "[Stage 32:===========================================>              (3 + 1) / 4]\r"
     ]
    },
    {
     "name": "stdout",
     "output_type": "stream",
     "text": [
      "+-----------+-----------+\n",
      "|pickup_date|pickup_time|\n",
      "+-----------+-----------+\n",
      "| 2009-01-01|          0|\n",
      "| 2008-12-31|         23|\n",
      "| 2009-01-01|          0|\n",
      "| 2009-01-01|          0|\n",
      "| 2009-01-01|          0|\n",
      "| 2008-12-31|         23|\n",
      "| 2008-12-31|         23|\n",
      "| 2009-01-01|          0|\n",
      "| 2009-01-01|          0|\n",
      "| 2009-01-01|          0|\n",
      "| 2009-01-01|          0|\n",
      "| 2009-01-01|          1|\n",
      "| 2009-01-01|         17|\n",
      "| 2009-01-01|         17|\n",
      "| 2009-01-01|         18|\n",
      "| 2009-01-01|          1|\n",
      "| 2009-01-01|          1|\n",
      "| 2009-01-01|          2|\n",
      "| 2009-01-01|          2|\n",
      "| 2009-01-01|          0|\n",
      "+-----------+-----------+\n",
      "only showing top 20 rows\n",
      "\n"
     ]
    },
    {
     "name": "stderr",
     "output_type": "stream",
     "text": [
      "                                                                                \r"
     ]
    }
   ],
   "source": [
    "query1 = '''\n",
    "select pickup_date, pickup_time\n",
    "from comb\n",
    "where pickup_date < '2020-12-31'\n",
    "'''\n",
    "\n",
    "spark.sql(query1).show()\n"
   ]
  },
  {
   "cell_type": "code",
   "execution_count": 74,
   "id": "5f7453a2-2c8c-431a-8bdc-06f0a3476336",
   "metadata": {
    "scrolled": true
   },
   "outputs": [
    {
     "name": "stdout",
     "output_type": "stream",
     "text": [
      "+-----------+-----------+\n",
      "|pickup_date|pickup_time|\n",
      "+-----------+-----------+\n",
      "| 2021-01-01|          1|\n",
      "| 2021-01-01|          1|\n",
      "| 2021-01-01|          1|\n",
      "| 2021-01-01|          1|\n",
      "| 2021-01-01|          1|\n",
      "| 2021-01-01|          1|\n",
      "| 2021-01-01|          1|\n",
      "| 2021-01-01|          1|\n",
      "| 2021-01-01|          1|\n",
      "| 2021-01-01|          1|\n",
      "| 2021-01-01|          1|\n",
      "| 2021-01-01|          1|\n",
      "| 2021-01-01|          1|\n",
      "| 2021-01-01|          1|\n",
      "| 2021-01-01|          1|\n",
      "| 2021-01-01|          1|\n",
      "| 2021-01-01|          1|\n",
      "| 2021-01-01|          1|\n",
      "| 2021-01-01|          1|\n",
      "| 2021-01-01|          1|\n",
      "+-----------+-----------+\n",
      "only showing top 20 rows\n",
      "\n"
     ]
    }
   ],
   "source": [
    "# 실행 계획, 실행 결과(4040에서 확인해보기)\n",
    "query2 = '''\n",
    "select pickup_date, pickup_time\n",
    "from comb\n",
    "where pickup_time > 0 and pickup_time<=12\n",
    "'''\n",
    "\n",
    "spark.sql(query2).show()"
   ]
  },
  {
   "cell_type": "markdown",
   "id": "b8bbb86b-8ca7-4ce7-a516-26bbae2296e2",
   "metadata": {},
   "source": [
    "## 택시2 분석 실습 진행해보기~"
   ]
  },
  {
   "cell_type": "code",
   "execution_count": 75,
   "id": "71c07604-0410-48df-ab35-c252c16c83b6",
   "metadata": {
    "scrolled": true
   },
   "outputs": [
    {
     "name": "stderr",
     "output_type": "stream",
     "text": [
      "[Stage 36:================================================>       (12 + 2) / 14]\r"
     ]
    },
    {
     "name": "stdout",
     "output_type": "stream",
     "text": [
      "+-----------+------------------+----------+\n",
      "|pickup_time|        avg_amount|trip_count|\n",
      "+-----------+------------------+----------+\n",
      "|          4|25.543330323717534|     45410|\n",
      "|          3|21.065730892986537|     57806|\n",
      "|          5|26.551492208156343|     82073|\n",
      "|          2|20.362730667159187|     97218|\n",
      "|          1|20.843909639453233|    160424|\n",
      "|          6|21.328937308104788|    241020|\n",
      "|          0|21.428823335880075|    273553|\n",
      "|         23|20.859908445115355|    426957|\n",
      "|          7|18.839960267735844|    438938|\n",
      "|         22|19.938419441650122|    548863|\n",
      "|         21| 19.24483158380136|    618735|\n",
      "|          8|17.790024067466106|    641530|\n",
      "|         20|18.544490854687115|    703748|\n",
      "|          9|17.586356997781923|    712912|\n",
      "|         10|  17.5357671015545|    794621|\n",
      "|         11|17.466696368373324|    877952|\n",
      "|         19|18.364497251168434|    915477|\n",
      "|         12|17.963276970127026|    970018|\n",
      "|         13|18.145573077784512|   1001522|\n",
      "|         16| 19.70853841599251|   1043498|\n",
      "+-----------+------------------+----------+\n",
      "only showing top 20 rows\n",
      "\n"
     ]
    },
    {
     "name": "stderr",
     "output_type": "stream",
     "text": [
      "                                                                                \r"
     ]
    }
   ],
   "source": [
    "# 피크 시간대의 요금 분석\n",
    "query3 = '''\n",
    "SELECT \n",
    "    pickup_time, \n",
    "    AVG(total_amount) AS avg_amount, \n",
    "    COUNT(*) AS trip_count \n",
    "FROM comb\n",
    "GROUP BY pickup_time\n",
    "ORDER BY trip_count;\n",
    "'''\n",
    "\n",
    "spark.sql(query3).show()"
   ]
  },
  {
   "cell_type": "markdown",
   "id": "1f7e5570-9ed6-414d-aa38-c1e6f0a1ac87",
   "metadata": {},
   "source": [
    "## 피크 시간대 요금 분석 결과\n",
    "\n",
    "- **새벽 시간대(0~5시)**: 건수는 적지만 평균 요금은 높음(야간 할증 및 긴 거리 이동 영향일 듯).  \n",
    "- **낮 시간대(10~16시)**: 건수가 가장 많으며 평균 요금은 안정적.  피크타입\n",
    "- **저녁 시간대(17~23시)**: 단거리 이동 증가로 평균 요금이 낮음.  \n",
    "- **인사이트**: 새벽 시간대 프로모션, 낮 시간대 차량 배치 최적화, 저녁 단거리 서비스 강화 필요.  "
   ]
  },
  {
   "cell_type": "code",
   "execution_count": 76,
   "id": "a4c15f85-92af-440b-8522-839bdead7283",
   "metadata": {
    "scrolled": true
   },
   "outputs": [
    {
     "name": "stderr",
     "output_type": "stream",
     "text": [
      "                                                                                \r"
     ]
    },
    {
     "name": "stdout",
     "output_type": "stream",
     "text": [
      "+------------+----------+-------+\n",
      "|payment_type|avg_amount|avg_tip|\n",
      "+------------+----------+-------+\n",
      "|        null|     31.85|    1.6|\n",
      "|           1|     18.89|   2.88|\n",
      "|           3|     18.07|  -0.01|\n",
      "|           5|      17.8|    0.0|\n",
      "|           4|     -2.77|   0.01|\n",
      "|           2|     15.42|    0.0|\n",
      "+------------+----------+-------+\n",
      "\n"
     ]
    }
   ],
   "source": [
    "# 지불 유형별 요금, 팁 분석\n",
    "query4 = '''\n",
    "SELECT \n",
    "    payment_type,\n",
    "    ROUND(AVG(total_amount), 2) AS avg_amount,\n",
    "    ROUND(AVG(tip_amount), 2) AS avg_tip\n",
    "FROM comb\n",
    "GROUP BY payment_type;\n",
    "'''\n",
    "\n",
    "spark.sql(query4).show()"
   ]
  },
  {
   "cell_type": "markdown",
   "id": "e7c25303-67d3-408e-9ed8-69747b4e102f",
   "metadata": {},
   "source": [
    "## 지불 유형별 요금 및 팁 분석\n",
    "\n",
    "- **결제 유형 1**: 평균 요금 18.09, 팁 0.31로 가장 일반적.  \n",
    "- **결제 유형 2**: 평균 요금 15.42, 팁 3.44로 팁이 가장 높음.  \n",
    "- **결제 유형 3**: 평균 요금 17.81, 팁 없음.  \n",
    "- **결제 유형 4**: 평균 요금과 팁 모두 매우 낮음.  \n",
    "- **인사이트**: 결제 유형 2는 고급 서비스 이용 가능성이 높아보임. "
   ]
  },
  {
   "cell_type": "code",
   "execution_count": 77,
   "id": "4cf54f57-4529-450f-b0e8-1e8ab4b0d8f8",
   "metadata": {
    "scrolled": true
   },
   "outputs": [
    {
     "name": "stderr",
     "output_type": "stream",
     "text": [
      "[Stage 51:=============================================>        (170 + 2) / 200]\r"
     ]
    },
    {
     "name": "stdout",
     "output_type": "stream",
     "text": [
      "+--------------------+--------------------+------------+----------+\n",
      "|         pickup_zone|        dropoff_zone|avg_distance|avg_amount|\n",
      "+--------------------+--------------------+------------+----------+\n",
      "|     Jamaica Estates|      Pelham Parkway|   205266.12|     47.63|\n",
      "|    Inwood Hill Park|        Saint Albans|   167305.08|      76.0|\n",
      "|     Oakland Gardens|Flatbush/Ditmas Park|   131123.07|     61.18|\n",
      "|            Longwood|              Inwood|    77093.46|     19.04|\n",
      "|   East Williamsburg|Riverdale/North R...|    70968.43|     53.22|\n",
      "|              Inwood|         Parkchester|    65796.09|     32.07|\n",
      "|        Borough Park|              Corona|    63336.38|     50.62|\n",
      "|       South Jamaica|         City Island|    56564.13|     51.08|\n",
      "| Kingsbridge Heights|Queensbridge/Rave...|    54215.12|     33.27|\n",
      "|     Jamaica Estates|East Concourse/Co...|    52683.26|     49.26|\n",
      "|          Co-Op City|        Clinton Hill|    49552.27|     70.03|\n",
      "|      Brighton Beach|      Bushwick South|    45886.49|     51.65|\n",
      "|    Hamilton Heights|           Laurelton|    41189.97|     59.79|\n",
      "|         Hunts Point|      Yorkville West|    32914.58|     26.33|\n",
      "|           Gravesend| Lincoln Square East|    31690.14|     53.61|\n",
      "|East New York/Pen...|              Inwood|    31568.96|     71.59|\n",
      "|             Midwood|Greenwich Village...|     29940.4|      40.8|\n",
      "|       Starrett City|    Hamilton Heights|    29903.08|     53.49|\n",
      "|Soundview/Castle ...|           Hudson Sq|    29279.05|     51.76|\n",
      "|             Norwood|Queensbridge/Rave...|    28037.88|     40.13|\n",
      "+--------------------+--------------------+------------+----------+\n",
      "only showing top 20 rows\n",
      "\n"
     ]
    },
    {
     "name": "stderr",
     "output_type": "stream",
     "text": [
      "                                                                                \r"
     ]
    }
   ],
   "source": [
    "#승차지역/하차지역별 평균 거리, 요금\n",
    "query5 = '''\n",
    "SELECT \n",
    "    pickup_zone,\n",
    "    dropoff_zone,\n",
    "    ROUND(AVG(trip_distance), 2) AS avg_distance,\n",
    "    ROUND(AVG(total_amount), 2) AS avg_amount\n",
    "FROM comb\n",
    "GROUP BY pickup_zone, dropoff_zone\n",
    "ORDER BY avg_distance DESC;\n",
    "'''\n",
    "\n",
    "spark.sql(query5).show()"
   ]
  },
  {
   "cell_type": "markdown",
   "id": "31455c19-a8ae-4f9c-9de6-472e8738771e",
   "metadata": {},
   "source": [
    "### 승차지역/하차지역별 평균 거리 및 요금 분석\n",
    "\n",
    "- **최장 거리 구간**: `Jamaica Estates` → `Pelham Parkway`는 가장 먼 이동 거리이며, 요금은 평균 47.63달러.\n",
    "- **높은 요금 구간**: `Inwood Hill Park` → `Saint Albans`에서 평균 76달러로 요금이 가장 높음. 왜 여기만 비싼걸지..\n",
    "- **일반적인 이동**: 대부분 구간의 평균 이동 거리는 50-80km이며 요금은 30-50달러 사이.\n",
    "- **인사이트**:\n",
    "  - **장거리 구간**: 장거리 이동에서 정액 요금제 또는 고급 서비스 제공 필요.\n",
    "  - **짧은 거리 구간**: 단거리 이동에 맞는 저가 요금 체계와 빠른 차량 배치 중요.\n"
   ]
  },
  {
   "cell_type": "code",
   "execution_count": 78,
   "id": "095aeb27-eac0-459b-a371-fe87163a37a2",
   "metadata": {
    "scrolled": true
   },
   "outputs": [
    {
     "name": "stderr",
     "output_type": "stream",
     "text": [
      "[Stage 53:================================================>       (12 + 2) / 14]\r"
     ]
    },
    {
     "name": "stdout",
     "output_type": "stream",
     "text": [
      "+---------+------------+----------+\n",
      "|tip_ratio|avg_distance|trip_count|\n",
      "+---------+------------+----------+\n",
      "|      1.0|        2.64|        56|\n",
      "|     0.99|         1.5|        47|\n",
      "|     0.98|        2.64|        64|\n",
      "|     0.97|        3.49|        32|\n",
      "|     0.96|        0.93|        53|\n",
      "|     0.95|        1.48|        55|\n",
      "|     0.94|        0.98|        54|\n",
      "|     0.93|        0.84|        79|\n",
      "|     0.92|        2.09|        81|\n",
      "|     0.91|        1.01|        83|\n",
      "|      0.9|        0.93|        67|\n",
      "|     0.89|        0.92|       104|\n",
      "|     0.88|        2.27|        75|\n",
      "|     0.87|        0.94|       141|\n",
      "|     0.86|        0.81|       100|\n",
      "|     0.85|        1.09|        95|\n",
      "|     0.84|        1.07|       133|\n",
      "|     0.83|        1.64|        87|\n",
      "|     0.82|        0.86|       160|\n",
      "|     0.81|        1.03|       153|\n",
      "+---------+------------+----------+\n",
      "only showing top 20 rows\n",
      "\n"
     ]
    },
    {
     "name": "stderr",
     "output_type": "stream",
     "text": [
      "                                                                                \r"
     ]
    }
   ],
   "source": [
    "# 팀의 비율에 따른 거리, 여행 건수 서비스 관련 분석\n",
    "query6 = '''\n",
    "SELECT \n",
    "    ROUND(tip_amount / total_amount, 2) AS tip_ratio,\n",
    "    ROUND(AVG(trip_distance),2) AS avg_distance,\n",
    "    COUNT(*) AS trip_count\n",
    "FROM comb\n",
    "WHERE total_amount > 0 AND tip_amount >= 0\n",
    "GROUP BY ROUND(tip_amount / total_amount, 2)\n",
    "ORDER BY tip_ratio DESC;\n",
    "'''\n",
    "\n",
    "spark.sql(query6).show()"
   ]
  },
  {
   "cell_type": "markdown",
   "id": "702885f5-5d4a-4c8a-ac41-3a8654630afe",
   "metadata": {},
   "source": [
    "## 팁 비율에 따른 거리, 여행 건수 분석\n",
    "\n",
    "- **팁 비율 1.0 (100%)**: 매우 높은 팁 비율, 단거리 여행에 집중.\n",
    "  \n",
    "- **팁 비율 0.9~1.0 구간**: 고급 서비스 또는 특별한 이동 사례로 추정.\n",
    "  \n",
    "- **평균 팁 비율(0.15~0.3)**: 일반적인 서비스에서의 팁 비율 구간.\n",
    "  \n",
    "- **팁 비율 0.0~0.05**: 여행 건수 가장 많음(150건 이상). 팁이 거의 없는 이동. 일반 서비스 이용 가능성 높음.\n",
    "\n",
    "- **인사이트**:\n",
    "  - 높은 팁 비율: 고급 서비스 및 단거리 이동 강화 가능.\n",
    "  - 낮은 팁 비율: 저가 서비스 분석 및 개선 필요.\n"
   ]
  },
  {
   "cell_type": "code",
   "execution_count": 79,
   "id": "8f71bd22-71b6-4988-9058-99a411ca5866",
   "metadata": {
    "scrolled": true
   },
   "outputs": [
    {
     "name": "stdout",
     "output_type": "stream",
     "text": [
      "== Physical Plan ==\n",
      "*(12) Sort [distance_range#5359 ASC NULLS FIRST], true, 0\n",
      "+- Exchange rangepartitioning(distance_range#5359 ASC NULLS FIRST, 200), ENSURE_REQUIREMENTS, [id=#7573]\n",
      "   +- *(11) HashAggregate(keys=[CASE WHEN ((trip_distance#3688 >= 0.0) AND (trip_distance#3688 <= 10.0)) THEN 0-10 km WHEN ((trip_distance#3688 >= 10.0) AND (trip_distance#3688 <= 20.0)) THEN 10-20 km WHEN ((trip_distance#3688 >= 20.0) AND (trip_distance#3688 <= 30.0)) THEN 20-30 km WHEN ((trip_distance#3688 >= 30.0) AND (trip_distance#3688 <= 40.0)) THEN 30-40 km ELSE 40+ km END#5368], functions=[avg(total_amount#3700), count(1)])\n",
      "      +- Exchange hashpartitioning(CASE WHEN ((trip_distance#3688 >= 0.0) AND (trip_distance#3688 <= 10.0)) THEN 0-10 km WHEN ((trip_distance#3688 >= 10.0) AND (trip_distance#3688 <= 20.0)) THEN 10-20 km WHEN ((trip_distance#3688 >= 20.0) AND (trip_distance#3688 <= 30.0)) THEN 20-30 km WHEN ((trip_distance#3688 >= 30.0) AND (trip_distance#3688 <= 40.0)) THEN 30-40 km ELSE 40+ km END#5368, 200), ENSURE_REQUIREMENTS, [id=#7569]\n",
      "         +- *(10) HashAggregate(keys=[CASE WHEN ((trip_distance#3688 >= 0.0) AND (trip_distance#3688 <= 10.0)) THEN 0-10 km WHEN ((trip_distance#3688 >= 10.0) AND (trip_distance#3688 <= 20.0)) THEN 10-20 km WHEN ((trip_distance#3688 >= 20.0) AND (trip_distance#3688 <= 30.0)) THEN 20-30 km WHEN ((trip_distance#3688 >= 30.0) AND (trip_distance#3688 <= 40.0)) THEN 30-40 km ELSE 40+ km END AS CASE WHEN ((trip_distance#3688 >= 0.0) AND (trip_distance#3688 <= 10.0)) THEN 0-10 km WHEN ((trip_distance#3688 >= 10.0) AND (trip_distance#3688 <= 20.0)) THEN 10-20 km WHEN ((trip_distance#3688 >= 20.0) AND (trip_distance#3688 <= 30.0)) THEN 20-30 km WHEN ((trip_distance#3688 >= 30.0) AND (trip_distance#3688 <= 40.0)) THEN 30-40 km ELSE 40+ km END#5368], functions=[partial_avg(total_amount#3700), partial_count(1)])\n",
      "            +- *(10) Project [trip_distance#3688, total_amount#3700]\n",
      "               +- *(10) BroadcastHashJoin [DOLocationID#3692], [LocationID#4191], LeftOuter, BuildRight, false\n",
      "                  :- *(10) Project [trip_distance#3688, DOLocationID#3692, total_amount#3700]\n",
      "                  :  +- *(10) BroadcastHashJoin [PULocationID#3691], [LocationID#4048], LeftOuter, BuildRight, false\n",
      "                  :     :- Union\n",
      "                  :     :  :- *(1) Filter (((isnotnull(trip_distance#3688) AND isnotnull(total_amount#3700)) AND (trip_distance#3688 > 0.0)) AND (total_amount#3700 > 0.0))\n",
      "                  :     :  :  +- FileScan csv [trip_distance#3688,PULocationID#3691,DOLocationID#3692,total_amount#3700] Batched: false, DataFilters: [isnotnull(trip_distance#3688), isnotnull(total_amount#3700), (trip_distance#3688 > 0.0), (total_..., Format: CSV, Location: InMemoryFileIndex[file:/home/lab02/src/data/yellow_tripdata_2021-01.csv], PartitionFilters: [], PushedFilters: [IsNotNull(trip_distance), IsNotNull(total_amount), GreaterThan(trip_distance,0.0), GreaterThan(t..., ReadSchema: struct<trip_distance:double,PULocationID:int,DOLocationID:int,total_amount:double>\n",
      "                  :     :  :- *(2) Filter (((isnotnull(trip_distance#3740) AND isnotnull(total_amount#3752)) AND (trip_distance#3740 > 0.0)) AND (total_amount#3752 > 0.0))\n",
      "                  :     :  :  +- FileScan csv [trip_distance#3740,PULocationID#3743,DOLocationID#3744,total_amount#3752] Batched: false, DataFilters: [isnotnull(trip_distance#3740), isnotnull(total_amount#3752), (trip_distance#3740 > 0.0), (total_..., Format: CSV, Location: InMemoryFileIndex[file:/home/lab02/src/data/yellow_tripdata_2021-02.csv], PartitionFilters: [], PushedFilters: [IsNotNull(trip_distance), IsNotNull(total_amount), GreaterThan(trip_distance,0.0), GreaterThan(t..., ReadSchema: struct<trip_distance:double,PULocationID:int,DOLocationID:int,total_amount:double>\n",
      "                  :     :  :- *(3) Filter (((isnotnull(trip_distance#3792) AND isnotnull(total_amount#3804)) AND (trip_distance#3792 > 0.0)) AND (total_amount#3804 > 0.0))\n",
      "                  :     :  :  +- FileScan csv [trip_distance#3792,PULocationID#3795,DOLocationID#3796,total_amount#3804] Batched: false, DataFilters: [isnotnull(trip_distance#3792), isnotnull(total_amount#3804), (trip_distance#3792 > 0.0), (total_..., Format: CSV, Location: InMemoryFileIndex[file:/home/lab02/src/data/yellow_tripdata_2021-03.csv], PartitionFilters: [], PushedFilters: [IsNotNull(trip_distance), IsNotNull(total_amount), GreaterThan(trip_distance,0.0), GreaterThan(t..., ReadSchema: struct<trip_distance:double,PULocationID:int,DOLocationID:int,total_amount:double>\n",
      "                  :     :  :- *(4) Filter (((isnotnull(trip_distance#3844) AND isnotnull(total_amount#3856)) AND (trip_distance#3844 > 0.0)) AND (total_amount#3856 > 0.0))\n",
      "                  :     :  :  +- FileScan csv [trip_distance#3844,PULocationID#3847,DOLocationID#3848,total_amount#3856] Batched: false, DataFilters: [isnotnull(trip_distance#3844), isnotnull(total_amount#3856), (trip_distance#3844 > 0.0), (total_..., Format: CSV, Location: InMemoryFileIndex[file:/home/lab02/src/data/yellow_tripdata_2021-04.csv], PartitionFilters: [], PushedFilters: [IsNotNull(trip_distance), IsNotNull(total_amount), GreaterThan(trip_distance,0.0), GreaterThan(t..., ReadSchema: struct<trip_distance:double,PULocationID:int,DOLocationID:int,total_amount:double>\n",
      "                  :     :  :- *(5) Filter (((isnotnull(trip_distance#3896) AND isnotnull(total_amount#3908)) AND (trip_distance#3896 > 0.0)) AND (total_amount#3908 > 0.0))\n",
      "                  :     :  :  +- FileScan csv [trip_distance#3896,PULocationID#3899,DOLocationID#3900,total_amount#3908] Batched: false, DataFilters: [isnotnull(trip_distance#3896), isnotnull(total_amount#3908), (trip_distance#3896 > 0.0), (total_..., Format: CSV, Location: InMemoryFileIndex[file:/home/lab02/src/data/yellow_tripdata_2021-05.csv], PartitionFilters: [], PushedFilters: [IsNotNull(trip_distance), IsNotNull(total_amount), GreaterThan(trip_distance,0.0), GreaterThan(t..., ReadSchema: struct<trip_distance:double,PULocationID:int,DOLocationID:int,total_amount:double>\n",
      "                  :     :  :- *(6) Filter (((isnotnull(trip_distance#3948) AND isnotnull(total_amount#3960)) AND (trip_distance#3948 > 0.0)) AND (total_amount#3960 > 0.0))\n",
      "                  :     :  :  +- FileScan csv [trip_distance#3948,PULocationID#3951,DOLocationID#3952,total_amount#3960] Batched: false, DataFilters: [isnotnull(trip_distance#3948), isnotnull(total_amount#3960), (trip_distance#3948 > 0.0), (total_..., Format: CSV, Location: InMemoryFileIndex[file:/home/lab02/src/data/yellow_tripdata_2021-06.csv], PartitionFilters: [], PushedFilters: [IsNotNull(trip_distance), IsNotNull(total_amount), GreaterThan(trip_distance,0.0), GreaterThan(t..., ReadSchema: struct<trip_distance:double,PULocationID:int,DOLocationID:int,total_amount:double>\n",
      "                  :     :  +- *(7) Filter (((isnotnull(trip_distance#4000) AND isnotnull(total_amount#4012)) AND (trip_distance#4000 > 0.0)) AND (total_amount#4012 > 0.0))\n",
      "                  :     :     +- FileScan csv [trip_distance#4000,PULocationID#4003,DOLocationID#4004,total_amount#4012] Batched: false, DataFilters: [isnotnull(trip_distance#4000), isnotnull(total_amount#4012), (trip_distance#4000 > 0.0), (total_..., Format: CSV, Location: InMemoryFileIndex[file:/home/lab02/src/data/yellow_tripdata_2021-07.csv], PartitionFilters: [], PushedFilters: [IsNotNull(trip_distance), IsNotNull(total_amount), GreaterThan(trip_distance,0.0), GreaterThan(t..., ReadSchema: struct<trip_distance:double,PULocationID:int,DOLocationID:int,total_amount:double>\n",
      "                  :     +- BroadcastExchange HashedRelationBroadcastMode(List(cast(input[0, int, false] as bigint)),false), [id=#7530]\n",
      "                  :        +- *(8) Filter isnotnull(LocationID#4048)\n",
      "                  :           +- FileScan csv [LocationID#4048] Batched: false, DataFilters: [isnotnull(LocationID#4048)], Format: CSV, Location: InMemoryFileIndex[file:/home/lab02/src/data/taxi+_zone_lookup.csv], PartitionFilters: [], PushedFilters: [IsNotNull(LocationID)], ReadSchema: struct<LocationID:int>\n",
      "                  +- ReusedExchange [LocationID#4191], BroadcastExchange HashedRelationBroadcastMode(List(cast(input[0, int, false] as bigint)),false), [id=#7530]\n",
      "\n",
      "\n"
     ]
    },
    {
     "name": "stderr",
     "output_type": "stream",
     "text": [
      "[Stage 56:================================================>       (12 + 2) / 14]\r"
     ]
    },
    {
     "name": "stdout",
     "output_type": "stream",
     "text": [
      "+--------------+----------+----------+\n",
      "|distance_range|avg_amount|trip_count|\n",
      "+--------------+----------+----------+\n",
      "|       0-10 km|     16.27|  13873863|\n",
      "|      10-20 km|     56.14|    748238|\n",
      "|      20-30 km|     74.37|    104107|\n",
      "|      30-40 km|    118.34|      7430|\n",
      "|        40+ km|    120.75|      5779|\n",
      "+--------------+----------+----------+\n",
      "\n"
     ]
    },
    {
     "name": "stderr",
     "output_type": "stream",
     "text": [
      "                                                                                \r"
     ]
    }
   ],
   "source": [
    "# 운행 거리와 요금의 상관관계 > 쿼리, 데이터프레임으로 구현\n",
    "query7 = '''\n",
    "SELECT \n",
    "    CASE \n",
    "        WHEN trip_distance BETWEEN 0 AND 10 THEN '0-10 km'\n",
    "        WHEN trip_distance BETWEEN 10 AND 20 THEN '10-20 km'\n",
    "        WHEN trip_distance BETWEEN 20 AND 30 THEN '20-30 km'\n",
    "        WHEN trip_distance BETWEEN 30 AND 40 THEN '30-40 km'\n",
    "        ELSE '40+ km'\n",
    "    END AS distance_range,\n",
    "    ROUND(AVG(total_amount), 2) AS avg_amount,\n",
    "    COUNT(*) AS trip_count\n",
    "FROM comb\n",
    "WHERE trip_distance > 0 AND total_amount > 0\n",
    "GROUP BY distance_range\n",
    "ORDER BY distance_range;\n",
    "'''\n",
    "spark.sql(query7).explain()\n",
    "spark.sql(query7).show()"
   ]
  },
  {
   "cell_type": "markdown",
   "id": "9983c5f1-3a0e-4104-ac3f-04e7e1b5204c",
   "metadata": {},
   "source": [
    "### 운행 거리 구간별 평균 요금 및 여행 건수 분석\n",
    "\n",
    "- **0-10 km**: 평균 요금 16.27달러로 가장 적음, 건수 13,873,863건으로 압도적 수요.\n",
    "- **10-20 km**: 평균 요금 56.14달러, 건수 748,238건으로 중간 거리 수요. 0-10km에 비해 가격이 크게 상승  \n",
    "- **30+ km**: 평균 요금 118.34~120.75달러, 건수 7,430건 이하로 수요가 매우 적은 편, 장거리 이동에 특화된 서비스 출시 추천"
   ]
  },
  {
   "cell_type": "code",
   "execution_count": null,
   "id": "8ff8e1a1-2012-4b8f-bad8-f15180a8ab89",
   "metadata": {},
   "outputs": [],
   "source": []
  },
  {
   "cell_type": "code",
   "execution_count": null,
   "id": "e224802d-7d6e-49f9-9077-47f9fa97b4f0",
   "metadata": {},
   "outputs": [],
   "source": []
  },
  {
   "cell_type": "code",
   "execution_count": null,
   "id": "a9b9a538-73ce-4eb0-b178-2648e9353e69",
   "metadata": {},
   "outputs": [],
   "source": []
  },
  {
   "cell_type": "code",
   "execution_count": 80,
   "id": "ab3b6a80-8765-471a-b0e3-1bbe23b21bd7",
   "metadata": {},
   "outputs": [],
   "source": [
    "spark.stop()"
   ]
  }
 ],
 "metadata": {
  "kernelspec": {
   "display_name": "Python (spark_start)",
   "language": "python",
   "name": "spark_start"
  },
  "language_info": {
   "codemirror_mode": {
    "name": "ipython",
    "version": 3
   },
   "file_extension": ".py",
   "mimetype": "text/x-python",
   "name": "python",
   "nbconvert_exporter": "python",
   "pygments_lexer": "ipython3",
   "version": "3.8.2"
  }
 },
 "nbformat": 4,
 "nbformat_minor": 5
}
