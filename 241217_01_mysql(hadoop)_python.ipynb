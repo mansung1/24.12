{
 "cells": [
  {
   "cell_type": "code",
   "execution_count": 11,
   "id": "e8e52390-b53a-471a-8128-91fdf16415f6",
   "metadata": {},
   "outputs": [],
   "source": [
    "host_ip = \"15.152.242.221\"\n",
    "user_id = \"spark_user\"\n",
    "user_password = \"1234\""
   ]
  },
  {
   "cell_type": "code",
   "execution_count": 6,
   "id": "c03fedc9-95c6-4dfb-b97b-296def2464c5",
   "metadata": {},
   "outputs": [],
   "source": [
    "import os\n",
    "os.environ[\"PYSPARK_SUBMIT_ARGS\"] = \"--jars /usr/local/lib/mysql-connector-java-5.1.49-bin.jar pyspark-shell\""
   ]
  },
  {
   "cell_type": "code",
   "execution_count": 9,
   "id": "e0fafa6f-62f3-4dce-bf08-116cd77cb211",
   "metadata": {},
   "outputs": [],
   "source": [
    "from pyspark.sql import SparkSession\n",
    "spark = SparkSession.builder.appName(\"mysqlconnect\").getOrCreate()"
   ]
  },
  {
   "cell_type": "code",
   "execution_count": 10,
   "id": "8f60bbd1-4f9b-434f-9bbf-381e397cccbe",
   "metadata": {},
   "outputs": [],
   "source": [
    "spark.stop()"
   ]
  },
  {
   "cell_type": "code",
   "execution_count": 8,
   "id": "e45cc015-d4ca-4879-aa09-aacfc2c37937",
   "metadata": {},
   "outputs": [
    {
     "name": "stderr",
     "output_type": "stream",
     "text": [
      "Thu Dec 19 10:43:47 KST 2024 WARN: Establishing SSL connection without server's identity verification is not recommended. According to MySQL 5.5.45+, 5.6.26+ and 5.7.6+ requirements SSL connection must be established by default if explicit option isn't set. For compliance with existing applications not using SSL the verifyServerCertificate property is set to 'false'. You need either to explicitly disable SSL by setting useSSL=false, or set useSSL=true and provide truststore for server certificate verification.\n",
      "Thu Dec 19 10:43:51 KST 2024 WARN: Establishing SSL connection without server's identity verification is not recommended. According to MySQL 5.5.45+, 5.6.26+ and 5.7.6+ requirements SSL connection must be established by default if explicit option isn't set. For compliance with existing applications not using SSL the verifyServerCertificate property is set to 'false'. You need either to explicitly disable SSL by setting useSSL=false, or set useSSL=true and provide truststore for server certificate verification.\n"
     ]
    },
    {
     "name": "stdout",
     "output_type": "stream",
     "text": [
      "+------+----------+--------+\n",
      "|DEPTNO|     DNAME|     LOC|\n",
      "+------+----------+--------+\n",
      "|    10|ACCOUNTING|NEW YORK|\n",
      "|    20|  RESEARCH|  DALLAS|\n",
      "|    30|     SALES| CHICAGO|\n",
      "|    40|OPERATIONS|  BOSTON|\n",
      "+------+----------+--------+\n",
      "\n"
     ]
    },
    {
     "name": "stderr",
     "output_type": "stream",
     "text": [
      "                                                                                \r"
     ]
    }
   ],
   "source": [
    "# 연결해서 해보기\n",
    "mysql_url = f\"jdbc:mysql://{host_ip}:3306/my_db\"\n",
    "dept_df = spark.read.format(\"jdbc\").options(\n",
    "    url = mysql_url,\n",
    "    driver = \"com.mysql.jdbc.Driver\",\n",
    "    dbtable=\"DEPT\",\n",
    "    user=user_id,\n",
    "    password=user_password\n",
    ").load()\n",
    "\n",
    "dept_df.show()"
   ]
  },
  {
   "cell_type": "code",
   "execution_count": 18,
   "id": "af640df6-ffa6-4b2b-96fd-845bf51ce9bc",
   "metadata": {},
   "outputs": [
    {
     "name": "stderr",
     "output_type": "stream",
     "text": [
      "Tue Dec 17 13:36:35 KST 2024 WARN: Establishing SSL connection without server's identity verification is not recommended. According to MySQL 5.5.45+, 5.6.26+ and 5.7.6+ requirements SSL connection must be established by default if explicit option isn't set. For compliance with existing applications not using SSL the verifyServerCertificate property is set to 'false'. You need either to explicitly disable SSL by setting useSSL=false, or set useSSL=true and provide truststore for server certificate verification.\n"
     ]
    },
    {
     "name": "stdout",
     "output_type": "stream",
     "text": [
      "+-----+------+---------+----+----------+-------+-------+------+\n",
      "|EMPNO| ENAME|      JOB| MGR|  HIREDATE|    SAL|   COMM|DEPTNO|\n",
      "+-----+------+---------+----+----------+-------+-------+------+\n",
      "| 7521|  WARD| SALESMAN|7698|1981-02-22|1250.00| 500.00|    30|\n",
      "| 7566| JONES|  MANAGER|7839|1981-04-02|2975.00|   null|    20|\n",
      "| 7654|MARTIN| SALESMAN|7698|1981-09-28|1250.00|1400.00|    30|\n",
      "| 7698| BLAKE|  MANAGER|7839|1981-05-01|2850.00|   null|    30|\n",
      "| 7782| CLARK|  MANAGER|7839|1981-06-09|2450.00|   null|    10|\n",
      "| 7788| SCOTT|  ANALYST|7566|1982-12-09|3000.00|   null|    20|\n",
      "| 7839|  KING|PRESIDENT|null|1981-11-17|5000.00|   null|    10|\n",
      "| 7844|TURNER| SALESMAN|7698|1981-09-08|1500.00|   null|    30|\n",
      "| 7876| ADAMS|    CLERK|7788|1983-01-12|1100.00|   null|    20|\n",
      "| 7900| JAMES|    CLERK|7698|1981-12-03| 950.00|   null|    30|\n",
      "| 7902|  FORD|  ANALYST|7566|1981-12-03|3000.00|   null|    20|\n",
      "+-----+------+---------+----+----------+-------+-------+------+\n",
      "\n"
     ]
    },
    {
     "name": "stderr",
     "output_type": "stream",
     "text": [
      "Tue Dec 17 13:36:35 KST 2024 WARN: Establishing SSL connection without server's identity verification is not recommended. According to MySQL 5.5.45+, 5.6.26+ and 5.7.6+ requirements SSL connection must be established by default if explicit option isn't set. For compliance with existing applications not using SSL the verifyServerCertificate property is set to 'false'. You need either to explicitly disable SSL by setting useSSL=false, or set useSSL=true and provide truststore for server certificate verification.\n"
     ]
    }
   ],
   "source": [
    "# 연결해서 해보기\n",
    "mysql_url = f\"jdbc:mysql://{host_ip}:3306/my_db\"\n",
    "EMP_df = spark.read.format(\"jdbc\").options(\n",
    "    url = mysql_url,\n",
    "    driver = \"com.mysql.jdbc.Driver\",\n",
    "    dbtable=\"EMP\",\n",
    "    user=user_id,\n",
    "    password=user_password\n",
    ").load()\n",
    "\n",
    "EMP_df.show()"
   ]
  },
  {
   "cell_type": "code",
   "execution_count": 20,
   "id": "73896e58-d26c-4427-8909-7bec246667e7",
   "metadata": {},
   "outputs": [
    {
     "name": "stdout",
     "output_type": "stream",
     "text": [
      "+-----+-----+-----+\n",
      "|grade|losal|hisal|\n",
      "+-----+-----+-----+\n",
      "|    1|  700| 1200|\n",
      "|    2| 1201| 1400|\n",
      "|    3| 1401| 2000|\n",
      "|    4| 2001| 3000|\n",
      "|    5| 3001| 9999|\n",
      "+-----+-----+-----+\n",
      "\n"
     ]
    },
    {
     "name": "stderr",
     "output_type": "stream",
     "text": [
      "Tue Dec 17 13:36:58 KST 2024 WARN: Establishing SSL connection without server's identity verification is not recommended. According to MySQL 5.5.45+, 5.6.26+ and 5.7.6+ requirements SSL connection must be established by default if explicit option isn't set. For compliance with existing applications not using SSL the verifyServerCertificate property is set to 'false'. You need either to explicitly disable SSL by setting useSSL=false, or set useSSL=true and provide truststore for server certificate verification.\n",
      "Tue Dec 17 13:36:58 KST 2024 WARN: Establishing SSL connection without server's identity verification is not recommended. According to MySQL 5.5.45+, 5.6.26+ and 5.7.6+ requirements SSL connection must be established by default if explicit option isn't set. For compliance with existing applications not using SSL the verifyServerCertificate property is set to 'false'. You need either to explicitly disable SSL by setting useSSL=false, or set useSSL=true and provide truststore for server certificate verification.\n"
     ]
    }
   ],
   "source": [
    "# 연결해서 해보기\n",
    "mysql_url = f\"jdbc:mysql://{host_ip}:3306/my_db\"\n",
    "salgrade_df = spark.read.format(\"jdbc\").options(\n",
    "    url = mysql_url,\n",
    "    driver = \"com.mysql.jdbc.Driver\",\n",
    "    dbtable=\"salgrade\",\n",
    "    user=user_id,\n",
    "    password=user_password\n",
    ").load()\n",
    "\n",
    "salgrade_df.show()"
   ]
  },
  {
   "cell_type": "code",
   "execution_count": 21,
   "id": "507111e5-55b2-4c81-94cc-277af2a8bfc0",
   "metadata": {},
   "outputs": [
    {
     "name": "stdout",
     "output_type": "stream",
     "text": [
      "+-----+-----+-----+\n",
      "|grade|losal|hisal|\n",
      "+-----+-----+-----+\n",
      "|    1|  700| 1200|\n",
      "|    2| 1201| 1400|\n",
      "|    3| 1401| 2000|\n",
      "|    4| 2001| 3000|\n",
      "|    5| 3001| 9999|\n",
      "+-----+-----+-----+\n",
      "\n"
     ]
    },
    {
     "name": "stderr",
     "output_type": "stream",
     "text": [
      "Tue Dec 17 14:00:22 KST 2024 WARN: Establishing SSL connection without server's identity verification is not recommended. According to MySQL 5.5.45+, 5.6.26+ and 5.7.6+ requirements SSL connection must be established by default if explicit option isn't set. For compliance with existing applications not using SSL the verifyServerCertificate property is set to 'false'. You need either to explicitly disable SSL by setting useSSL=false, or set useSSL=true and provide truststore for server certificate verification.\n"
     ]
    }
   ],
   "source": [
    "salgrade_df.createOrReplaceTempView(\"salgrade\")\n",
    "\n",
    "spark.sql(\"SELECT * FROM salgrade\").show()"
   ]
  },
  {
   "cell_type": "code",
   "execution_count": 22,
   "id": "9d901fde-a033-4306-a274-15f33cf87151",
   "metadata": {},
   "outputs": [
    {
     "name": "stdout",
     "output_type": "stream",
     "text": [
      "+-----+-----------------+\n",
      "|grade|salary_difference|\n",
      "+-----+-----------------+\n",
      "|    1|              500|\n",
      "|    2|              199|\n",
      "|    3|              599|\n",
      "|    4|              999|\n",
      "|    5|             6998|\n",
      "+-----+-----------------+\n",
      "\n"
     ]
    },
    {
     "name": "stderr",
     "output_type": "stream",
     "text": [
      "Tue Dec 17 14:00:39 KST 2024 WARN: Establishing SSL connection without server's identity verification is not recommended. According to MySQL 5.5.45+, 5.6.26+ and 5.7.6+ requirements SSL connection must be established by default if explicit option isn't set. For compliance with existing applications not using SSL the verifyServerCertificate property is set to 'false'. You need either to explicitly disable SSL by setting useSSL=false, or set useSSL=true and provide truststore for server certificate verification.\n"
     ]
    }
   ],
   "source": [
    "spark.sql(\"\"\"\n",
    "    SELECT grade, (hisal - losal) AS salary_difference\n",
    "    FROM salgrade\n",
    "\"\"\").show()"
   ]
  },
  {
   "cell_type": "code",
   "execution_count": 23,
   "id": "c448ea77-28a4-4aa0-becd-55b5d897c7a5",
   "metadata": {},
   "outputs": [
    {
     "name": "stdout",
     "output_type": "stream",
     "text": [
      "+-----+-----+-----+\n",
      "|grade|losal|hisal|\n",
      "+-----+-----+-----+\n",
      "|    3| 1401| 2000|\n",
      "|    4| 2001| 3000|\n",
      "|    5| 3001| 9999|\n",
      "+-----+-----+-----+\n",
      "\n"
     ]
    },
    {
     "name": "stderr",
     "output_type": "stream",
     "text": [
      "Tue Dec 17 14:00:59 KST 2024 WARN: Establishing SSL connection without server's identity verification is not recommended. According to MySQL 5.5.45+, 5.6.26+ and 5.7.6+ requirements SSL connection must be established by default if explicit option isn't set. For compliance with existing applications not using SSL the verifyServerCertificate property is set to 'false'. You need either to explicitly disable SSL by setting useSSL=false, or set useSSL=true and provide truststore for server certificate verification.\n"
     ]
    }
   ],
   "source": [
    "spark.sql(\"\"\"\n",
    "    SELECT *\n",
    "    FROM salgrade\n",
    "    WHERE grade >= 3\n",
    "\"\"\").show()"
   ]
  },
  {
   "cell_type": "code",
   "execution_count": 24,
   "id": "5c070853-3f71-409e-81fc-35b25daff646",
   "metadata": {},
   "outputs": [],
   "source": [
    "spark.stop()"
   ]
  },
  {
   "cell_type": "code",
   "execution_count": 25,
   "id": "cde2a7d3-2e95-4b34-9fda-0830e9fcf68b",
   "metadata": {},
   "outputs": [
    {
     "name": "stdout",
     "output_type": "stream",
     "text": [
      "+----------+\n",
      "|     value|\n",
      "+----------+\n",
      "|Hello HDFS|\n",
      "+----------+\n",
      "\n"
     ]
    }
   ],
   "source": [
    "from pyspark.sql import SparkSession\n",
    "\n",
    "# SparkSession 생성\n",
    "spark = SparkSession.builder \\\n",
    "    .appName(\"HDFS Test\") \\\n",
    "    .config(\"spark.hadoop.fs.defaultFS\", \"hdfs://localhost:9000\") \\\n",
    "    .getOrCreate()\n",
    "\n",
    "# HDFS 파일 읽기\n",
    "df = spark.read.text(\"hdfs://localhost:9000/test/testfile.txt\")\n",
    "df.show()\n"
   ]
  },
  {
   "cell_type": "code",
   "execution_count": null,
   "id": "7e215d11-be15-414f-a27e-9b29c2e3893c",
   "metadata": {},
   "outputs": [],
   "source": []
  }
 ],
 "metadata": {
  "kernelspec": {
   "display_name": "Python (spark_start)",
   "language": "python",
   "name": "spark_start"
  },
  "language_info": {
   "codemirror_mode": {
    "name": "ipython",
    "version": 3
   },
   "file_extension": ".py",
   "mimetype": "text/x-python",
   "name": "python",
   "nbconvert_exporter": "python",
   "pygments_lexer": "ipython3",
   "version": "3.8.2"
  }
 },
 "nbformat": 4,
 "nbformat_minor": 5
}
